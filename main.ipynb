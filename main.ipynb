{
  "cells": [
    {
      "attachments": {},
      "cell_type": "markdown",
      "id": "4b756345",
      "metadata": {},
      "source": [
        "**First we import all the necessary library we're going to use in the code**"
      ]
    },
    {
      "cell_type": "code",
      "execution_count": 2,
      "id": "83adb170",
      "metadata": {
        "id": "83adb170"
      },
      "outputs": [],
      "source": [
        "import numpy as np\n",
        "import pandas as pd\n",
        "import sklearn\n",
        "import matplotlib.pyplot as plt\n",
        "import seaborn as sns\n",
        "import tensorflow as tf"
      ]
    },
    {
      "attachments": {},
      "cell_type": "markdown",
      "id": "FaBAiL62RgU4",
      "metadata": {
        "id": "FaBAiL62RgU4"
      },
      "source": [
        "#  CODE PROJECT "
      ]
    },
    {
      "cell_type": "markdown",
      "id": "XsFlcmzcRPlZ",
      "metadata": {
        "id": "XsFlcmzcRPlZ"
      },
      "source": [
        "Our job in order to promote the performance of our company's recommendation sytem begins by studying and analysing all the datasets."
      ]
    },
    {
      "attachments": {},
      "cell_type": "markdown",
      "id": "82af8637",
      "metadata": {
        "id": "82af8637"
      },
      "source": [
        "# CUSTOMERS"
      ]
    },
    {
      "attachments": {},
      "cell_type": "markdown",
      "id": "7f32111d",
      "metadata": {
        "id": "7f32111d"
      },
      "source": [
        "1. We begin by importing our customer dataset, which includes a unique identifier for each customer along with their age, newsletter subscription status (1 for subscribed, 0 for not subscribed), and membership in a special club. To gain an understanding of the data, we print the first five items and use the shape function to determine the overall size of the dataset."
      ]
    },
    {
      "cell_type": "code",
      "execution_count": 3,
      "id": "d6de69e7",
      "metadata": {
        "colab": {
          "base_uri": "https://localhost:8080/",
          "height": 204
        },
        "id": "d6de69e7",
        "outputId": "0f0f6abc-dd15-4467-fc14-61a1447a08f8"
      },
      "outputs": [
        {
          "data": {
            "text/html": [
              "<div>\n",
              "<style scoped>\n",
              "    .dataframe tbody tr th:only-of-type {\n",
              "        vertical-align: middle;\n",
              "    }\n",
              "\n",
              "    .dataframe tbody tr th {\n",
              "        vertical-align: top;\n",
              "    }\n",
              "\n",
              "    .dataframe thead th {\n",
              "        text-align: right;\n",
              "    }\n",
              "</style>\n",
              "<table border=\"1\" class=\"dataframe\">\n",
              "  <thead>\n",
              "    <tr style=\"text-align: right;\">\n",
              "      <th></th>\n",
              "      <th>customer_id</th>\n",
              "      <th>fashion_news</th>\n",
              "      <th>club_member</th>\n",
              "      <th>age</th>\n",
              "    </tr>\n",
              "  </thead>\n",
              "  <tbody>\n",
              "    <tr>\n",
              "      <th>0</th>\n",
              "      <td>0</td>\n",
              "      <td>1</td>\n",
              "      <td>1</td>\n",
              "      <td>44.0</td>\n",
              "    </tr>\n",
              "    <tr>\n",
              "      <th>1</th>\n",
              "      <td>1</td>\n",
              "      <td>1</td>\n",
              "      <td>1</td>\n",
              "      <td>33.0</td>\n",
              "    </tr>\n",
              "    <tr>\n",
              "      <th>2</th>\n",
              "      <td>2</td>\n",
              "      <td>0</td>\n",
              "      <td>0</td>\n",
              "      <td>29.0</td>\n",
              "    </tr>\n",
              "    <tr>\n",
              "      <th>3</th>\n",
              "      <td>3</td>\n",
              "      <td>0</td>\n",
              "      <td>0</td>\n",
              "      <td>21.0</td>\n",
              "    </tr>\n",
              "    <tr>\n",
              "      <th>4</th>\n",
              "      <td>4</td>\n",
              "      <td>0</td>\n",
              "      <td>0</td>\n",
              "      <td>23.0</td>\n",
              "    </tr>\n",
              "  </tbody>\n",
              "</table>\n",
              "</div>"
            ],
            "text/plain": [
              "   customer_id  fashion_news  club_member   age\n",
              "0            0             1            1  44.0\n",
              "1            1             1            1  33.0\n",
              "2            2             0            0  29.0\n",
              "3            3             0            0  21.0\n",
              "4            4             0            0  23.0"
            ]
          },
          "execution_count": 3,
          "metadata": {},
          "output_type": "execute_result"
        }
      ],
      "source": [
        "customers = pd.read_csv(\"recsys_customers.csv\")\n",
        "customers.head()"
      ]
    },
    {
      "attachments": {},
      "cell_type": "markdown",
      "id": "88958f03",
      "metadata": {},
      "source": [
        "knowing how big the file is "
      ]
    },
    {
      "cell_type": "code",
      "execution_count": 4,
      "id": "198bdeb3",
      "metadata": {
        "colab": {
          "base_uri": "https://localhost:8080/"
        },
        "id": "198bdeb3",
        "outputId": "7d825df6-c978-4974-8f6d-7f2178eb6ea4"
      },
      "outputs": [
        {
          "data": {
            "text/plain": [
              "(41253, 4)"
            ]
          },
          "execution_count": 4,
          "metadata": {},
          "output_type": "execute_result"
        }
      ],
      "source": [
        "customers.shape"
      ]
    },
    {
      "attachments": {},
      "cell_type": "markdown",
      "id": "4618a7aa",
      "metadata": {
        "id": "4618a7aa"
      },
      "source": [
        "One of our tasks is to locate columns with potentially missing values (NaN) in order to properly handle them."
      ]
    },
    {
      "cell_type": "code",
      "execution_count": 5,
      "id": "51d7797d",
      "metadata": {
        "colab": {
          "base_uri": "https://localhost:8080/"
        },
        "id": "51d7797d",
        "outputId": "4579fe57-7301-4ac9-9198-b3f167b3cffa"
      },
      "outputs": [
        {
          "data": {
            "text/plain": [
              "customer_id       0\n",
              "fashion_news      0\n",
              "club_member       0\n",
              "age             133\n",
              "dtype: int64"
            ]
          },
          "execution_count": 5,
          "metadata": {},
          "output_type": "execute_result"
        }
      ],
      "source": [
        "customers.isnull().sum()"
      ]
    },
    {
      "attachments": {},
      "cell_type": "markdown",
      "id": "78fd67f4",
      "metadata": {
        "id": "78fd67f4"
      },
      "source": [
        "among the 4 columns, only the age column has missing values. To evaluate the significance of these null values in relation to the entire dataset, we can compute their weight as a proportion of the dataset's size."
      ]
    },
    {
      "cell_type": "code",
      "execution_count": 6,
      "id": "1d0b05d6",
      "metadata": {
        "colab": {
          "base_uri": "https://localhost:8080/"
        },
        "id": "1d0b05d6",
        "outputId": "31fc16a6-7209-4190-8c25-ba1fcd3b3c50"
      },
      "outputs": [
        {
          "name": "stdout",
          "output_type": "stream",
          "text": [
            "The null percentage of age is: 0.0032240079509369014\n"
          ]
        }
      ],
      "source": [
        "null_percentage= customers['age'].isnull().sum()/ len(customers)\n",
        "print('The null percentage of age is: ' + str(null_percentage))"
      ]
    },
    {
      "attachments": {},
      "cell_type": "markdown",
      "id": "8a96e827",
      "metadata": {
        "id": "8a96e827"
      },
      "source": [
        "The percentage of null values is fairly low, at approximately 0.32%. At this point, we can choose between two approaches: deleting all rows with null values in the age column, or replacing the null cells with the most common age values. \n",
        "\n",
        "We opted to replace all NaN values with the most frequent age value, which is 26."
      ]
    },
    {
      "cell_type": "code",
      "execution_count": 7,
      "id": "1a5bcefa",
      "metadata": {
        "colab": {
          "base_uri": "https://localhost:8080/"
        },
        "id": "1a5bcefa",
        "outputId": "b79f2b5f-bc7e-45cc-c736-b791b73c636d"
      },
      "outputs": [
        {
          "data": {
            "text/plain": [
              "0    26.0\n",
              "Name: age, dtype: float64"
            ]
          },
          "execution_count": 7,
          "metadata": {},
          "output_type": "execute_result"
        }
      ],
      "source": [
        "customers.age.mode()"
      ]
    },
    {
      "cell_type": "code",
      "execution_count": 8,
      "id": "a62c232e",
      "metadata": {
        "id": "a62c232e"
      },
      "outputs": [],
      "source": [
        "mode_age = customers['age'].mode()[0]\n",
        "customers['age'] = customers['age'].fillna(mode_age)"
      ]
    },
    {
      "attachments": {},
      "cell_type": "markdown",
      "id": "3e6926c4",
      "metadata": {
        "id": "3e6926c4"
      },
      "source": [
        "3. To make our data more easily understood and interpreted, we will convert the age column from a float to an integer data type."
      ]
    },
    {
      "cell_type": "code",
      "execution_count": 9,
      "id": "b9f9df77",
      "metadata": {
        "colab": {
          "base_uri": "https://localhost:8080/",
          "height": 204
        },
        "id": "b9f9df77",
        "outputId": "c316f876-655d-4dd3-f0cc-ded07410ad04"
      },
      "outputs": [
        {
          "data": {
            "text/html": [
              "<div>\n",
              "<style scoped>\n",
              "    .dataframe tbody tr th:only-of-type {\n",
              "        vertical-align: middle;\n",
              "    }\n",
              "\n",
              "    .dataframe tbody tr th {\n",
              "        vertical-align: top;\n",
              "    }\n",
              "\n",
              "    .dataframe thead th {\n",
              "        text-align: right;\n",
              "    }\n",
              "</style>\n",
              "<table border=\"1\" class=\"dataframe\">\n",
              "  <thead>\n",
              "    <tr style=\"text-align: right;\">\n",
              "      <th></th>\n",
              "      <th>customer_id</th>\n",
              "      <th>fashion_news</th>\n",
              "      <th>club_member</th>\n",
              "      <th>age</th>\n",
              "    </tr>\n",
              "  </thead>\n",
              "  <tbody>\n",
              "    <tr>\n",
              "      <th>0</th>\n",
              "      <td>0</td>\n",
              "      <td>1</td>\n",
              "      <td>1</td>\n",
              "      <td>44</td>\n",
              "    </tr>\n",
              "    <tr>\n",
              "      <th>1</th>\n",
              "      <td>1</td>\n",
              "      <td>1</td>\n",
              "      <td>1</td>\n",
              "      <td>33</td>\n",
              "    </tr>\n",
              "    <tr>\n",
              "      <th>2</th>\n",
              "      <td>2</td>\n",
              "      <td>0</td>\n",
              "      <td>0</td>\n",
              "      <td>29</td>\n",
              "    </tr>\n",
              "    <tr>\n",
              "      <th>3</th>\n",
              "      <td>3</td>\n",
              "      <td>0</td>\n",
              "      <td>0</td>\n",
              "      <td>21</td>\n",
              "    </tr>\n",
              "    <tr>\n",
              "      <th>4</th>\n",
              "      <td>4</td>\n",
              "      <td>0</td>\n",
              "      <td>0</td>\n",
              "      <td>23</td>\n",
              "    </tr>\n",
              "  </tbody>\n",
              "</table>\n",
              "</div>"
            ],
            "text/plain": [
              "   customer_id  fashion_news  club_member  age\n",
              "0            0             1            1   44\n",
              "1            1             1            1   33\n",
              "2            2             0            0   29\n",
              "3            3             0            0   21\n",
              "4            4             0            0   23"
            ]
          },
          "execution_count": 9,
          "metadata": {},
          "output_type": "execute_result"
        }
      ],
      "source": [
        "customers[\"age\"] = customers[\"age\"].apply(int)\n",
        "customers.head()"
      ]
    },
    {
      "attachments": {},
      "cell_type": "markdown",
      "id": "0ce625c2",
      "metadata": {
        "id": "0ce625c2"
      },
      "source": [
        "4. To gain a deeper understanding of our data, we will divide the customers into 5 age groups based on the range of their ages. To do this, we will first determine the minimum and maximum age values and then use these values to create our \"clusters\"."
      ]
    },
    {
      "cell_type": "code",
      "execution_count": 10,
      "id": "7267d2f0",
      "metadata": {
        "colab": {
          "base_uri": "https://localhost:8080/"
        },
        "id": "7267d2f0",
        "outputId": "99509d47-7c91-4a83-fd27-4e3df008739a"
      },
      "outputs": [
        {
          "name": "stdout",
          "output_type": "stream",
          "text": [
            "The lowest age recorded is: 16\n",
            "The highest age recorded is: 91\n"
          ]
        }
      ],
      "source": [
        "print(\"The lowest age recorded is: \" + str(min(customers[\"age\"])))\n",
        "print(\"The highest age recorded is: \" + str(max(customers[\"age\"])))"
      ]
    },
    {
      "attachments": {},
      "cell_type": "markdown",
      "id": "dc7268c1",
      "metadata": {
        "id": "dc7268c1"
      },
      "source": [
        "We are adding a new column to the original table that assigns each customer to their respective age category."
      ]
    },
    {
      "cell_type": "code",
      "execution_count": 18,
      "id": "4481d298",
      "metadata": {
        "colab": {
          "base_uri": "https://localhost:8080/",
          "height": 419
        },
        "id": "4481d298",
        "outputId": "3b8223b6-3bc1-4915-b6ab-a6f9b2db38d9"
      },
      "outputs": [
        {
          "data": {
            "text/html": [
              "<div>\n",
              "<style scoped>\n",
              "    .dataframe tbody tr th:only-of-type {\n",
              "        vertical-align: middle;\n",
              "    }\n",
              "\n",
              "    .dataframe tbody tr th {\n",
              "        vertical-align: top;\n",
              "    }\n",
              "\n",
              "    .dataframe thead th {\n",
              "        text-align: right;\n",
              "    }\n",
              "</style>\n",
              "<table border=\"1\" class=\"dataframe\">\n",
              "  <thead>\n",
              "    <tr style=\"text-align: right;\">\n",
              "      <th></th>\n",
              "      <th>customer_id</th>\n",
              "      <th>fashion_news</th>\n",
              "      <th>club_member</th>\n",
              "      <th>age</th>\n",
              "      <th>age_group</th>\n",
              "    </tr>\n",
              "  </thead>\n",
              "  <tbody>\n",
              "    <tr>\n",
              "      <th>0</th>\n",
              "      <td>0</td>\n",
              "      <td>1</td>\n",
              "      <td>1</td>\n",
              "      <td>44</td>\n",
              "      <td>40-49</td>\n",
              "    </tr>\n",
              "    <tr>\n",
              "      <th>1</th>\n",
              "      <td>1</td>\n",
              "      <td>1</td>\n",
              "      <td>1</td>\n",
              "      <td>33</td>\n",
              "      <td>30-39</td>\n",
              "    </tr>\n",
              "    <tr>\n",
              "      <th>2</th>\n",
              "      <td>2</td>\n",
              "      <td>0</td>\n",
              "      <td>0</td>\n",
              "      <td>29</td>\n",
              "      <td>24-29</td>\n",
              "    </tr>\n",
              "    <tr>\n",
              "      <th>3</th>\n",
              "      <td>3</td>\n",
              "      <td>0</td>\n",
              "      <td>0</td>\n",
              "      <td>21</td>\n",
              "      <td>1-23</td>\n",
              "    </tr>\n",
              "    <tr>\n",
              "      <th>4</th>\n",
              "      <td>4</td>\n",
              "      <td>0</td>\n",
              "      <td>0</td>\n",
              "      <td>23</td>\n",
              "      <td>1-23</td>\n",
              "    </tr>\n",
              "    <tr>\n",
              "      <th>...</th>\n",
              "      <td>...</td>\n",
              "      <td>...</td>\n",
              "      <td>...</td>\n",
              "      <td>...</td>\n",
              "      <td>...</td>\n",
              "    </tr>\n",
              "    <tr>\n",
              "      <th>41248</th>\n",
              "      <td>41248</td>\n",
              "      <td>1</td>\n",
              "      <td>1</td>\n",
              "      <td>33</td>\n",
              "      <td>30-39</td>\n",
              "    </tr>\n",
              "    <tr>\n",
              "      <th>41249</th>\n",
              "      <td>41249</td>\n",
              "      <td>0</td>\n",
              "      <td>0</td>\n",
              "      <td>25</td>\n",
              "      <td>24-29</td>\n",
              "    </tr>\n",
              "    <tr>\n",
              "      <th>41250</th>\n",
              "      <td>41250</td>\n",
              "      <td>1</td>\n",
              "      <td>1</td>\n",
              "      <td>20</td>\n",
              "      <td>1-23</td>\n",
              "    </tr>\n",
              "    <tr>\n",
              "      <th>41251</th>\n",
              "      <td>41251</td>\n",
              "      <td>1</td>\n",
              "      <td>1</td>\n",
              "      <td>29</td>\n",
              "      <td>24-29</td>\n",
              "    </tr>\n",
              "    <tr>\n",
              "      <th>41252</th>\n",
              "      <td>41252</td>\n",
              "      <td>0</td>\n",
              "      <td>0</td>\n",
              "      <td>24</td>\n",
              "      <td>24-29</td>\n",
              "    </tr>\n",
              "  </tbody>\n",
              "</table>\n",
              "<p>41253 rows × 5 columns</p>\n",
              "</div>"
            ],
            "text/plain": [
              "       customer_id  fashion_news  club_member  age age_group\n",
              "0                0             1            1   44     40-49\n",
              "1                1             1            1   33     30-39\n",
              "2                2             0            0   29     24-29\n",
              "3                3             0            0   21      1-23\n",
              "4                4             0            0   23      1-23\n",
              "...            ...           ...          ...  ...       ...\n",
              "41248        41248             1            1   33     30-39\n",
              "41249        41249             0            0   25     24-29\n",
              "41250        41250             1            1   20      1-23\n",
              "41251        41251             1            1   29     24-29\n",
              "41252        41252             0            0   24     24-29\n",
              "\n",
              "[41253 rows x 5 columns]"
            ]
          },
          "execution_count": 18,
          "metadata": {},
          "output_type": "execute_result"
        }
      ],
      "source": [
        "containers = [1, 23, 30, 40, 50, 60]\n",
        "collections = ['1-23', '24-29', '30-39','40-49','50+']\n",
        "\n",
        "customers['age_group'] = pd.cut(customers['age'], containers, labels=collections, include_lowest=True)\n",
        "customers"
      ]
    },
    {
      "attachments": {},
      "cell_type": "markdown",
      "id": "bc3fc118",
      "metadata": {
        "id": "bc3fc118"
      },
      "source": [
        "After categorizing each customer, we can use the group by function to count how many members belong to each category. The sum of the number of members in each category should equal the length of the dataset."
      ]
    },
    {
      "cell_type": "code",
      "execution_count": null,
      "id": "4852e405",
      "metadata": {
        "colab": {
          "base_uri": "https://localhost:8080/"
        },
        "id": "4852e405",
        "outputId": "9fecbc4c-cf06-43a1-dcb7-3bc613287962"
      },
      "outputs": [
        {
          "data": {
            "text/plain": [
              "age_group\n",
              "3-23      6747\n",
              "24-29    13718\n",
              "30-54     7348\n",
              "50-68     6501\n",
              "60+       5655\n",
              "dtype: int64"
            ]
          },
          "execution_count": 94,
          "metadata": {},
          "output_type": "execute_result"
        }
      ],
      "source": [
        "count_age_group = customers.groupby('age_group').size()\n",
        "count_age_group"
      ]
    },
    {
      "attachments": {},
      "cell_type": "markdown",
      "id": "e50a616c",
      "metadata": {
        "id": "e50a616c"
      },
      "source": [
        "5. Now that we have counted the number of members in each age group, we can create a barplot to visualize the heterogeneity of our dataset. As expected, there are significantly more younger customers compared to older ones."
      ]
    },
    {
      "cell_type": "code",
      "execution_count": null,
      "id": "80a6499f",
      "metadata": {
        "colab": {
          "base_uri": "https://localhost:8080/",
          "height": 204
        },
        "id": "80a6499f",
        "outputId": "57271ab1-489a-4f30-945a-c0918f3cca4f"
      },
      "outputs": [
        {
          "data": {
            "text/html": [
              "<div>\n",
              "<style scoped>\n",
              "    .dataframe tbody tr th:only-of-type {\n",
              "        vertical-align: middle;\n",
              "    }\n",
              "\n",
              "    .dataframe tbody tr th {\n",
              "        vertical-align: top;\n",
              "    }\n",
              "\n",
              "    .dataframe thead th {\n",
              "        text-align: right;\n",
              "    }\n",
              "</style>\n",
              "<table border=\"1\" class=\"dataframe\">\n",
              "  <thead>\n",
              "    <tr style=\"text-align: right;\">\n",
              "      <th></th>\n",
              "      <th>Age Group</th>\n",
              "      <th>Count</th>\n",
              "    </tr>\n",
              "  </thead>\n",
              "  <tbody>\n",
              "    <tr>\n",
              "      <th>0</th>\n",
              "      <td>3-23</td>\n",
              "      <td>6747</td>\n",
              "    </tr>\n",
              "    <tr>\n",
              "      <th>1</th>\n",
              "      <td>24-29</td>\n",
              "      <td>13718</td>\n",
              "    </tr>\n",
              "    <tr>\n",
              "      <th>2</th>\n",
              "      <td>30-54</td>\n",
              "      <td>7348</td>\n",
              "    </tr>\n",
              "    <tr>\n",
              "      <th>3</th>\n",
              "      <td>50-68</td>\n",
              "      <td>6501</td>\n",
              "    </tr>\n",
              "    <tr>\n",
              "      <th>4</th>\n",
              "      <td>60+</td>\n",
              "      <td>5655</td>\n",
              "    </tr>\n",
              "  </tbody>\n",
              "</table>\n",
              "</div>"
            ],
            "text/plain": [
              "  Age Group  Count\n",
              "0      3-23   6747\n",
              "1     24-29  13718\n",
              "2     30-54   7348\n",
              "3     50-68   6501\n",
              "4       60+   5655"
            ]
          },
          "execution_count": 95,
          "metadata": {},
          "output_type": "execute_result"
        }
      ],
      "source": [
        "count_age_group_df = pd.DataFrame(count_age_group).reset_index()\n",
        "count_age_group_df.columns = ['Age Group', 'Count']\n",
        "count_age_group_df"
      ]
    },
    {
      "attachments": {},
      "cell_type": "markdown",
      "id": "ba871b0c",
      "metadata": {
        "id": "ba871b0c"
      },
      "source": [
        "6. To better understand the age distribution of our data, we can create a plot. Our data shows that there are significantly more people under 50 years old compared to those over 50. In fact, the percentage of people below 50 years old is 85.2%. We can use this information to create a plot that illustrates the age distribution in our dataset."
      ]
    },
    {
      "cell_type": "code",
      "execution_count": null,
      "id": "8af46854",
      "metadata": {
        "colab": {
          "base_uri": "https://localhost:8080/"
        },
        "id": "8af46854",
        "outputId": "721601ce-676e-4177-a54b-7130f7ad5906"
      },
      "outputs": [
        {
          "name": "stdout",
          "output_type": "stream",
          "text": [
            "The percentage of people under 50 years old is: 69.59%\n"
          ]
        }
      ],
      "source": [
        "age_groups = ['Under 50', 'Over 50']\n",
        "people_under_50 = count_age_group[0] + count_age_group[1] + count_age_group[2]\n",
        "people_over_50 = count_age_group[3] + count_age_group[4]\n",
        "customer_counts = [people_under_50, people_over_50]\n",
        "\n",
        "total_number_customers = sum(customer_counts)\n",
        "percentage_under_50 = round((people_under_50 / total_number_customers) * 100, 2)\n",
        "print(f'The percentage of people under 50 years old is: {percentage_under_50}%')"
      ]
    },
    {
      "cell_type": "code",
      "execution_count": null,
      "id": "176e7bda",
      "metadata": {
        "colab": {
          "base_uri": "https://localhost:8080/",
          "height": 353
        },
        "id": "176e7bda",
        "outputId": "a261cc91-29e3-408f-d715-83b5441101ff"
      },
      "outputs": [
        {
          "data": {
            "image/png": "[encoded data removed]",
            "text/plain": [
              "<Figure size 720x360 with 1 Axes>"
            ]
          },
          "metadata": {},
          "output_type": "display_data"
        }
      ],
      "source": [
        "import matplotlib.pyplot as plt\n",
        "import seaborn as sns\n",
        "\n",
        "plt.figure(figsize=(10,5))\n",
        "sns.barplot(x='Age Group', y='Count', data=count_age_group_df)\n",
        "plt.xticks(rotation=90)\n",
        "plt.xlabel('Age Group')\n",
        "plt.ylabel('Count')\n",
        "plt.title('Age Group Distribution')\n",
        "plt.show()"
      ]
    },
    {
      "attachments": {},
      "cell_type": "markdown",
      "id": "8b2e077b",
      "metadata": {
        "id": "8b2e077b"
      },
      "source": [
        "7.  In order to get a better understanding of our customer base, we should also track how many people in each age group have joined the club and how many have activated the fashion news feature. The 'club member' and 'fashion news' columns in our data have two possible values: 1 if the customer is subscribed, or 0 if they are not."
      ]
    },
    {
      "cell_type": "markdown",
      "id": "aade4f73",
      "metadata": {
        "id": "aade4f73"
      },
      "source": [
        "We know that both columns of 'club member' and 'fashion news' have two possible values:\n",
        "- 1 if the customer is subscribed to the club member or to fashion news\n",
        "- 0 if the customer is not subscribed"
      ]
    },
    {
      "attachments": {},
      "cell_type": "markdown",
      "id": "b6e1d244",
      "metadata": {
        "id": "b6e1d244"
      },
      "source": [
        "#### **membership Club**"
      ]
    },
    {
      "cell_type": "code",
      "execution_count": null,
      "id": "043ed9b0",
      "metadata": {
        "colab": {
          "base_uri": "https://localhost:8080/"
        },
        "id": "043ed9b0",
        "outputId": "eac3aa1d-afd6-4cf0-b0da-6e13144992e1"
      },
      "outputs": [
        {
          "data": {
            "text/plain": [
              "Counter({1: 17975, 0: 23278})"
            ]
          },
          "execution_count": 98,
          "metadata": {},
          "output_type": "execute_result"
        }
      ],
      "source": [
        "from collections import Counter\n",
        "\n",
        "total_club = Counter(customers['club_member'])\n",
        "total_club"
      ]
    },
    {
      "attachments": {},
      "cell_type": "markdown",
      "id": "cfb9807f",
      "metadata": {
        "id": "cfb9807f"
      },
      "source": [
        "To analyze the subscription status of our customers, we can create a DataFrame that includes two columns: one for customers who are subscribed, and one for those who are not. We can then use this DataFrame to count the number of customers in each group."
      ]
    },
    {
      "cell_type": "code",
      "execution_count": null,
      "id": "23e4c392",
      "metadata": {
        "colab": {
          "base_uri": "https://localhost:8080/",
          "height": 111
        },
        "id": "23e4c392",
        "outputId": "669779ef-b5d3-4b69-b8de-d8208c814998"
      },
      "outputs": [
        {
          "data": {
            "text/html": [
              "<div>\n",
              "<style scoped>\n",
              "    .dataframe tbody tr th:only-of-type {\n",
              "        vertical-align: middle;\n",
              "    }\n",
              "\n",
              "    .dataframe tbody tr th {\n",
              "        vertical-align: top;\n",
              "    }\n",
              "\n",
              "    .dataframe thead th {\n",
              "        text-align: right;\n",
              "    }\n",
              "</style>\n",
              "<table border=\"1\" class=\"dataframe\">\n",
              "  <thead>\n",
              "    <tr style=\"text-align: right;\">\n",
              "      <th></th>\n",
              "      <th>Premium Club (1=yes, 0=no)</th>\n",
              "      <th>Count</th>\n",
              "    </tr>\n",
              "  </thead>\n",
              "  <tbody>\n",
              "    <tr>\n",
              "      <th>0</th>\n",
              "      <td>1</td>\n",
              "      <td>17975</td>\n",
              "    </tr>\n",
              "    <tr>\n",
              "      <th>1</th>\n",
              "      <td>0</td>\n",
              "      <td>23278</td>\n",
              "    </tr>\n",
              "  </tbody>\n",
              "</table>\n",
              "</div>"
            ],
            "text/plain": [
              "   Premium Club (1=yes, 0=no)  Count\n",
              "0                           1  17975\n",
              "1                           0  23278"
            ]
          },
          "execution_count": 99,
          "metadata": {},
          "output_type": "execute_result"
        }
      ],
      "source": [
        "total_club_df = pd.DataFrame([total_club]).T.reset_index()\n",
        "total_club_df.columns = ['Premium Club (1=yes, 0=no)', 'Count']\n",
        "total_club_df"
      ]
    },
    {
      "attachments": {},
      "cell_type": "markdown",
      "id": "1e683cc8",
      "metadata": {
        "id": "1e683cc8"
      },
      "source": [
        "\"Although the graph of our current DataFrame provides some information, it is not very useful because we cannot see which age group each customer belongs to. To get a more detailed understanding of our customer base, we may want to create a new DataFrame that categorizes customers as either subscribed or not subscribed, and also groups them by age. This would allow us to capture more information and gain a deeper insight into our customer data."
      ]
    },
    {
      "cell_type": "code",
      "execution_count": null,
      "id": "3c0f1f97",
      "metadata": {
        "colab": {
          "base_uri": "https://localhost:8080/",
          "height": 330
        },
        "id": "3c0f1f97",
        "outputId": "08d03cf8-9957-4a89-d95c-9e49cc41b80a"
      },
      "outputs": [
        {
          "data": {
            "image/png": "[encoded data removed]",
            "text/plain": [
              "<Figure size 720x360 with 1 Axes>"
            ]
          },
          "metadata": {},
          "output_type": "display_data"
        }
      ],
      "source": [
        "plt.figure(figsize=(10,5))\n",
        "sns.barplot(x='Premium Club (1=yes, 0=no)', y='Count', data=total_club_df)\n",
        "plt.xticks(rotation=90)\n",
        "plt.show()"
      ]
    },
    {
      "cell_type": "code",
      "execution_count": null,
      "id": "c1fc4316",
      "metadata": {
        "colab": {
          "base_uri": "https://localhost:8080/",
          "height": 359
        },
        "id": "c1fc4316",
        "outputId": "06907cb1-084b-4d27-b83e-627705e2cc9d"
      },
      "outputs": [
        {
          "data": {
            "text/html": [
              "<div>\n",
              "<style scoped>\n",
              "    .dataframe tbody tr th:only-of-type {\n",
              "        vertical-align: middle;\n",
              "    }\n",
              "\n",
              "    .dataframe tbody tr th {\n",
              "        vertical-align: top;\n",
              "    }\n",
              "\n",
              "    .dataframe thead th {\n",
              "        text-align: right;\n",
              "    }\n",
              "</style>\n",
              "<table border=\"1\" class=\"dataframe\">\n",
              "  <thead>\n",
              "    <tr style=\"text-align: right;\">\n",
              "      <th></th>\n",
              "      <th>age_group</th>\n",
              "      <th>club_member</th>\n",
              "      <th>count</th>\n",
              "    </tr>\n",
              "  </thead>\n",
              "  <tbody>\n",
              "    <tr>\n",
              "      <th>0</th>\n",
              "      <td>3-23</td>\n",
              "      <td>0</td>\n",
              "      <td>3533</td>\n",
              "    </tr>\n",
              "    <tr>\n",
              "      <th>1</th>\n",
              "      <td>3-23</td>\n",
              "      <td>1</td>\n",
              "      <td>3214</td>\n",
              "    </tr>\n",
              "    <tr>\n",
              "      <th>2</th>\n",
              "      <td>24-29</td>\n",
              "      <td>0</td>\n",
              "      <td>8506</td>\n",
              "    </tr>\n",
              "    <tr>\n",
              "      <th>3</th>\n",
              "      <td>24-29</td>\n",
              "      <td>1</td>\n",
              "      <td>5212</td>\n",
              "    </tr>\n",
              "    <tr>\n",
              "      <th>4</th>\n",
              "      <td>30-54</td>\n",
              "      <td>0</td>\n",
              "      <td>4320</td>\n",
              "    </tr>\n",
              "    <tr>\n",
              "      <th>5</th>\n",
              "      <td>30-54</td>\n",
              "      <td>1</td>\n",
              "      <td>3028</td>\n",
              "    </tr>\n",
              "    <tr>\n",
              "      <th>6</th>\n",
              "      <td>50-68</td>\n",
              "      <td>0</td>\n",
              "      <td>3533</td>\n",
              "    </tr>\n",
              "    <tr>\n",
              "      <th>7</th>\n",
              "      <td>50-68</td>\n",
              "      <td>1</td>\n",
              "      <td>2968</td>\n",
              "    </tr>\n",
              "    <tr>\n",
              "      <th>8</th>\n",
              "      <td>60+</td>\n",
              "      <td>0</td>\n",
              "      <td>2849</td>\n",
              "    </tr>\n",
              "    <tr>\n",
              "      <th>9</th>\n",
              "      <td>60+</td>\n",
              "      <td>1</td>\n",
              "      <td>2806</td>\n",
              "    </tr>\n",
              "  </tbody>\n",
              "</table>\n",
              "</div>"
            ],
            "text/plain": [
              "  age_group  club_member  count\n",
              "0      3-23            0   3533\n",
              "1      3-23            1   3214\n",
              "2     24-29            0   8506\n",
              "3     24-29            1   5212\n",
              "4     30-54            0   4320\n",
              "5     30-54            1   3028\n",
              "6     50-68            0   3533\n",
              "7     50-68            1   2968\n",
              "8       60+            0   2849\n",
              "9       60+            1   2806"
            ]
          },
          "execution_count": 101,
          "metadata": {},
          "output_type": "execute_result"
        }
      ],
      "source": [
        "club_membership_df = customers.groupby(['age_group', 'club_member']).count().reset_index()\n",
        "club_membership_df = club_membership_df.drop(columns=['fashion_news', 'age'])\n",
        "club_membership_df.columns = ['age_group', 'club_member', 'count']\n",
        "club_membership_df"
      ]
    },
    {
      "cell_type": "markdown",
      "id": "91e78484",
      "metadata": {
        "id": "91e78484"
      },
      "source": [
        "On average there are more people which are not subscribed to the premium club. However, most of the people who are subscribed are youngsters. For what concerns elderly people, their percentage of influence in the dataset is very small."
      ]
    },
    {
      "cell_type": "code",
      "execution_count": null,
      "id": "f9f6abe7",
      "metadata": {
        "colab": {
          "base_uri": "https://localhost:8080/",
          "height": 353
        },
        "id": "f9f6abe7",
        "outputId": "dd4cf747-a489-4828-ca0c-99c54b411c71"
      },
      "outputs": [
        {
          "data": {
            "image/png": "[encoded data removed]",
            "text/plain": [
              "<Figure size 720x360 with 1 Axes>"
            ]
          },
          "metadata": {},
          "output_type": "display_data"
        }
      ],
      "source": [
        "plt.figure(figsize=(10,5))\n",
        "sns.barplot(x='age_group', y='count', hue='club_member', data=club_membership_df)\n",
        "plt.xticks(rotation=90)\n",
        "plt.show()"
      ]
    },
    {
      "cell_type": "markdown",
      "id": "cb185585",
      "metadata": {
        "id": "cb185585"
      },
      "source": [
        "#### **Fashion news**"
      ]
    },
    {
      "attachments": {},
      "cell_type": "markdown",
      "id": "qo7vVqTm64jP",
      "metadata": {
        "id": "qo7vVqTm64jP"
      },
      "source": [
        "\"In general, there are more people who are not subscribed to the premium club. However, the majority of subscribers are young. Elderly people make up a small percentage of our customer base"
      ]
    },
    {
      "cell_type": "code",
      "execution_count": null,
      "id": "de21f5e4",
      "metadata": {
        "colab": {
          "base_uri": "https://localhost:8080/",
          "height": 111
        },
        "id": "de21f5e4",
        "outputId": "f30643fb-d0c5-4efd-c9fb-3541fab4b6c8"
      },
      "outputs": [
        {
          "data": {
            "text/html": [
              "<div>\n",
              "<style scoped>\n",
              "    .dataframe tbody tr th:only-of-type {\n",
              "        vertical-align: middle;\n",
              "    }\n",
              "\n",
              "    .dataframe tbody tr th {\n",
              "        vertical-align: top;\n",
              "    }\n",
              "\n",
              "    .dataframe thead th {\n",
              "        text-align: right;\n",
              "    }\n",
              "</style>\n",
              "<table border=\"1\" class=\"dataframe\">\n",
              "  <thead>\n",
              "    <tr style=\"text-align: right;\">\n",
              "      <th></th>\n",
              "      <th>Fashion News (1=yes, 0=no)</th>\n",
              "      <th>Count</th>\n",
              "    </tr>\n",
              "  </thead>\n",
              "  <tbody>\n",
              "    <tr>\n",
              "      <th>0</th>\n",
              "      <td>1</td>\n",
              "      <td>18213</td>\n",
              "    </tr>\n",
              "    <tr>\n",
              "      <th>1</th>\n",
              "      <td>0</td>\n",
              "      <td>23040</td>\n",
              "    </tr>\n",
              "  </tbody>\n",
              "</table>\n",
              "</div>"
            ],
            "text/plain": [
              "   Fashion News (1=yes, 0=no)  Count\n",
              "0                           1  18213\n",
              "1                           0  23040"
            ]
          },
          "execution_count": 103,
          "metadata": {},
          "output_type": "execute_result"
        }
      ],
      "source": [
        "from collections import Counter\n",
        "general_fashion = Counter(customers['fashion_news'])\n",
        "\n",
        "general_fashion_df = pd.DataFrame([general_fashion]).T.reset_index()\n",
        "general_fashion_df.columns = ['Fashion News (1=yes, 0=no)', 'Count']\n",
        "general_fashion_df"
      ]
    },
    {
      "cell_type": "code",
      "execution_count": null,
      "id": "7da41239",
      "metadata": {
        "colab": {
          "base_uri": "https://localhost:8080/",
          "height": 330
        },
        "id": "7da41239",
        "outputId": "93aef332-6e23-4429-fd27-5813bd2aa03f"
      },
      "outputs": [
        {
          "data": {
            "image/png": "[encoded data removed]",
            "text/plain": [
              "<Figure size 720x360 with 1 Axes>"
            ]
          },
          "metadata": {},
          "output_type": "display_data"
        }
      ],
      "source": [
        "plt.figure(figsize=(10,5))\n",
        "sns.barplot(x='Fashion News (1=yes, 0=no)', y='Count', data=general_fashion_df)\n",
        "plt.xticks(rotation=90)\n",
        "plt.show()"
      ]
    },
    {
      "cell_type": "code",
      "execution_count": null,
      "id": "f9009e74",
      "metadata": {
        "colab": {
          "base_uri": "https://localhost:8080/",
          "height": 359
        },
        "id": "f9009e74",
        "outputId": "c6b15e1e-a0e0-4d2f-f4a4-0ce738ec28f1"
      },
      "outputs": [
        {
          "data": {
            "text/html": [
              "<div>\n",
              "<style scoped>\n",
              "    .dataframe tbody tr th:only-of-type {\n",
              "        vertical-align: middle;\n",
              "    }\n",
              "\n",
              "    .dataframe tbody tr th {\n",
              "        vertical-align: top;\n",
              "    }\n",
              "\n",
              "    .dataframe thead th {\n",
              "        text-align: right;\n",
              "    }\n",
              "</style>\n",
              "<table border=\"1\" class=\"dataframe\">\n",
              "  <thead>\n",
              "    <tr style=\"text-align: right;\">\n",
              "      <th></th>\n",
              "      <th>age_group</th>\n",
              "      <th>fashion_news</th>\n",
              "      <th>count</th>\n",
              "    </tr>\n",
              "  </thead>\n",
              "  <tbody>\n",
              "    <tr>\n",
              "      <th>0</th>\n",
              "      <td>3-23</td>\n",
              "      <td>0</td>\n",
              "      <td>3461</td>\n",
              "    </tr>\n",
              "    <tr>\n",
              "      <th>1</th>\n",
              "      <td>3-23</td>\n",
              "      <td>1</td>\n",
              "      <td>3286</td>\n",
              "    </tr>\n",
              "    <tr>\n",
              "      <th>2</th>\n",
              "      <td>24-29</td>\n",
              "      <td>0</td>\n",
              "      <td>8440</td>\n",
              "    </tr>\n",
              "    <tr>\n",
              "      <th>3</th>\n",
              "      <td>24-29</td>\n",
              "      <td>1</td>\n",
              "      <td>5278</td>\n",
              "    </tr>\n",
              "    <tr>\n",
              "      <th>4</th>\n",
              "      <td>30-54</td>\n",
              "      <td>0</td>\n",
              "      <td>4284</td>\n",
              "    </tr>\n",
              "    <tr>\n",
              "      <th>5</th>\n",
              "      <td>30-54</td>\n",
              "      <td>1</td>\n",
              "      <td>3064</td>\n",
              "    </tr>\n",
              "    <tr>\n",
              "      <th>6</th>\n",
              "      <td>50-68</td>\n",
              "      <td>0</td>\n",
              "      <td>3502</td>\n",
              "    </tr>\n",
              "    <tr>\n",
              "      <th>7</th>\n",
              "      <td>50-68</td>\n",
              "      <td>1</td>\n",
              "      <td>2999</td>\n",
              "    </tr>\n",
              "    <tr>\n",
              "      <th>8</th>\n",
              "      <td>60+</td>\n",
              "      <td>0</td>\n",
              "      <td>2823</td>\n",
              "    </tr>\n",
              "    <tr>\n",
              "      <th>9</th>\n",
              "      <td>60+</td>\n",
              "      <td>1</td>\n",
              "      <td>2832</td>\n",
              "    </tr>\n",
              "  </tbody>\n",
              "</table>\n",
              "</div>"
            ],
            "text/plain": [
              "  age_group  fashion_news  count\n",
              "0      3-23             0   3461\n",
              "1      3-23             1   3286\n",
              "2     24-29             0   8440\n",
              "3     24-29             1   5278\n",
              "4     30-54             0   4284\n",
              "5     30-54             1   3064\n",
              "6     50-68             0   3502\n",
              "7     50-68             1   2999\n",
              "8       60+             0   2823\n",
              "9       60+             1   2832"
            ]
          },
          "execution_count": 105,
          "metadata": {},
          "output_type": "execute_result"
        }
      ],
      "source": [
        "news_fashion_df = customers.groupby(['age_group', 'fashion_news']).count().reset_index()\n",
        "news_fashion_df = news_fashion_df.drop(columns=['club_member', 'age'])\n",
        "news_fashion_df.columns = ['age_group', 'fashion_news', 'count']\n",
        "news_fashion_df"
      ]
    },
    {
      "attachments": {},
      "cell_type": "markdown",
      "id": "e05834c3",
      "metadata": {
        "id": "e05834c3"
      },
      "source": [
        "We can see from the graph below that the vast majority of people who are interested in fashion news are young people. However, compared to younger people, the likelihood that a person over 50 is connected to fashion news is higher."
      ]
    },
    {
      "cell_type": "code",
      "execution_count": null,
      "id": "3483862b",
      "metadata": {
        "colab": {
          "base_uri": "https://localhost:8080/",
          "height": 353
        },
        "id": "3483862b",
        "outputId": "bc1f39f3-1a74-471f-95fc-313e5a4db2bd"
      },
      "outputs": [
        {
          "data": {
            "image/png": "[encoded data removed]",
            "text/plain": [
              "<Figure size 720x360 with 1 Axes>"
            ]
          },
          "metadata": {},
          "output_type": "display_data"
        }
      ],
      "source": [
        "plt.figure(figsize=(10,5))\n",
        "sns.barplot(x='age_group', y='count', hue='fashion_news', data=news_fashion_df)\n",
        "plt.xticks(rotation=90)\n",
        "plt.show()"
      ]
    },
    {
      "attachments": {},
      "cell_type": "markdown",
      "id": "cd63dd46",
      "metadata": {
        "id": "cd63dd46"
      },
      "source": [
        "To create a recommendation system, we can use the following information from the customers' dataset:\n",
        "\n",
        "The age of the customers, with a focus on the proportion of customers who are over 50, as they are more likely to be interested in fashion news and club memberships.\n",
        "The general preferences of the customers, with a focus on the proportion of customers who are not interested in fashion news and club memberships.\n",
        "Additionally, it may be helpful to consider other factors that could influence a customer's preferences, such as their gender, income level, or location. By using this information, we can create a recommendation system that takes into account the specific characteristics and preferences of our customer base."
      ]
    },
    {
      "cell_type": "markdown",
      "id": "10cc37d7",
      "metadata": {
        "id": "10cc37d7"
      },
      "source": [
        "# ARTICLES"
      ]
    },
    {
      "attachments": {},
      "cell_type": "markdown",
      "id": "731021a8",
      "metadata": {
        "id": "731021a8"
      },
      "source": [
        "The second stage of our data analysis will involve looking at the many products that our business sells. The ultimate goal is to be able to recognize when various articles are comparable or dissimilar and, consequently, when to advise one of them based on prior orders. Let's look at the following dataset:Let's take a look to this dataset:"
      ]
    },
    {
      "cell_type": "code",
      "execution_count": null,
      "id": "4661126c",
      "metadata": {
        "colab": {
          "base_uri": "https://localhost:8080/",
          "height": 467
        },
        "id": "4661126c",
        "outputId": "513ccaae-518e-407b-8b97-788ce990ead6"
      },
      "outputs": [
        {
          "data": {
            "text/html": [
              "<div>\n",
              "<style scoped>\n",
              "    .dataframe tbody tr th:only-of-type {\n",
              "        vertical-align: middle;\n",
              "    }\n",
              "\n",
              "    .dataframe tbody tr th {\n",
              "        vertical-align: top;\n",
              "    }\n",
              "\n",
              "    .dataframe thead th {\n",
              "        text-align: right;\n",
              "    }\n",
              "</style>\n",
              "<table border=\"1\" class=\"dataframe\">\n",
              "  <thead>\n",
              "    <tr style=\"text-align: right;\">\n",
              "      <th></th>\n",
              "      <th>article_id</th>\n",
              "      <th>prod_name</th>\n",
              "      <th>product_type</th>\n",
              "      <th>product_type_name</th>\n",
              "      <th>product_group_name</th>\n",
              "      <th>colour_group</th>\n",
              "      <th>colour_group_name</th>\n",
              "      <th>perceived_colour_value</th>\n",
              "      <th>perceived_colour_value_name</th>\n",
              "      <th>perceived_colour_master</th>\n",
              "      <th>...</th>\n",
              "      <th>department</th>\n",
              "      <th>department_name</th>\n",
              "      <th>index</th>\n",
              "      <th>index_name</th>\n",
              "      <th>index_group</th>\n",
              "      <th>index_group_name</th>\n",
              "      <th>section</th>\n",
              "      <th>section_name</th>\n",
              "      <th>garment_group</th>\n",
              "      <th>garment_group_name</th>\n",
              "    </tr>\n",
              "  </thead>\n",
              "  <tbody>\n",
              "    <tr>\n",
              "      <th>0</th>\n",
              "      <td>0</td>\n",
              "      <td>20 den 1p Stockings</td>\n",
              "      <td>304</td>\n",
              "      <td>Underwear Tights</td>\n",
              "      <td>Socks &amp; Tights</td>\n",
              "      <td>9</td>\n",
              "      <td>Black</td>\n",
              "      <td>4</td>\n",
              "      <td>Dark</td>\n",
              "      <td>5</td>\n",
              "      <td>...</td>\n",
              "      <td>3608</td>\n",
              "      <td>Tights basic</td>\n",
              "      <td>B</td>\n",
              "      <td>Lingeries/Tights</td>\n",
              "      <td>1</td>\n",
              "      <td>Ladieswear</td>\n",
              "      <td>62</td>\n",
              "      <td>Womens Nightwear, Socks &amp; Tigh</td>\n",
              "      <td>1021</td>\n",
              "      <td>Socks and Tights</td>\n",
              "    </tr>\n",
              "    <tr>\n",
              "      <th>1</th>\n",
              "      <td>1</td>\n",
              "      <td>Shape Up 30 den 1p Tights</td>\n",
              "      <td>273</td>\n",
              "      <td>Leggings/Tights</td>\n",
              "      <td>Garment Lower body</td>\n",
              "      <td>9</td>\n",
              "      <td>Black</td>\n",
              "      <td>4</td>\n",
              "      <td>Dark</td>\n",
              "      <td>5</td>\n",
              "      <td>...</td>\n",
              "      <td>3608</td>\n",
              "      <td>Tights basic</td>\n",
              "      <td>B</td>\n",
              "      <td>Lingeries/Tights</td>\n",
              "      <td>1</td>\n",
              "      <td>Ladieswear</td>\n",
              "      <td>62</td>\n",
              "      <td>Womens Nightwear, Socks &amp; Tigh</td>\n",
              "      <td>1021</td>\n",
              "      <td>Socks and Tights</td>\n",
              "    </tr>\n",
              "    <tr>\n",
              "      <th>2</th>\n",
              "      <td>2</td>\n",
              "      <td>Support 40 den 1p Tights</td>\n",
              "      <td>304</td>\n",
              "      <td>Underwear Tights</td>\n",
              "      <td>Socks &amp; Tights</td>\n",
              "      <td>9</td>\n",
              "      <td>Black</td>\n",
              "      <td>4</td>\n",
              "      <td>Dark</td>\n",
              "      <td>5</td>\n",
              "      <td>...</td>\n",
              "      <td>3608</td>\n",
              "      <td>Tights basic</td>\n",
              "      <td>B</td>\n",
              "      <td>Lingeries/Tights</td>\n",
              "      <td>1</td>\n",
              "      <td>Ladieswear</td>\n",
              "      <td>62</td>\n",
              "      <td>Womens Nightwear, Socks &amp; Tigh</td>\n",
              "      <td>1021</td>\n",
              "      <td>Socks and Tights</td>\n",
              "    </tr>\n",
              "    <tr>\n",
              "      <th>3</th>\n",
              "      <td>3</td>\n",
              "      <td>200 den 1p Tights</td>\n",
              "      <td>304</td>\n",
              "      <td>Underwear Tights</td>\n",
              "      <td>Socks &amp; Tights</td>\n",
              "      <td>9</td>\n",
              "      <td>Black</td>\n",
              "      <td>4</td>\n",
              "      <td>Dark</td>\n",
              "      <td>5</td>\n",
              "      <td>...</td>\n",
              "      <td>3608</td>\n",
              "      <td>Tights basic</td>\n",
              "      <td>B</td>\n",
              "      <td>Lingeries/Tights</td>\n",
              "      <td>1</td>\n",
              "      <td>Ladieswear</td>\n",
              "      <td>62</td>\n",
              "      <td>Womens Nightwear, Socks &amp; Tigh</td>\n",
              "      <td>1021</td>\n",
              "      <td>Socks and Tights</td>\n",
              "    </tr>\n",
              "    <tr>\n",
              "      <th>4</th>\n",
              "      <td>4</td>\n",
              "      <td>Control Top 50 den 1p Tights</td>\n",
              "      <td>273</td>\n",
              "      <td>Leggings/Tights</td>\n",
              "      <td>Garment Lower body</td>\n",
              "      <td>9</td>\n",
              "      <td>Black</td>\n",
              "      <td>4</td>\n",
              "      <td>Dark</td>\n",
              "      <td>5</td>\n",
              "      <td>...</td>\n",
              "      <td>3608</td>\n",
              "      <td>Tights basic</td>\n",
              "      <td>B</td>\n",
              "      <td>Lingeries/Tights</td>\n",
              "      <td>1</td>\n",
              "      <td>Ladieswear</td>\n",
              "      <td>62</td>\n",
              "      <td>Womens Nightwear, Socks &amp; Tigh</td>\n",
              "      <td>1021</td>\n",
              "      <td>Socks and Tights</td>\n",
              "    </tr>\n",
              "  </tbody>\n",
              "</table>\n",
              "<p>5 rows × 21 columns</p>\n",
              "</div>"
            ],
            "text/plain": [
              "   article_id                     prod_name  product_type product_type_name  \\\n",
              "0           0           20 den 1p Stockings           304  Underwear Tights   \n",
              "1           1     Shape Up 30 den 1p Tights           273   Leggings/Tights   \n",
              "2           2      Support 40 den 1p Tights           304  Underwear Tights   \n",
              "3           3             200 den 1p Tights           304  Underwear Tights   \n",
              "4           4  Control Top 50 den 1p Tights           273   Leggings/Tights   \n",
              "\n",
              "   product_group_name  colour_group colour_group_name  perceived_colour_value  \\\n",
              "0      Socks & Tights             9             Black                       4   \n",
              "1  Garment Lower body             9             Black                       4   \n",
              "2      Socks & Tights             9             Black                       4   \n",
              "3      Socks & Tights             9             Black                       4   \n",
              "4  Garment Lower body             9             Black                       4   \n",
              "\n",
              "  perceived_colour_value_name  perceived_colour_master  ... department  \\\n",
              "0                        Dark                        5  ...       3608   \n",
              "1                        Dark                        5  ...       3608   \n",
              "2                        Dark                        5  ...       3608   \n",
              "3                        Dark                        5  ...       3608   \n",
              "4                        Dark                        5  ...       3608   \n",
              "\n",
              "   department_name index        index_name index_group  index_group_name  \\\n",
              "0     Tights basic     B  Lingeries/Tights           1        Ladieswear   \n",
              "1     Tights basic     B  Lingeries/Tights           1        Ladieswear   \n",
              "2     Tights basic     B  Lingeries/Tights           1        Ladieswear   \n",
              "3     Tights basic     B  Lingeries/Tights           1        Ladieswear   \n",
              "4     Tights basic     B  Lingeries/Tights           1        Ladieswear   \n",
              "\n",
              "  section                    section_name garment_group  garment_group_name  \n",
              "0      62  Womens Nightwear, Socks & Tigh          1021    Socks and Tights  \n",
              "1      62  Womens Nightwear, Socks & Tigh          1021    Socks and Tights  \n",
              "2      62  Womens Nightwear, Socks & Tigh          1021    Socks and Tights  \n",
              "3      62  Womens Nightwear, Socks & Tigh          1021    Socks and Tights  \n",
              "4      62  Womens Nightwear, Socks & Tigh          1021    Socks and Tights  \n",
              "\n",
              "[5 rows x 21 columns]"
            ]
          },
          "execution_count": 107,
          "metadata": {},
          "output_type": "execute_result"
        }
      ],
      "source": [
        "myarticles = pd.read_csv(\"recsys_articles.csv\")\n",
        "myarticles.head()"
      ]
    },
    {
      "attachments": {},
      "cell_type": "markdown",
      "id": "28824bcc",
      "metadata": {
        "id": "28824bcc"
      },
      "source": [
        "As is clear, this dataset has a more intricate structure than the one we previously examined, but we can undoubtedly discard some columns. Two columns are used to represent each category; therefore, we can only use one and leave the other out. For instance, each product has two variables: \"product type,\" which contains the product's ID code, and \"product type name,\" which has the complete product name. As a result, we can decide which factors to take into account and which to ignore."
      ]
    },
    {
      "attachments": {},
      "cell_type": "markdown",
      "id": "87bc9cfc",
      "metadata": {
        "id": "87bc9cfc"
      },
      "source": [
        "1. We would like to determine how many values are null, much like we did for customers. Fortunately, there are no null values this time."
      ]
    },
    {
      "cell_type": "code",
      "execution_count": null,
      "id": "41dbc910",
      "metadata": {
        "colab": {
          "base_uri": "https://localhost:8080/"
        },
        "id": "41dbc910",
        "outputId": "bf6c3bfa-f1bd-42e3-9f06-40cf158219b4"
      },
      "outputs": [
        {
          "data": {
            "text/plain": [
              "article_id                      0\n",
              "prod_name                       0\n",
              "product_type                    0\n",
              "product_type_name               0\n",
              "product_group_name              0\n",
              "colour_group                    0\n",
              "colour_group_name               0\n",
              "perceived_colour_value          0\n",
              "perceived_colour_value_name     0\n",
              "perceived_colour_master         0\n",
              "perceived_colour_master_name    0\n",
              "department                      0\n",
              "department_name                 0\n",
              "index                           0\n",
              "index_name                      0\n",
              "index_group                     0\n",
              "index_group_name                0\n",
              "section                         0\n",
              "section_name                    0\n",
              "garment_group                   0\n",
              "garment_group_name              0\n",
              "dtype: int64"
            ]
          },
          "execution_count": 108,
          "metadata": {},
          "output_type": "execute_result"
        }
      ],
      "source": [
        "myarticles.isnull().sum()"
      ]
    },
    {
      "attachments": {},
      "cell_type": "markdown",
      "id": "HaZBEKMLDFXF",
      "metadata": {
        "id": "HaZBEKMLDFXF"
      },
      "source": [
        "Despite the absence of Null values, data manipulation has allowed us to see that there are some Unknown values that we want to remove."
      ]
    },
    {
      "cell_type": "code",
      "execution_count": null,
      "id": "risxKV6qE6l1",
      "metadata": {
        "colab": {
          "base_uri": "https://localhost:8080/"
        },
        "id": "risxKV6qE6l1",
        "outputId": "825e26fa-f1d4-4401-f6b0-143dd699ec82"
      },
      "outputs": [
        {
          "name": "stdout",
          "output_type": "stream",
          "text": [
            "The Unknown percentage items is: 1.03%\n"
          ]
        }
      ],
      "source": [
        "nulls = myarticles.loc[myarticles['product_group_name'] == 'Unknown']\n",
        "print(f'The Unknown percentage items is: {round((len(nulls) / len(myarticles)*100), 2)}%')"
      ]
    },
    {
      "cell_type": "code",
      "execution_count": null,
      "id": "8EHPvT7BDNzs",
      "metadata": {
        "id": "8EHPvT7BDNzs"
      },
      "outputs": [],
      "source": [
        "myarticles2 = myarticles[myarticles.product_type != -1] #dataframe with all my articles except unknowns"
      ]
    },
    {
      "attachments": {},
      "cell_type": "markdown",
      "id": "c7edc2ee",
      "metadata": {
        "id": "c7edc2ee"
      },
      "source": [
        "2.  Starting with the classification of articles into types, we can now group our articles in several ways."
      ]
    },
    {
      "cell_type": "markdown",
      "id": "b4341afb",
      "metadata": {
        "id": "b4341afb"
      },
      "source": [
        "#### **TYPES**"
      ]
    },
    {
      "attachments": {},
      "cell_type": "markdown",
      "id": "9f994433",
      "metadata": {
        "id": "9f994433"
      },
      "source": [
        "We'd like to see how our products are divided into categories. We examine how these categories are organized and count the number of articles in each. We begin with types."
      ]
    },
    {
      "cell_type": "code",
      "execution_count": null,
      "id": "98a9865c",
      "metadata": {
        "colab": {
          "base_uri": "https://localhost:8080/",
          "height": 419
        },
        "id": "98a9865c",
        "outputId": "f6426711-6810-4a58-d1cd-498b6afa8b5f"
      },
      "outputs": [
        {
          "data": {
            "text/html": [
              "<div>\n",
              "<style scoped>\n",
              "    .dataframe tbody tr th:only-of-type {\n",
              "        vertical-align: middle;\n",
              "    }\n",
              "\n",
              "    .dataframe tbody tr th {\n",
              "        vertical-align: top;\n",
              "    }\n",
              "\n",
              "    .dataframe thead th {\n",
              "        text-align: right;\n",
              "    }\n",
              "</style>\n",
              "<table border=\"1\" class=\"dataframe\">\n",
              "  <thead>\n",
              "    <tr style=\"text-align: right;\">\n",
              "      <th></th>\n",
              "      <th>Type</th>\n",
              "      <th>Count</th>\n",
              "    </tr>\n",
              "  </thead>\n",
              "  <tbody>\n",
              "    <tr>\n",
              "      <th>18</th>\n",
              "      <td>Trousers</td>\n",
              "      <td>972</td>\n",
              "    </tr>\n",
              "    <tr>\n",
              "      <th>3</th>\n",
              "      <td>Sweater</td>\n",
              "      <td>635</td>\n",
              "    </tr>\n",
              "    <tr>\n",
              "      <th>11</th>\n",
              "      <td>Dress</td>\n",
              "      <td>578</td>\n",
              "    </tr>\n",
              "    <tr>\n",
              "      <th>21</th>\n",
              "      <td>Top</td>\n",
              "      <td>422</td>\n",
              "    </tr>\n",
              "    <tr>\n",
              "      <th>17</th>\n",
              "      <td>T-shirt</td>\n",
              "      <td>382</td>\n",
              "    </tr>\n",
              "    <tr>\n",
              "      <th>...</th>\n",
              "      <td>...</td>\n",
              "      <td>...</td>\n",
              "    </tr>\n",
              "    <tr>\n",
              "      <th>30</th>\n",
              "      <td>Braces</td>\n",
              "      <td>1</td>\n",
              "    </tr>\n",
              "    <tr>\n",
              "      <th>78</th>\n",
              "      <td>Hairband</td>\n",
              "      <td>1</td>\n",
              "    </tr>\n",
              "    <tr>\n",
              "      <th>79</th>\n",
              "      <td>Flat shoes</td>\n",
              "      <td>1</td>\n",
              "    </tr>\n",
              "    <tr>\n",
              "      <th>31</th>\n",
              "      <td>Nipple covers</td>\n",
              "      <td>1</td>\n",
              "    </tr>\n",
              "    <tr>\n",
              "      <th>33</th>\n",
              "      <td>Bra extender</td>\n",
              "      <td>1</td>\n",
              "    </tr>\n",
              "  </tbody>\n",
              "</table>\n",
              "<p>82 rows × 2 columns</p>\n",
              "</div>"
            ],
            "text/plain": [
              "             Type  Count\n",
              "18       Trousers    972\n",
              "3         Sweater    635\n",
              "11          Dress    578\n",
              "21            Top    422\n",
              "17        T-shirt    382\n",
              "..            ...    ...\n",
              "30         Braces      1\n",
              "78       Hairband      1\n",
              "79     Flat shoes      1\n",
              "31  Nipple covers      1\n",
              "33   Bra extender      1\n",
              "\n",
              "[82 rows x 2 columns]"
            ]
          },
          "execution_count": 111,
          "metadata": {},
          "output_type": "execute_result"
        }
      ],
      "source": [
        "article_type_count = Counter(myarticles['product_type_name'])\n",
        "article_type_count_df = pd.DataFrame([article_type_count]).T.reset_index()\n",
        "article_type_count_df.columns = ['Type', 'Count']\n",
        "article_type_count_df = article_type_count_df.sort_values(by='Count', ascending=False) #We sort the dataframe in order to see the biggest types without any code\n",
        "article_type_count_df"
      ]
    },
    {
      "attachments": {},
      "cell_type": "markdown",
      "id": "dbc25d66",
      "metadata": {
        "id": "dbc25d66"
      },
      "source": [
        "According to the dataframe, the product type with the most articles is 'Trousers,' with 972 models."
      ]
    },
    {
      "attachments": {},
      "cell_type": "markdown",
      "id": "648710c1",
      "metadata": {
        "id": "648710c1"
      },
      "source": [
        "our graph will looks like:"
      ]
    },
    {
      "cell_type": "code",
      "execution_count": null,
      "id": "8a548b81",
      "metadata": {
        "colab": {
          "base_uri": "https://localhost:8080/",
          "height": 961
        },
        "id": "8a548b81",
        "outputId": "19688b53-881d-4498-9423-89926a9901a4",
        "scrolled": true
      },
      "outputs": [
        {
          "data": {
            "image/png": "[encoded data removed]",
            "text/plain": [
              "<Figure size 2160x1440 with 1 Axes>"
            ]
          },
          "metadata": {},
          "output_type": "display_data"
        }
      ],
      "source": [
        "plt.figure(figsize=(30,20))\n",
        "sns.barplot(x='Type', y='Count', data=article_type_count_df)\n",
        "plt.xticks(rotation=90)\n",
        "plt.show()"
      ]
    },
    {
      "attachments": {},
      "cell_type": "markdown",
      "id": "5e56c764",
      "metadata": {
        "id": "5e56c764"
      },
      "source": [
        "The plot beneath is useful, but it is also far too caothic (82 categories are too many). A fantastic solution is to group our categories (types) into larger categories, which are represented by groups."
      ]
    },
    {
      "cell_type": "markdown",
      "id": "e8751104",
      "metadata": {
        "id": "e8751104"
      },
      "source": [
        "#### **GROUPS**"
      ]
    },
    {
      "cell_type": "code",
      "execution_count": null,
      "id": "a36fa928",
      "metadata": {
        "colab": {
          "base_uri": "https://localhost:8080/",
          "height": 421
        },
        "id": "a36fa928",
        "outputId": "fd401e0a-3e60-4139-b14e-6d5b54f1e643"
      },
      "outputs": [
        {
          "data": {
            "text/html": [
              "<div>\n",
              "<style scoped>\n",
              "    .dataframe tbody tr th:only-of-type {\n",
              "        vertical-align: middle;\n",
              "    }\n",
              "\n",
              "    .dataframe tbody tr th {\n",
              "        vertical-align: top;\n",
              "    }\n",
              "\n",
              "    .dataframe thead th {\n",
              "        text-align: right;\n",
              "    }\n",
              "</style>\n",
              "<table border=\"1\" class=\"dataframe\">\n",
              "  <thead>\n",
              "    <tr style=\"text-align: right;\">\n",
              "      <th></th>\n",
              "      <th>Group</th>\n",
              "      <th>Count</th>\n",
              "    </tr>\n",
              "  </thead>\n",
              "  <tbody>\n",
              "    <tr>\n",
              "      <th>3</th>\n",
              "      <td>Garment Upper body</td>\n",
              "      <td>2799</td>\n",
              "    </tr>\n",
              "    <tr>\n",
              "      <th>1</th>\n",
              "      <td>Garment Lower body</td>\n",
              "      <td>1428</td>\n",
              "    </tr>\n",
              "    <tr>\n",
              "      <th>7</th>\n",
              "      <td>Garment Full body</td>\n",
              "      <td>632</td>\n",
              "    </tr>\n",
              "    <tr>\n",
              "      <th>4</th>\n",
              "      <td>Underwear</td>\n",
              "      <td>547</td>\n",
              "    </tr>\n",
              "    <tr>\n",
              "      <th>6</th>\n",
              "      <td>Accessories</td>\n",
              "      <td>378</td>\n",
              "    </tr>\n",
              "    <tr>\n",
              "      <th>0</th>\n",
              "      <td>Socks &amp; Tights</td>\n",
              "      <td>245</td>\n",
              "    </tr>\n",
              "    <tr>\n",
              "      <th>9</th>\n",
              "      <td>Swimwear</td>\n",
              "      <td>233</td>\n",
              "    </tr>\n",
              "    <tr>\n",
              "      <th>8</th>\n",
              "      <td>Shoes</td>\n",
              "      <td>135</td>\n",
              "    </tr>\n",
              "    <tr>\n",
              "      <th>5</th>\n",
              "      <td>Unknown</td>\n",
              "      <td>67</td>\n",
              "    </tr>\n",
              "    <tr>\n",
              "      <th>10</th>\n",
              "      <td>Nightwear</td>\n",
              "      <td>60</td>\n",
              "    </tr>\n",
              "    <tr>\n",
              "      <th>2</th>\n",
              "      <td>Items</td>\n",
              "      <td>10</td>\n",
              "    </tr>\n",
              "    <tr>\n",
              "      <th>11</th>\n",
              "      <td>Bags</td>\n",
              "      <td>2</td>\n",
              "    </tr>\n",
              "  </tbody>\n",
              "</table>\n",
              "</div>"
            ],
            "text/plain": [
              "                 Group  Count\n",
              "3   Garment Upper body   2799\n",
              "1   Garment Lower body   1428\n",
              "7    Garment Full body    632\n",
              "4            Underwear    547\n",
              "6          Accessories    378\n",
              "0       Socks & Tights    245\n",
              "9             Swimwear    233\n",
              "8                Shoes    135\n",
              "5              Unknown     67\n",
              "10           Nightwear     60\n",
              "2                Items     10\n",
              "11                Bags      2"
            ]
          },
          "execution_count": 113,
          "metadata": {},
          "output_type": "execute_result"
        }
      ],
      "source": [
        "group_number_article = Counter(myarticles['product_group_name'])\n",
        "group_number_article = pd.DataFrame([group_number_article]).T.reset_index()\n",
        "group_number_article.columns = ['Group', 'Count']\n",
        "group_number_article_df = group_number_article.sort_values(by='Count', ascending=False)\n",
        "group_number_article_df"
      ]
    },
    {
      "attachments": {},
      "cell_type": "markdown",
      "id": "8e2440cb",
      "metadata": {
        "id": "8e2440cb"
      },
      "source": [
        "Now, we can see all of the classification for groups in one place, with the top item being Garment Upper body, which has 2799 different articles. We have a simpler plot here where we can see all of the categories right away. As a result, the data is more interpretable and useful for our purposes. We plot our results once more:"
      ]
    },
    {
      "cell_type": "code",
      "execution_count": null,
      "id": "e0f90cd8",
      "metadata": {
        "colab": {
          "base_uri": "https://localhost:8080/",
          "height": 428
        },
        "id": "e0f90cd8",
        "outputId": "dea10684-578f-45fa-f055-bea97d185da6"
      },
      "outputs": [
        {
          "data": {
            "image/png": "[encoded data removed]",
            "text/plain": [
              "<Figure size 1080x504 with 1 Axes>"
            ]
          },
          "metadata": {},
          "output_type": "display_data"
        }
      ],
      "source": [
        "plt.figure(figsize=(15,7))\n",
        "sns.barplot(x='Group', y='Count', data=group_number_article_df)\n",
        "plt.xticks(rotation=90)\n",
        "plt.show()"
      ]
    },
    {
      "cell_type": "code",
      "execution_count": null,
      "id": "1299b656",
      "metadata": {
        "id": "1299b656"
      },
      "outputs": [],
      "source": [
        "count_department = Counter(myarticles['department_name'])\n",
        "count_department_df = pd.DataFrame([count_department]).T.reset_index()\n",
        "count_department_df.columns = ['Department', 'Count']\n",
        "count_department_df = count_department_df.sort_values(by='Count', ascending=False)\n"
      ]
    },
    {
      "cell_type": "code",
      "execution_count": null,
      "id": "95cd839d",
      "metadata": {
        "id": "95cd839d"
      },
      "outputs": [],
      "source": [
        "group_of_index = Counter(myarticles['index_group_name'])\n",
        "group_of_index_df = pd.DataFrame([group_of_index]).T.reset_index()\n",
        "group_of_index_df.columns = ['Index Group', 'Count']\n",
        "group_of_index_df = group_of_index_df.sort_values(by='Count', ascending=False)"
      ]
    },
    {
      "cell_type": "code",
      "execution_count": null,
      "id": "41ee6f6e",
      "metadata": {
        "id": "41ee6f6e"
      },
      "outputs": [],
      "source": [
        "num_of_section = Counter(myarticles['section_name'])\n",
        "num_of_section_df = pd.DataFrame([num_of_section]).T.reset_index()\n",
        "num_of_section_df.columns = ['Section', 'Count']\n",
        "section_count_df = num_of_section_df.sort_values(by='Count', ascending=False)"
      ]
    },
    {
      "cell_type": "code",
      "execution_count": null,
      "id": "0d19b6a0",
      "metadata": {
        "id": "0d19b6a0"
      },
      "outputs": [],
      "source": [
        "garment_team = Counter(myarticles['garment_group'])\n",
        "garment_team_df = pd.DataFrame([garment_team]).T.reset_index()\n",
        "garment_team_df.columns = ['Garment Group', 'Count']\n",
        "garment_team_df = garment_team_df.sort_values(by='Count', ascending=False)"
      ]
    },
    {
      "cell_type": "markdown",
      "id": "8d7c7212",
      "metadata": {
        "id": "8d7c7212"
      },
      "source": [
        "#### **COLOURS**"
      ]
    },
    {
      "cell_type": "markdown",
      "id": "a3d12646",
      "metadata": {
        "id": "a3d12646"
      },
      "source": [
        "To evaluate the colour of the articles there are several measures: colour_group, perceived_colour_value and perceived_colour_master. For our analysis we are going to consider just the perceived_colour_master because it is a good compromise between making a model having too large scale and doing overfitting. In fact, perceived_colour_value has not enough values (only 7) and colour_group has too many of them making the model too precise."
      ]
    },
    {
      "attachments": {},
      "cell_type": "markdown",
      "id": "42e7d344",
      "metadata": {},
      "source": [
        "For our analysis, we will use the perceived_colour_master to evaluate the color of the articles because it strikes a good balance between having a model with too large a scale and overfitting. We are choosing to use perceived_colour_master instead of perceived_colour_value because it has a sufficient number of values, while using colour_group would result in a model that is too precise due to the large number of values."
      ]
    },
    {
      "cell_type": "code",
      "execution_count": null,
      "id": "03968ddf",
      "metadata": {
        "colab": {
          "base_uri": "https://localhost:8080/",
          "height": 545
        },
        "id": "03968ddf",
        "outputId": "20a82aa9-eb52-4a03-e383-47e0204ddcf8"
      },
      "outputs": [
        {
          "data": {
            "text/html": [
              "<div>\n",
              "<style scoped>\n",
              "    .dataframe tbody tr th:only-of-type {\n",
              "        vertical-align: middle;\n",
              "    }\n",
              "\n",
              "    .dataframe tbody tr th {\n",
              "        vertical-align: top;\n",
              "    }\n",
              "\n",
              "    .dataframe thead th {\n",
              "        text-align: right;\n",
              "    }\n",
              "</style>\n",
              "<table border=\"1\" class=\"dataframe\">\n",
              "  <thead>\n",
              "    <tr style=\"text-align: right;\">\n",
              "      <th></th>\n",
              "      <th>Colour</th>\n",
              "      <th>Count</th>\n",
              "    </tr>\n",
              "  </thead>\n",
              "  <tbody>\n",
              "    <tr>\n",
              "      <th>3</th>\n",
              "      <td>Beige</td>\n",
              "      <td>547</td>\n",
              "    </tr>\n",
              "    <tr>\n",
              "      <th>0</th>\n",
              "      <td>Black</td>\n",
              "      <td>2134</td>\n",
              "    </tr>\n",
              "    <tr>\n",
              "      <th>1</th>\n",
              "      <td>Blue</td>\n",
              "      <td>726</td>\n",
              "    </tr>\n",
              "    <tr>\n",
              "      <th>5</th>\n",
              "      <td>Brown</td>\n",
              "      <td>156</td>\n",
              "    </tr>\n",
              "    <tr>\n",
              "      <th>13</th>\n",
              "      <td>Green</td>\n",
              "      <td>176</td>\n",
              "    </tr>\n",
              "    <tr>\n",
              "      <th>2</th>\n",
              "      <td>Grey</td>\n",
              "      <td>526</td>\n",
              "    </tr>\n",
              "    <tr>\n",
              "      <th>7</th>\n",
              "      <td>Khaki green</td>\n",
              "      <td>218</td>\n",
              "    </tr>\n",
              "    <tr>\n",
              "      <th>10</th>\n",
              "      <td>Lilac Purple</td>\n",
              "      <td>108</td>\n",
              "    </tr>\n",
              "    <tr>\n",
              "      <th>9</th>\n",
              "      <td>Metal</td>\n",
              "      <td>116</td>\n",
              "    </tr>\n",
              "    <tr>\n",
              "      <th>6</th>\n",
              "      <td>Mole</td>\n",
              "      <td>177</td>\n",
              "    </tr>\n",
              "    <tr>\n",
              "      <th>14</th>\n",
              "      <td>Orange</td>\n",
              "      <td>163</td>\n",
              "    </tr>\n",
              "    <tr>\n",
              "      <th>12</th>\n",
              "      <td>Pink</td>\n",
              "      <td>368</td>\n",
              "    </tr>\n",
              "    <tr>\n",
              "      <th>8</th>\n",
              "      <td>Red</td>\n",
              "      <td>125</td>\n",
              "    </tr>\n",
              "    <tr>\n",
              "      <th>15</th>\n",
              "      <td>Turquoise</td>\n",
              "      <td>48</td>\n",
              "    </tr>\n",
              "    <tr>\n",
              "      <th>4</th>\n",
              "      <td>White</td>\n",
              "      <td>807</td>\n",
              "    </tr>\n",
              "    <tr>\n",
              "      <th>11</th>\n",
              "      <td>Yellow</td>\n",
              "      <td>76</td>\n",
              "    </tr>\n",
              "  </tbody>\n",
              "</table>\n",
              "</div>"
            ],
            "text/plain": [
              "          Colour  Count\n",
              "3          Beige    547\n",
              "0          Black   2134\n",
              "1           Blue    726\n",
              "5          Brown    156\n",
              "13         Green    176\n",
              "2           Grey    526\n",
              "7    Khaki green    218\n",
              "10  Lilac Purple    108\n",
              "9          Metal    116\n",
              "6           Mole    177\n",
              "14        Orange    163\n",
              "12          Pink    368\n",
              "8            Red    125\n",
              "15     Turquoise     48\n",
              "4          White    807\n",
              "11        Yellow     76"
            ]
          },
          "execution_count": 119,
          "metadata": {},
          "output_type": "execute_result"
        }
      ],
      "source": [
        "from collections import Counter\n",
        "my_article_colour = Counter(myarticles['perceived_colour_master_name'])\n",
        "del my_article_colour['Unknown']\n",
        "del my_article_colour['undefined']\n",
        "\n",
        "my_article_colour_df = pd.DataFrame([my_article_colour]).T.reset_index()\n",
        "my_article_colour_df.columns = ['Colour', 'Count']\n",
        "my_article_colour_df = my_article_colour_df.sort_values(by='Colour')\n",
        "my_article_colour_df"
      ]
    },
    {
      "cell_type": "code",
      "execution_count": null,
      "id": "d36e3ef0",
      "metadata": {
        "id": "d36e3ef0"
      },
      "outputs": [],
      "source": [
        "#create dataframe and check for its size\n",
        "from collections import Counter\n",
        "my_article_colour2 = Counter(myarticles['colour_group'])\n",
        "\n",
        "article_colour2_df = pd.DataFrame([my_article_colour2]).T.reset_index()\n",
        "article_colour2_df.columns = ['Colour', 'Count']\n",
        "article_colour2_df = article_colour2_df.sort_values(by='Colour')"
      ]
    },
    {
      "cell_type": "code",
      "execution_count": null,
      "id": "558ffa78",
      "metadata": {
        "id": "558ffa78"
      },
      "outputs": [],
      "source": [
        "#create dataframe and check for its size\n",
        "from collections import Counter\n",
        "my_article_colour3 = Counter(myarticles['perceived_colour_value'])\n",
        "\n",
        "my_article_colour3_df = pd.DataFrame([my_article_colour3]).T.reset_index()\n",
        "my_article_colour3_df.columns = ['Colour', 'Count']\n",
        "my_article_colour3_df = my_article_colour3_df.sort_values(by='Colour')"
      ]
    },
    {
      "cell_type": "markdown",
      "id": "ba504d90",
      "metadata": {
        "id": "ba504d90"
      },
      "source": [
        "# TRANSACTIONS"
      ]
    },
    {
      "attachments": {},
      "cell_type": "markdown",
      "id": "cfaec978",
      "metadata": {
        "id": "cfaec978"
      },
      "source": [
        "The last dataset we will be examining is \"recsys_transactions.csv\", which contains information about transactions made by customers. This dataset includes the date of purchase, the customer's identification number, and the identification number of the product purchased. It is possible for a single customer to make multiple purchases. Now, let's take a closer look at this dataset."
      ]
    },
    {
      "cell_type": "code",
      "execution_count": null,
      "id": "5a0afd04",
      "metadata": {
        "colab": {
          "base_uri": "https://localhost:8080/",
          "height": 204
        },
        "id": "5a0afd04",
        "outputId": "7dd0473d-14bc-496e-d18d-723b3737313c"
      },
      "outputs": [
        {
          "data": {
            "text/html": [
              "<div>\n",
              "<style scoped>\n",
              "    .dataframe tbody tr th:only-of-type {\n",
              "        vertical-align: middle;\n",
              "    }\n",
              "\n",
              "    .dataframe tbody tr th {\n",
              "        vertical-align: top;\n",
              "    }\n",
              "\n",
              "    .dataframe thead th {\n",
              "        text-align: right;\n",
              "    }\n",
              "</style>\n",
              "<table border=\"1\" class=\"dataframe\">\n",
              "  <thead>\n",
              "    <tr style=\"text-align: right;\">\n",
              "      <th></th>\n",
              "      <th>t_dat</th>\n",
              "      <th>customer_id</th>\n",
              "      <th>article_id</th>\n",
              "    </tr>\n",
              "  </thead>\n",
              "  <tbody>\n",
              "    <tr>\n",
              "      <th>0</th>\n",
              "      <td>2020-09-02</td>\n",
              "      <td>7</td>\n",
              "      <td>599</td>\n",
              "    </tr>\n",
              "    <tr>\n",
              "      <th>1</th>\n",
              "      <td>2020-09-02</td>\n",
              "      <td>7</td>\n",
              "      <td>2600</td>\n",
              "    </tr>\n",
              "    <tr>\n",
              "      <th>2</th>\n",
              "      <td>2020-09-02</td>\n",
              "      <td>7</td>\n",
              "      <td>2063</td>\n",
              "    </tr>\n",
              "    <tr>\n",
              "      <th>3</th>\n",
              "      <td>2020-09-02</td>\n",
              "      <td>7</td>\n",
              "      <td>5188</td>\n",
              "    </tr>\n",
              "    <tr>\n",
              "      <th>4</th>\n",
              "      <td>2020-09-02</td>\n",
              "      <td>17</td>\n",
              "      <td>5111</td>\n",
              "    </tr>\n",
              "  </tbody>\n",
              "</table>\n",
              "</div>"
            ],
            "text/plain": [
              "        t_dat  customer_id  article_id\n",
              "0  2020-09-02            7         599\n",
              "1  2020-09-02            7        2600\n",
              "2  2020-09-02            7        2063\n",
              "3  2020-09-02            7        5188\n",
              "4  2020-09-02           17        5111"
            ]
          },
          "execution_count": 122,
          "metadata": {},
          "output_type": "execute_result"
        }
      ],
      "source": [
        "purchase_raws = pd.read_csv(\"recsys_transactions.csv\")\n",
        "purchase_raws.head()"
      ]
    },
    {
      "attachments": {},
      "cell_type": "markdown",
      "id": "7x1RpGU8V8RX",
      "metadata": {
        "id": "7x1RpGU8V8RX"
      },
      "source": [
        "1. We want to extract some useful information that will help us interpret our data and results."
      ]
    },
    {
      "cell_type": "code",
      "execution_count": null,
      "id": "b0fbb67c",
      "metadata": {
        "colab": {
          "base_uri": "https://localhost:8080/"
        },
        "id": "b0fbb67c",
        "outputId": "06ed3ee6-4dc6-4c96-b79c-7a103e81f3e1"
      },
      "outputs": [
        {
          "name": "stdout",
          "output_type": "stream",
          "text": [
            "The number of transaction is: 369113\n",
            "The number of unique articles is: 6536\n",
            "The number of unique customers is: 41253\n",
            "The average number of transactions per user is generally: 9\n",
            "The average number of transactions per article is generally: 56\n"
          ]
        }
      ],
      "source": [
        "n_purchase = len(purchase_raws)\n",
        "articles_number = purchase_raws['article_id'].nunique()\n",
        "n_customers = purchase_raws['customer_id'].nunique()\n",
        "\n",
        "print(f\"The number of transaction is: {n_purchase}\")\n",
        "print(f\"The number of unique articles is: {articles_number}\")\n",
        "print(f\"The number of unique customers is: {n_customers}\")\n",
        "print(f\"The average number of transactions per user is generally: {round(n_purchase/n_customers)}\")\n",
        "print(f\"The average number of transactions per article is generally: {round(n_purchase/articles_number)}\")"
      ]
    },
    {
      "attachments": {},
      "cell_type": "markdown",
      "id": "fc2a88aa",
      "metadata": {
        "id": "fc2a88aa"
      },
      "source": [
        "2.  To ensure the accuracy of our analysis, we need to check for any null values that could potentially affect our results."
      ]
    },
    {
      "cell_type": "code",
      "execution_count": null,
      "id": "613d6e5f",
      "metadata": {
        "colab": {
          "base_uri": "https://localhost:8080/"
        },
        "id": "613d6e5f",
        "outputId": "f54efaed-1da1-480a-94fc-a32fff7a719b"
      },
      "outputs": [
        {
          "data": {
            "text/plain": [
              "t_dat          0\n",
              "customer_id    0\n",
              "article_id     0\n",
              "dtype: int64"
            ]
          },
          "execution_count": 124,
          "metadata": {},
          "output_type": "execute_result"
        }
      ],
      "source": [
        "purchase_raws.isnull().sum()"
      ]
    },
    {
      "attachments": {},
      "cell_type": "markdown",
      "id": "681b4f33",
      "metadata": {
        "id": "681b4f33"
      },
      "source": [
        "This result was not surprising given the nature of the dataset, which consists of relationships between two other datasets. Each row contains the IDs of an article and a customer, and is therefore only useful if both of these values are present. "
      ]
    },
    {
      "attachments": {},
      "cell_type": "markdown",
      "id": "917338f8",
      "metadata": {
        "id": "917338f8"
      },
      "source": [
        "To ensure the accuracy of recommendations, it is necessary to remove transactions involving unknown products, as they are not included in the dataset."
      ]
    },
    {
      "cell_type": "code",
      "execution_count": null,
      "id": "de9b7b2b",
      "metadata": {
        "id": "de9b7b2b"
      },
      "outputs": [],
      "source": [
        "articles_list = list(myarticles2['article_id'])"
      ]
    },
    {
      "attachments": {},
      "cell_type": "markdown",
      "id": "zR-FFZPZu8ut",
      "metadata": {
        "id": "zR-FFZPZu8ut"
      },
      "source": [
        "We would like to utilize the transaction dataframe, but first we need to remove the approximately 5,000 unknown values."
      ]
    },
    {
      "cell_type": "code",
      "execution_count": null,
      "id": "74b3204e",
      "metadata": {
        "id": "74b3204e"
      },
      "outputs": [],
      "source": [
        "transactions = purchase_raws.query('article_id in @articles_list') "
      ]
    },
    {
      "cell_type": "markdown",
      "id": "a65fd6d0",
      "metadata": {
        "id": "a65fd6d0"
      },
      "source": [
        "#### **Date** <br>\n",
        "As an extra information, we can also see which is the day with the highest number of transactions. <br>\n",
        "The day with the biggest number of transactions is the 13th of september 2020, which was a Sunday."
      ]
    },
    {
      "cell_type": "code",
      "execution_count": null,
      "id": "d9f21840",
      "metadata": {
        "colab": {
          "base_uri": "https://localhost:8080/",
          "height": 700
        },
        "id": "d9f21840",
        "outputId": "04738969-9daa-443a-80ce-628e5a309ceb"
      },
      "outputs": [
        {
          "data": {
            "text/html": [
              "<div>\n",
              "<style scoped>\n",
              "    .dataframe tbody tr th:only-of-type {\n",
              "        vertical-align: middle;\n",
              "    }\n",
              "\n",
              "    .dataframe tbody tr th {\n",
              "        vertical-align: top;\n",
              "    }\n",
              "\n",
              "    .dataframe thead th {\n",
              "        text-align: right;\n",
              "    }\n",
              "</style>\n",
              "<table border=\"1\" class=\"dataframe\">\n",
              "  <thead>\n",
              "    <tr style=\"text-align: right;\">\n",
              "      <th></th>\n",
              "      <th>Day</th>\n",
              "      <th>Count</th>\n",
              "    </tr>\n",
              "  </thead>\n",
              "  <tbody>\n",
              "    <tr>\n",
              "      <th>7</th>\n",
              "      <td>2020-09-09</td>\n",
              "      <td>20910</td>\n",
              "    </tr>\n",
              "    <tr>\n",
              "      <th>11</th>\n",
              "      <td>2020-09-13</td>\n",
              "      <td>20809</td>\n",
              "    </tr>\n",
              "    <tr>\n",
              "      <th>15</th>\n",
              "      <td>2020-09-17</td>\n",
              "      <td>20135</td>\n",
              "    </tr>\n",
              "    <tr>\n",
              "      <th>8</th>\n",
              "      <td>2020-09-10</td>\n",
              "      <td>19341</td>\n",
              "    </tr>\n",
              "    <tr>\n",
              "      <th>5</th>\n",
              "      <td>2020-09-07</td>\n",
              "      <td>19168</td>\n",
              "    </tr>\n",
              "    <tr>\n",
              "      <th>16</th>\n",
              "      <td>2020-09-18</td>\n",
              "      <td>18777</td>\n",
              "    </tr>\n",
              "    <tr>\n",
              "      <th>3</th>\n",
              "      <td>2020-09-05</td>\n",
              "      <td>18754</td>\n",
              "    </tr>\n",
              "    <tr>\n",
              "      <th>10</th>\n",
              "      <td>2020-09-12</td>\n",
              "      <td>18618</td>\n",
              "    </tr>\n",
              "    <tr>\n",
              "      <th>6</th>\n",
              "      <td>2020-09-08</td>\n",
              "      <td>18279</td>\n",
              "    </tr>\n",
              "    <tr>\n",
              "      <th>1</th>\n",
              "      <td>2020-09-03</td>\n",
              "      <td>18233</td>\n",
              "    </tr>\n",
              "    <tr>\n",
              "      <th>9</th>\n",
              "      <td>2020-09-11</td>\n",
              "      <td>17883</td>\n",
              "    </tr>\n",
              "    <tr>\n",
              "      <th>17</th>\n",
              "      <td>2020-09-19</td>\n",
              "      <td>16848</td>\n",
              "    </tr>\n",
              "    <tr>\n",
              "      <th>4</th>\n",
              "      <td>2020-09-06</td>\n",
              "      <td>16620</td>\n",
              "    </tr>\n",
              "    <tr>\n",
              "      <th>2</th>\n",
              "      <td>2020-09-04</td>\n",
              "      <td>16501</td>\n",
              "    </tr>\n",
              "    <tr>\n",
              "      <th>18</th>\n",
              "      <td>2020-09-20</td>\n",
              "      <td>15863</td>\n",
              "    </tr>\n",
              "    <tr>\n",
              "      <th>19</th>\n",
              "      <td>2020-09-21</td>\n",
              "      <td>15788</td>\n",
              "    </tr>\n",
              "    <tr>\n",
              "      <th>20</th>\n",
              "      <td>2020-09-22</td>\n",
              "      <td>15648</td>\n",
              "    </tr>\n",
              "    <tr>\n",
              "      <th>12</th>\n",
              "      <td>2020-09-14</td>\n",
              "      <td>15337</td>\n",
              "    </tr>\n",
              "    <tr>\n",
              "      <th>0</th>\n",
              "      <td>2020-09-02</td>\n",
              "      <td>13664</td>\n",
              "    </tr>\n",
              "    <tr>\n",
              "      <th>14</th>\n",
              "      <td>2020-09-16</td>\n",
              "      <td>13108</td>\n",
              "    </tr>\n",
              "    <tr>\n",
              "      <th>13</th>\n",
              "      <td>2020-09-15</td>\n",
              "      <td>12982</td>\n",
              "    </tr>\n",
              "  </tbody>\n",
              "</table>\n",
              "</div>"
            ],
            "text/plain": [
              "           Day  Count\n",
              "7   2020-09-09  20910\n",
              "11  2020-09-13  20809\n",
              "15  2020-09-17  20135\n",
              "8   2020-09-10  19341\n",
              "5   2020-09-07  19168\n",
              "16  2020-09-18  18777\n",
              "3   2020-09-05  18754\n",
              "10  2020-09-12  18618\n",
              "6   2020-09-08  18279\n",
              "1   2020-09-03  18233\n",
              "9   2020-09-11  17883\n",
              "17  2020-09-19  16848\n",
              "4   2020-09-06  16620\n",
              "2   2020-09-04  16501\n",
              "18  2020-09-20  15863\n",
              "19  2020-09-21  15788\n",
              "20  2020-09-22  15648\n",
              "12  2020-09-14  15337\n",
              "0   2020-09-02  13664\n",
              "14  2020-09-16  13108\n",
              "13  2020-09-15  12982"
            ]
          },
          "execution_count": 127,
          "metadata": {},
          "output_type": "execute_result"
        }
      ],
      "source": [
        "day_number = Counter(transactions['t_dat'])\n",
        "day_number_df = pd.DataFrame([day_number]).T.reset_index()\n",
        "day_number_df.columns = ['Day', 'Count']\n",
        "day_number_df = day_number_df.sort_values(by='Count', ascending=False)\n",
        "day_number_df"
      ]
    },
    {
      "attachments": {},
      "cell_type": "markdown",
      "id": "aa2e5976",
      "metadata": {
        "id": "aa2e5976"
      },
      "source": [
        "To gain a more visually appealing representation of our data, we will plot the trend of transactions throughout the month."
      ]
    },
    {
      "cell_type": "code",
      "execution_count": null,
      "id": "a29d935b",
      "metadata": {},
      "outputs": [
        {
          "data": {
            "text/plain": [
              "Text(0.5, 1.0, 'Distribution of transactions')"
            ]
          },
          "execution_count": 128,
          "metadata": {},
          "output_type": "execute_result"
        },
        {
          "data": {
            "image/png": "[encoded data removed]",
            "text/plain": [
              "<Figure size 3600x360 with 1 Axes>"
            ]
          },
          "metadata": {},
          "output_type": "display_data"
        }
      ],
      "source": [
        "# Use the \"whitegrid\" style for the plot\n",
        "sns.set_style(\"whitegrid\")\n",
        "\n",
        "# Set the size of the plot\n",
        "plt.figure(figsize=(50,5))\n",
        "\n",
        "# Create a subplot\n",
        "plt.subplot(1,3,1)\n",
        "\n",
        "# Rotate the x-tick labels by 45 degrees\n",
        "plt.xticks(rotation=45)\n",
        "\n",
        "# Create a countplot using the \"t_dat\" column from the \"transactions\" dataframe\n",
        "ax = sns.countplot(x=\"t_dat\", data=transactions, palette=\"inferno\")\n",
        "\n",
        "# Add a title to the plot\n",
        "plt.title(\"Distribution of transactions\")"
      ]
    },
    {
      "cell_type": "markdown",
      "id": "89db478f",
      "metadata": {
        "id": "89db478f"
      },
      "source": [
        "#### **Number of transactions per customer**"
      ]
    },
    {
      "attachments": {},
      "cell_type": "markdown",
      "id": "122f716d",
      "metadata": {
        "id": "122f716d"
      },
      "source": [
        "We want to determine how many purchases each customer has made. To do this, we will create a new dataframe with two columns: one for the customer ID and one for the number of purchases made by each customer. This dataframe will allow us to see how many purchases each customer has made."
      ]
    },
    {
      "cell_type": "code",
      "execution_count": null,
      "id": "0afd41fb",
      "metadata": {
        "id": "0afd41fb"
      },
      "outputs": [],
      "source": [
        "from collections import Counter\n",
        "number_transactions_customer = Counter(purchase_raws['customer_id'])"
      ]
    },
    {
      "cell_type": "code",
      "execution_count": null,
      "id": "b9c34bb4",
      "metadata": {
        "colab": {
          "base_uri": "https://localhost:8080/",
          "height": 419
        },
        "id": "b9c34bb4",
        "outputId": "d5a86c27-8441-4822-8efe-9f6ca5109133",
        "scrolled": true
      },
      "outputs": [
        {
          "data": {
            "text/html": [
              "<div>\n",
              "<style scoped>\n",
              "    .dataframe tbody tr th:only-of-type {\n",
              "        vertical-align: middle;\n",
              "    }\n",
              "\n",
              "    .dataframe tbody tr th {\n",
              "        vertical-align: top;\n",
              "    }\n",
              "\n",
              "    .dataframe thead th {\n",
              "        text-align: right;\n",
              "    }\n",
              "</style>\n",
              "<table border=\"1\" class=\"dataframe\">\n",
              "  <thead>\n",
              "    <tr style=\"text-align: right;\">\n",
              "      <th></th>\n",
              "      <th>index</th>\n",
              "      <th>Customer ID</th>\n",
              "      <th>Number of Transactions</th>\n",
              "    </tr>\n",
              "  </thead>\n",
              "  <tbody>\n",
              "    <tr>\n",
              "      <th>0</th>\n",
              "      <td>38291</td>\n",
              "      <td>9197</td>\n",
              "      <td>104</td>\n",
              "    </tr>\n",
              "    <tr>\n",
              "      <th>1</th>\n",
              "      <td>35275</td>\n",
              "      <td>36953</td>\n",
              "      <td>95</td>\n",
              "    </tr>\n",
              "    <tr>\n",
              "      <th>2</th>\n",
              "      <td>4445</td>\n",
              "      <td>16472</td>\n",
              "      <td>92</td>\n",
              "    </tr>\n",
              "    <tr>\n",
              "      <th>3</th>\n",
              "      <td>27086</td>\n",
              "      <td>13753</td>\n",
              "      <td>88</td>\n",
              "    </tr>\n",
              "    <tr>\n",
              "      <th>4</th>\n",
              "      <td>5953</td>\n",
              "      <td>33914</td>\n",
              "      <td>85</td>\n",
              "    </tr>\n",
              "    <tr>\n",
              "      <th>...</th>\n",
              "      <td>...</td>\n",
              "      <td>...</td>\n",
              "      <td>...</td>\n",
              "    </tr>\n",
              "    <tr>\n",
              "      <th>41248</th>\n",
              "      <td>31161</td>\n",
              "      <td>24874</td>\n",
              "      <td>1</td>\n",
              "    </tr>\n",
              "    <tr>\n",
              "      <th>41249</th>\n",
              "      <td>4048</td>\n",
              "      <td>11884</td>\n",
              "      <td>1</td>\n",
              "    </tr>\n",
              "    <tr>\n",
              "      <th>41250</th>\n",
              "      <td>12285</td>\n",
              "      <td>36144</td>\n",
              "      <td>1</td>\n",
              "    </tr>\n",
              "    <tr>\n",
              "      <th>41251</th>\n",
              "      <td>12292</td>\n",
              "      <td>36223</td>\n",
              "      <td>1</td>\n",
              "    </tr>\n",
              "    <tr>\n",
              "      <th>41252</th>\n",
              "      <td>40624</td>\n",
              "      <td>15652</td>\n",
              "      <td>1</td>\n",
              "    </tr>\n",
              "  </tbody>\n",
              "</table>\n",
              "<p>41253 rows × 3 columns</p>\n",
              "</div>"
            ],
            "text/plain": [
              "       index  Customer ID  Number of Transactions\n",
              "0      38291         9197                     104\n",
              "1      35275        36953                      95\n",
              "2       4445        16472                      92\n",
              "3      27086        13753                      88\n",
              "4       5953        33914                      85\n",
              "...      ...          ...                     ...\n",
              "41248  31161        24874                       1\n",
              "41249   4048        11884                       1\n",
              "41250  12285        36144                       1\n",
              "41251  12292        36223                       1\n",
              "41252  40624        15652                       1\n",
              "\n",
              "[41253 rows x 3 columns]"
            ]
          },
          "execution_count": 130,
          "metadata": {},
          "output_type": "execute_result"
        }
      ],
      "source": [
        "number_transactions_customer_df = pd.DataFrame([number_transactions_customer]).T.reset_index()\n",
        "number_transactions_customer_df.columns = ['Customer ID', 'Number of Transactions']\n",
        "number_transactions_customer_df.sort_values(by='Number of Transactions', ascending=False).reset_index()"
      ]
    },
    {
      "attachments": {},
      "cell_type": "markdown",
      "id": "31e82bf6",
      "metadata": {
        "id": "31e82bf6"
      },
      "source": [
        "The customer who has made the most purchases is '9197', with a total of 104 transactions. By sorting the data in descending order, we can create a ranking of customers based on the number of purchases they have made."
      ]
    },
    {
      "attachments": {},
      "cell_type": "markdown",
      "id": "8d523b55",
      "metadata": {
        "id": "8d523b55"
      },
      "source": [
        "In order to recommend items to users based on their similarities, we need to identify the relationships between them. One factor that may indicate a customer's likelihood to make future purchases is the number of transactions they have made. Therefore, it may be helpful to group customers according to the number of transactions they have made, in order to take into account their tendency to buy new products."
      ]
    },
    {
      "attachments": {},
      "cell_type": "markdown",
      "id": "qJgqgaF0X3rv",
      "metadata": {
        "id": "qJgqgaF0X3rv"
      },
      "source": [
        "As a further analysis, we can group all customers based on the number of transactions they have made to see the distribution of these data within the entire dataset. This can give us a better understanding of how many transactions are typically made by each group of customers."
      ]
    },
    {
      "cell_type": "code",
      "execution_count": null,
      "id": "966eecd1",
      "metadata": {
        "colab": {
          "base_uri": "https://localhost:8080/",
          "height": 419
        },
        "id": "966eecd1",
        "outputId": "3e4af028-2552-4a97-94f0-26113861f694"
      },
      "outputs": [
        {
          "data": {
            "text/html": [
              "<div>\n",
              "<style scoped>\n",
              "    .dataframe tbody tr th:only-of-type {\n",
              "        vertical-align: middle;\n",
              "    }\n",
              "\n",
              "    .dataframe tbody tr th {\n",
              "        vertical-align: top;\n",
              "    }\n",
              "\n",
              "    .dataframe thead th {\n",
              "        text-align: right;\n",
              "    }\n",
              "</style>\n",
              "<table border=\"1\" class=\"dataframe\">\n",
              "  <thead>\n",
              "    <tr style=\"text-align: right;\">\n",
              "      <th></th>\n",
              "      <th>customer_id</th>\n",
              "      <th>Number of transactions</th>\n",
              "      <th>transaction_group</th>\n",
              "    </tr>\n",
              "  </thead>\n",
              "  <tbody>\n",
              "    <tr>\n",
              "      <th>0</th>\n",
              "      <td>0</td>\n",
              "      <td>20</td>\n",
              "      <td>NaN</td>\n",
              "    </tr>\n",
              "    <tr>\n",
              "      <th>1</th>\n",
              "      <td>1</td>\n",
              "      <td>7</td>\n",
              "      <td>5-6</td>\n",
              "    </tr>\n",
              "    <tr>\n",
              "      <th>2</th>\n",
              "      <td>2</td>\n",
              "      <td>8</td>\n",
              "      <td>7-8</td>\n",
              "    </tr>\n",
              "    <tr>\n",
              "      <th>3</th>\n",
              "      <td>3</td>\n",
              "      <td>10</td>\n",
              "      <td>9-10</td>\n",
              "    </tr>\n",
              "    <tr>\n",
              "      <th>4</th>\n",
              "      <td>4</td>\n",
              "      <td>12</td>\n",
              "      <td>11+</td>\n",
              "    </tr>\n",
              "    <tr>\n",
              "      <th>...</th>\n",
              "      <td>...</td>\n",
              "      <td>...</td>\n",
              "      <td>...</td>\n",
              "    </tr>\n",
              "    <tr>\n",
              "      <th>41248</th>\n",
              "      <td>41248</td>\n",
              "      <td>6</td>\n",
              "      <td>5-6</td>\n",
              "    </tr>\n",
              "    <tr>\n",
              "      <th>41249</th>\n",
              "      <td>41249</td>\n",
              "      <td>6</td>\n",
              "      <td>5-6</td>\n",
              "    </tr>\n",
              "    <tr>\n",
              "      <th>41250</th>\n",
              "      <td>41250</td>\n",
              "      <td>6</td>\n",
              "      <td>5-6</td>\n",
              "    </tr>\n",
              "    <tr>\n",
              "      <th>41251</th>\n",
              "      <td>41251</td>\n",
              "      <td>8</td>\n",
              "      <td>7-8</td>\n",
              "    </tr>\n",
              "    <tr>\n",
              "      <th>41252</th>\n",
              "      <td>41252</td>\n",
              "      <td>2</td>\n",
              "      <td>1-2</td>\n",
              "    </tr>\n",
              "  </tbody>\n",
              "</table>\n",
              "<p>41253 rows × 3 columns</p>\n",
              "</div>"
            ],
            "text/plain": [
              "       customer_id  Number of transactions transaction_group\n",
              "0                0                      20               NaN\n",
              "1                1                       7               5-6\n",
              "2                2                       8               7-8\n",
              "3                3                      10              9-10\n",
              "4                4                      12               11+\n",
              "...            ...                     ...               ...\n",
              "41248        41248                       6               5-6\n",
              "41249        41249                       6               5-6\n",
              "41250        41250                       6               5-6\n",
              "41251        41251                       8               7-8\n",
              "41252        41252                       2               1-2\n",
              "\n",
              "[41253 rows x 3 columns]"
            ]
          },
          "execution_count": 224,
          "metadata": {},
          "output_type": "execute_result"
        }
      ],
      "source": [
        "boxe = [0, 3, 5, 7, 9, 11, 13]\n",
        "collections = ['1-2','3-4','5-6','7-8', '9-10', '11+']\n",
        "customers['Number of transactions'] = number_transactions_customer_df['Number of Transactions']\n",
        "customers['transaction_group'] = pd.cut(customers['Number of transactions'], boxe, labels = collections, include_lowest=True)\n",
        "customers.drop(columns=['club_member', 'age', 'fashion_news', 'age_group'])"
      ]
    },
    {
      "cell_type": "markdown",
      "id": "18671252",
      "metadata": {
        "id": "18671252"
      },
      "source": [
        "We can create a dataframe with these results in order to plot them."
      ]
    },
    {
      "attachments": {},
      "cell_type": "markdown",
      "id": "12f6bf26",
      "metadata": {},
      "source": [
        "We can use these results to create a dataframe and then plot them."
      ]
    },
    {
      "cell_type": "code",
      "execution_count": null,
      "id": "5a67d89a",
      "metadata": {
        "id": "5a67d89a"
      },
      "outputs": [],
      "source": [
        "trans_collections_counts = customers.groupby('transaction_group').size()"
      ]
    },
    {
      "cell_type": "code",
      "execution_count": null,
      "id": "0e8f67e1",
      "metadata": {
        "colab": {
          "base_uri": "https://localhost:8080/",
          "height": 235
        },
        "id": "0e8f67e1",
        "outputId": "d2d33e2b-4773-4b36-af2f-0989d79cf7c2"
      },
      "outputs": [
        {
          "data": {
            "text/html": [
              "<div>\n",
              "<style scoped>\n",
              "    .dataframe tbody tr th:only-of-type {\n",
              "        vertical-align: middle;\n",
              "    }\n",
              "\n",
              "    .dataframe tbody tr th {\n",
              "        vertical-align: top;\n",
              "    }\n",
              "\n",
              "    .dataframe thead th {\n",
              "        text-align: right;\n",
              "    }\n",
              "</style>\n",
              "<table border=\"1\" class=\"dataframe\">\n",
              "  <thead>\n",
              "    <tr style=\"text-align: right;\">\n",
              "      <th></th>\n",
              "      <th>Transaction Collection</th>\n",
              "      <th>Number of customers</th>\n",
              "    </tr>\n",
              "  </thead>\n",
              "  <tbody>\n",
              "    <tr>\n",
              "      <th>0</th>\n",
              "      <td>1-2</td>\n",
              "      <td>1464</td>\n",
              "    </tr>\n",
              "    <tr>\n",
              "      <th>1</th>\n",
              "      <td>3-4</td>\n",
              "      <td>5116</td>\n",
              "    </tr>\n",
              "    <tr>\n",
              "      <th>2</th>\n",
              "      <td>5-6</td>\n",
              "      <td>14569</td>\n",
              "    </tr>\n",
              "    <tr>\n",
              "      <th>3</th>\n",
              "      <td>7-8</td>\n",
              "      <td>7669</td>\n",
              "    </tr>\n",
              "    <tr>\n",
              "      <th>4</th>\n",
              "      <td>9-10</td>\n",
              "      <td>4347</td>\n",
              "    </tr>\n",
              "    <tr>\n",
              "      <th>5</th>\n",
              "      <td>11+</td>\n",
              "      <td>2779</td>\n",
              "    </tr>\n",
              "  </tbody>\n",
              "</table>\n",
              "</div>"
            ],
            "text/plain": [
              "  Transaction Collection  Number of customers\n",
              "0                    1-2                 1464\n",
              "1                    3-4                 5116\n",
              "2                    5-6                14569\n",
              "3                    7-8                 7669\n",
              "4                   9-10                 4347\n",
              "5                    11+                 2779"
            ]
          },
          "execution_count": 226,
          "metadata": {},
          "output_type": "execute_result"
        }
      ],
      "source": [
        "trans_collections_counts_df = pd.DataFrame([trans_collections_counts]).T.reset_index()\n",
        "trans_collections_counts_df.columns = ['Transaction Collection', 'Number of customers']\n",
        "trans_collections_counts_df"
      ]
    },
    {
      "attachments": {},
      "cell_type": "markdown",
      "id": "63AU5o8J-P85",
      "metadata": {
        "id": "63AU5o8J-P85"
      },
      "source": [
        "Based on the graph, it is clear that the majority of customers have purchased between 5 and 6 products, while only a small minority have purchased more than 11 products."
      ]
    },
    {
      "cell_type": "code",
      "execution_count": null,
      "id": "6d877f20",
      "metadata": {
        "colab": {
          "base_uri": "https://localhost:8080/",
          "height": 353
        },
        "id": "6d877f20",
        "outputId": "708f7191-c7c8-400a-e25d-00f99b66c8f5"
      },
      "outputs": [
        {
          "data": {
            "image/png": "[encoded data removed]",
            "text/plain": [
              "<Figure size 720x360 with 1 Axes>"
            ]
          },
          "metadata": {},
          "output_type": "display_data"
        }
      ],
      "source": [
        "plt.figure(figsize=(10,5))\n",
        "sns.barplot(x='Transaction Collection', y='Number of customers', data=trans_collections_counts_df)\n",
        "plt.xticks(rotation=90)\n",
        "plt.show()"
      ]
    },
    {
      "cell_type": "markdown",
      "id": "00334d5f",
      "metadata": {
        "id": "00334d5f"
      },
      "source": [
        "#### **Number of customers that has bought each product**"
      ]
    },
    {
      "cell_type": "markdown",
      "id": "050ad075",
      "metadata": {
        "id": "050ad075"
      },
      "source": [
        "It is also interesting to see everything on the other way around, so how many times each item has been bought by customers."
      ]
    },
    {
      "cell_type": "code",
      "execution_count": null,
      "id": "975b0274",
      "metadata": {
        "id": "975b0274"
      },
      "outputs": [],
      "source": [
        "number_of_transactions_of_article = Counter(transactions['article_id'])"
      ]
    },
    {
      "cell_type": "code",
      "execution_count": null,
      "id": "03d78b82",
      "metadata": {
        "colab": {
          "base_uri": "https://localhost:8080/",
          "height": 419
        },
        "id": "03d78b82",
        "outputId": "c2db1848-a156-4959-d768-4bdc9919303c"
      },
      "outputs": [
        {
          "data": {
            "text/html": [
              "<div>\n",
              "<style scoped>\n",
              "    .dataframe tbody tr th:only-of-type {\n",
              "        vertical-align: middle;\n",
              "    }\n",
              "\n",
              "    .dataframe tbody tr th {\n",
              "        vertical-align: top;\n",
              "    }\n",
              "\n",
              "    .dataframe thead th {\n",
              "        text-align: right;\n",
              "    }\n",
              "</style>\n",
              "<table border=\"1\" class=\"dataframe\">\n",
              "  <thead>\n",
              "    <tr style=\"text-align: right;\">\n",
              "      <th></th>\n",
              "      <th>Article ID</th>\n",
              "      <th>Number of Transactions</th>\n",
              "    </tr>\n",
              "  </thead>\n",
              "  <tbody>\n",
              "    <tr>\n",
              "      <th>3557</th>\n",
              "      <td>2049</td>\n",
              "      <td>11</td>\n",
              "    </tr>\n",
              "    <tr>\n",
              "      <th>3305</th>\n",
              "      <td>3353</td>\n",
              "      <td>11</td>\n",
              "    </tr>\n",
              "    <tr>\n",
              "      <th>1643</th>\n",
              "      <td>1758</td>\n",
              "      <td>11</td>\n",
              "    </tr>\n",
              "    <tr>\n",
              "      <th>4063</th>\n",
              "      <td>3603</td>\n",
              "      <td>11</td>\n",
              "    </tr>\n",
              "    <tr>\n",
              "      <th>5518</th>\n",
              "      <td>47</td>\n",
              "      <td>11</td>\n",
              "    </tr>\n",
              "    <tr>\n",
              "      <th>...</th>\n",
              "      <td>...</td>\n",
              "      <td>...</td>\n",
              "    </tr>\n",
              "    <tr>\n",
              "      <th>314</th>\n",
              "      <td>1429</td>\n",
              "      <td>815</td>\n",
              "    </tr>\n",
              "    <tr>\n",
              "      <th>1339</th>\n",
              "      <td>6166</td>\n",
              "      <td>858</td>\n",
              "    </tr>\n",
              "    <tr>\n",
              "      <th>63</th>\n",
              "      <td>5831</td>\n",
              "      <td>889</td>\n",
              "    </tr>\n",
              "    <tr>\n",
              "      <th>917</th>\n",
              "      <td>168</td>\n",
              "      <td>896</td>\n",
              "    </tr>\n",
              "    <tr>\n",
              "      <th>48</th>\n",
              "      <td>1419</td>\n",
              "      <td>1045</td>\n",
              "    </tr>\n",
              "  </tbody>\n",
              "</table>\n",
              "<p>6469 rows × 2 columns</p>\n",
              "</div>"
            ],
            "text/plain": [
              "      Article ID  Number of Transactions\n",
              "3557        2049                      11\n",
              "3305        3353                      11\n",
              "1643        1758                      11\n",
              "4063        3603                      11\n",
              "5518          47                      11\n",
              "...          ...                     ...\n",
              "314         1429                     815\n",
              "1339        6166                     858\n",
              "63          5831                     889\n",
              "917          168                     896\n",
              "48          1419                    1045\n",
              "\n",
              "[6469 rows x 2 columns]"
            ]
          },
          "execution_count": 136,
          "metadata": {},
          "output_type": "execute_result"
        }
      ],
      "source": [
        "number_of_transactions_of_article_df = pd.DataFrame([number_of_transactions_of_article]).T.reset_index()\n",
        "number_of_transactions_of_article_df.columns = ['Article ID', 'Number of Transactions']\n",
        "number_of_transactions_of_article_df.sort_values(by='Number of Transactions', ascending=True)"
      ]
    },
    {
      "cell_type": "markdown",
      "id": "fd371d6f",
      "metadata": {
        "id": "fd371d6f"
      },
      "source": [
        "#### **ANALYSIS**"
      ]
    },
    {
      "attachments": {},
      "cell_type": "markdown",
      "id": "PzDEu6KLadIk",
      "metadata": {
        "id": "PzDEu6KLadIk"
      },
      "source": [
        "*Instead of analyzing each dataset individually, we want to take advantage of all the information we can gather by combining them.*"
      ]
    },
    {
      "attachments": {},
      "cell_type": "markdown",
      "id": "b330912a",
      "metadata": {
        "id": "b330912a"
      },
      "source": [
        "The above dataframe allows us to determine the most requested article. By searching for its ID in the articles dataset, we can access a wider range of information about the customers who have purchased it. This is more detailed than the analysis we previously conducted on customers, as we now have access to sensitive information that can be used for more in-depth analysis. On the other hand, the articles dataset provides us with more information that can be useful for market strategies. Let's see what article 'ID 1419' is."
      ]
    },
    {
      "cell_type": "code",
      "execution_count": null,
      "id": "0899208c",
      "metadata": {
        "colab": {
          "base_uri": "https://localhost:8080/",
          "height": 207
        },
        "id": "0899208c",
        "outputId": "a2d94ccf-4686-4247-ea8e-7599db896aab",
        "scrolled": true
      },
      "outputs": [
        {
          "data": {
            "text/html": [
              "<div>\n",
              "<style scoped>\n",
              "    .dataframe tbody tr th:only-of-type {\n",
              "        vertical-align: middle;\n",
              "    }\n",
              "\n",
              "    .dataframe tbody tr th {\n",
              "        vertical-align: top;\n",
              "    }\n",
              "\n",
              "    .dataframe thead th {\n",
              "        text-align: right;\n",
              "    }\n",
              "</style>\n",
              "<table border=\"1\" class=\"dataframe\">\n",
              "  <thead>\n",
              "    <tr style=\"text-align: right;\">\n",
              "      <th></th>\n",
              "      <th>article_id</th>\n",
              "      <th>prod_name</th>\n",
              "      <th>product_type</th>\n",
              "      <th>product_type_name</th>\n",
              "      <th>product_group_name</th>\n",
              "      <th>colour_group</th>\n",
              "      <th>colour_group_name</th>\n",
              "      <th>perceived_colour_value</th>\n",
              "      <th>perceived_colour_value_name</th>\n",
              "      <th>perceived_colour_master</th>\n",
              "      <th>...</th>\n",
              "      <th>department</th>\n",
              "      <th>department_name</th>\n",
              "      <th>index</th>\n",
              "      <th>index_name</th>\n",
              "      <th>index_group</th>\n",
              "      <th>index_group_name</th>\n",
              "      <th>section</th>\n",
              "      <th>section_name</th>\n",
              "      <th>garment_group</th>\n",
              "      <th>garment_group_name</th>\n",
              "    </tr>\n",
              "  </thead>\n",
              "  <tbody>\n",
              "    <tr>\n",
              "      <th>1419</th>\n",
              "      <td>1419</td>\n",
              "      <td>Pluto RW slacks (1)</td>\n",
              "      <td>272</td>\n",
              "      <td>Trousers</td>\n",
              "      <td>Garment Lower body</td>\n",
              "      <td>9</td>\n",
              "      <td>Black</td>\n",
              "      <td>4</td>\n",
              "      <td>Dark</td>\n",
              "      <td>5</td>\n",
              "      <td>...</td>\n",
              "      <td>1722</td>\n",
              "      <td>Trouser</td>\n",
              "      <td>A</td>\n",
              "      <td>Ladieswear</td>\n",
              "      <td>1</td>\n",
              "      <td>Ladieswear</td>\n",
              "      <td>15</td>\n",
              "      <td>Womens Everyday Collection</td>\n",
              "      <td>1009</td>\n",
              "      <td>Trousers</td>\n",
              "    </tr>\n",
              "  </tbody>\n",
              "</table>\n",
              "<p>1 rows × 21 columns</p>\n",
              "</div>"
            ],
            "text/plain": [
              "      article_id            prod_name  product_type product_type_name  \\\n",
              "1419        1419  Pluto RW slacks (1)           272          Trousers   \n",
              "\n",
              "      product_group_name  colour_group colour_group_name  \\\n",
              "1419  Garment Lower body             9             Black   \n",
              "\n",
              "      perceived_colour_value perceived_colour_value_name  \\\n",
              "1419                       4                        Dark   \n",
              "\n",
              "      perceived_colour_master  ... department  department_name index  \\\n",
              "1419                        5  ...       1722          Trouser     A   \n",
              "\n",
              "      index_name index_group  index_group_name section  \\\n",
              "1419  Ladieswear           1        Ladieswear      15   \n",
              "\n",
              "                    section_name garment_group  garment_group_name  \n",
              "1419  Womens Everyday Collection          1009            Trousers  \n",
              "\n",
              "[1 rows x 21 columns]"
            ]
          },
          "execution_count": 137,
          "metadata": {},
          "output_type": "execute_result"
        }
      ],
      "source": [
        "myarticles.loc[myarticles['article_id'] == 1419]"
      ]
    },
    {
      "attachments": {},
      "cell_type": "markdown",
      "id": "21409998",
      "metadata": {
        "id": "21409998"
      },
      "source": [
        "This row provides us with a lot of information. Instead of analyzing individual products, we believe it is more effective to focus on a category because it allows us to have a more accurate analysis based on a larger group of articles. This helps to avoid any outliers that might skew the results."
      ]
    },
    {
      "cell_type": "code",
      "execution_count": null,
      "id": "ff0caee8",
      "metadata": {
        "id": "ff0caee8"
      },
      "outputs": [],
      "source": [
        "article_type_dict = {}\n",
        "article_collection_dict = {}\n",
        "article_kind_dict = {}\n",
        "\n",
        "for item ,row in myarticles.iterrows():\n",
        "    article_type_dict[row['article_id']] = row['product_type_name']\n",
        "    article_collection_dict[row['article_id']] = row['product_group_name']\n",
        "    article_kind_dict[row['article_id']] = row['section_name']"
      ]
    },
    {
      "cell_type": "code",
      "execution_count": null,
      "id": "04f656a4",
      "metadata": {
        "colab": {
          "base_uri": "https://localhost:8080/",
          "height": 419
        },
        "id": "04f656a4",
        "outputId": "92c29e0b-0cf5-4b24-c5f6-c6d2dc139e8a"
      },
      "outputs": [
        {
          "data": {
            "text/html": [
              "<div>\n",
              "<style scoped>\n",
              "    .dataframe tbody tr th:only-of-type {\n",
              "        vertical-align: middle;\n",
              "    }\n",
              "\n",
              "    .dataframe tbody tr th {\n",
              "        vertical-align: top;\n",
              "    }\n",
              "\n",
              "    .dataframe thead th {\n",
              "        text-align: right;\n",
              "    }\n",
              "</style>\n",
              "<table border=\"1\" class=\"dataframe\">\n",
              "  <thead>\n",
              "    <tr style=\"text-align: right;\">\n",
              "      <th></th>\n",
              "      <th>Type of products</th>\n",
              "      <th>Number of Transactions</th>\n",
              "    </tr>\n",
              "  </thead>\n",
              "  <tbody>\n",
              "    <tr>\n",
              "      <th>5</th>\n",
              "      <td>Trousers</td>\n",
              "      <td>65295</td>\n",
              "    </tr>\n",
              "    <tr>\n",
              "      <th>11</th>\n",
              "      <td>Sweater</td>\n",
              "      <td>49602</td>\n",
              "    </tr>\n",
              "    <tr>\n",
              "      <th>2</th>\n",
              "      <td>Top</td>\n",
              "      <td>28308</td>\n",
              "    </tr>\n",
              "    <tr>\n",
              "      <th>3</th>\n",
              "      <td>Dress</td>\n",
              "      <td>26333</td>\n",
              "    </tr>\n",
              "    <tr>\n",
              "      <th>23</th>\n",
              "      <td>T-shirt</td>\n",
              "      <td>21010</td>\n",
              "    </tr>\n",
              "    <tr>\n",
              "      <th>...</th>\n",
              "      <td>...</td>\n",
              "      <td>...</td>\n",
              "    </tr>\n",
              "    <tr>\n",
              "      <th>68</th>\n",
              "      <td>Swimwear set</td>\n",
              "      <td>16</td>\n",
              "    </tr>\n",
              "    <tr>\n",
              "      <th>70</th>\n",
              "      <td>Braces</td>\n",
              "      <td>15</td>\n",
              "    </tr>\n",
              "    <tr>\n",
              "      <th>74</th>\n",
              "      <td>Flip flop</td>\n",
              "      <td>14</td>\n",
              "    </tr>\n",
              "    <tr>\n",
              "      <th>77</th>\n",
              "      <td>Heels</td>\n",
              "      <td>13</td>\n",
              "    </tr>\n",
              "    <tr>\n",
              "      <th>69</th>\n",
              "      <td>Hairband</td>\n",
              "      <td>13</td>\n",
              "    </tr>\n",
              "  </tbody>\n",
              "</table>\n",
              "<p>81 rows × 2 columns</p>\n",
              "</div>"
            ],
            "text/plain": [
              "   Type of products  Number of Transactions\n",
              "5          Trousers                   65295\n",
              "11          Sweater                   49602\n",
              "2               Top                   28308\n",
              "3             Dress                   26333\n",
              "23          T-shirt                   21010\n",
              "..              ...                     ...\n",
              "68     Swimwear set                      16\n",
              "70           Braces                      15\n",
              "74        Flip flop                      14\n",
              "77            Heels                      13\n",
              "69         Hairband                      13\n",
              "\n",
              "[81 rows x 2 columns]"
            ]
          },
          "execution_count": 139,
          "metadata": {},
          "output_type": "execute_result"
        }
      ],
      "source": [
        "type_transactions = {}\n",
        "for item,row in transactions.iterrows():\n",
        "  if article_type_dict[row['article_id']] in type_transactions.keys():\n",
        "    type_transactions[article_type_dict[row['article_id']]] += 1\n",
        "  else:\n",
        "    type_transactions[article_type_dict[row['article_id']]] = 1\n",
        "        \n",
        "type_transactions_df = pd.DataFrame({'Type of products':list(type_transactions.keys()),'Number of Transactions':list(type_transactions.values())})\n",
        "type_transactions_df = type_transactions_df.sort_values(by='Number of Transactions', ascending = False)\n",
        "type_transactions_df"
      ]
    },
    {
      "attachments": {},
      "cell_type": "markdown",
      "id": "da6412c0",
      "metadata": {
        "id": "da6412c0"
      },
      "source": [
        "This dataframe reveals that the top-selling product category is \"Trousers,\" which is significantly more popular than the second-highest seller. This may be due to the fact that the category of trousers includes a larger variety of articles."
      ]
    },
    {
      "cell_type": "code",
      "execution_count": null,
      "id": "44b9419c",
      "metadata": {
        "colab": {
          "base_uri": "https://localhost:8080/",
          "height": 417
        },
        "id": "44b9419c",
        "outputId": "6a46cdd1-b0dc-428a-b1ca-56e12f9c9c7c"
      },
      "outputs": [
        {
          "data": {
            "image/png": "[encoded data removed]",
            "text/plain": [
              "<Figure size 1440x360 with 1 Axes>"
            ]
          },
          "metadata": {},
          "output_type": "display_data"
        }
      ],
      "source": [
        "plt.figure(figsize=(20,5))\n",
        "sns.barplot(x='Type of products', y='Number of Transactions', data=type_transactions_df)\n",
        "plt.xticks(rotation=90)\n",
        "plt.show()"
      ]
    },
    {
      "attachments": {},
      "cell_type": "markdown",
      "id": "8fff096c",
      "metadata": {
        "id": "8fff096c"
      },
      "source": [
        "Now, let's repeat the same analysis but focus on the section of articles instead."
      ]
    },
    {
      "cell_type": "code",
      "execution_count": null,
      "id": "iWU2pWake-4W",
      "metadata": {
        "id": "iWU2pWake-4W"
      },
      "outputs": [],
      "source": [
        "section_transactions = {}\n",
        "for item,row in transactions.iterrows():\n",
        "      if article_type_dict[row['article_id']] in section_transactions.keys():\n",
        "        section_transactions[article_type_dict[row['article_id']]] += 1\n",
        "      else:\n",
        "        section_transactions[article_type_dict[row['article_id']]] = 1\n",
        "        \n",
        "section_transactions_df = pd.DataFrame({'Section of products':list(section_transactions.keys()),'Number of Transactions':list(section_transactions.values())})\n",
        "section_transactions_df = section_transactions_df.sort_values(by='Number of Transactions', ascending = False)"
      ]
    },
    {
      "attachments": {},
      "cell_type": "markdown",
      "id": "46d5cdc8",
      "metadata": {
        "id": "46d5cdc8"
      },
      "source": [
        "We may choose to select a smaller subset of data because the ends of the graphs (the tails) are very close to zero."
      ]
    },
    {
      "cell_type": "code",
      "execution_count": null,
      "id": "jiheHv5tfer9",
      "metadata": {
        "colab": {
          "base_uri": "https://localhost:8080/",
          "height": 491
        },
        "id": "jiheHv5tfer9",
        "outputId": "b3459e6f-d689-45c3-d636-f61f6a1a1e0b"
      },
      "outputs": [
        {
          "data": {
            "image/png": "[encoded data removed]",
            "text/plain": [
              "<Figure size 720x360 with 1 Axes>"
            ]
          },
          "metadata": {},
          "output_type": "display_data"
        }
      ],
      "source": [
        "plt.figure(figsize=(10,5))\n",
        "sns.barplot(x='Section of products', y='Number of Transactions', data=section_transactions_df)\n",
        "plt.xticks(rotation=90)\n",
        "plt.show()"
      ]
    },
    {
      "cell_type": "markdown",
      "id": "FA69me7dB9l5",
      "metadata": {
        "id": "FA69me7dB9l5"
      },
      "source": [
        "We could decide to select just a smaller proportion of data because the tails of our graphs are really closed to 0."
      ]
    },
    {
      "cell_type": "code",
      "execution_count": null,
      "id": "OL-Hp3JpBQ6e",
      "metadata": {
        "id": "OL-Hp3JpBQ6e"
      },
      "outputs": [],
      "source": [
        "section_transactions_df_over5000 = section_transactions_df[section_transactions_df['Number of Transactions']>5000]"
      ]
    },
    {
      "cell_type": "code",
      "execution_count": null,
      "id": "XKZ3CjKW1k90",
      "metadata": {
        "id": "XKZ3CjKW1k90"
      },
      "outputs": [],
      "source": [
        "type_transactions_df_over5000 = type_transactions_df[type_transactions_df['Number of Transactions']>5000]"
      ]
    },
    {
      "cell_type": "code",
      "execution_count": null,
      "id": "ZSVFOks9BcdG",
      "metadata": {
        "colab": {
          "base_uri": "https://localhost:8080/",
          "height": 491
        },
        "id": "ZSVFOks9BcdG",
        "outputId": "1edee6f0-dd44-42dc-a7c0-b1026bf5fbcd"
      },
      "outputs": [
        {
          "data": {
            "image/png": "[encoded data removed]",
            "text/plain": [
              "<Figure size 720x360 with 1 Axes>"
            ]
          },
          "metadata": {},
          "output_type": "display_data"
        }
      ],
      "source": [
        "plt.figure(figsize=(10,5))\n",
        "sns.barplot(x='Section of products', y='Number of Transactions', data=section_transactions_df_over5000)\n",
        "plt.xticks(rotation=90)\n",
        "plt.show()"
      ]
    },
    {
      "cell_type": "code",
      "execution_count": null,
      "id": "0OJlDhjw1plL",
      "metadata": {
        "colab": {
          "base_uri": "https://localhost:8080/",
          "height": 397
        },
        "id": "0OJlDhjw1plL",
        "outputId": "86e9ad1b-960b-40d1-abd8-95156590b33e"
      },
      "outputs": [
        {
          "data": {
            "image/png": "[encoded data removed]",
            "text/plain": [
              "<Figure size 1440x360 with 1 Axes>"
            ]
          },
          "metadata": {},
          "output_type": "display_data"
        }
      ],
      "source": [
        "plt.figure(figsize=(20,5))\n",
        "sns.barplot(x='Type of products', y='Number of Transactions', data=type_transactions_df_over5000)\n",
        "plt.xticks(rotation=45)\n",
        "plt.show()"
      ]
    },
    {
      "cell_type": "markdown",
      "id": "9b1fe1bd",
      "metadata": {
        "id": "9b1fe1bd"
      },
      "source": [
        "# CONTENT-BASED FILTERING RECOMMENDER"
      ]
    },
    {
      "attachments": {},
      "cell_type": "markdown",
      "id": "aaf10176",
      "metadata": {
        "id": "aaf10176"
      },
      "source": [
        "Now, we can begin building the content-based filtering recommender. To do this, we need to set up our dataset so that the rows represent all the articles and the columns represent the features we are interested in.\n",
        "\n",
        "1. we will create a table with columns for all the values in the 'perceived_colour_master_name' column, and rows for all the articles. The values in the table will be '1' if the corresponding article has the color of the respective column, and '0' otherwise. This will allow us to use the information about the colors of the articles to recommend similar items to users."
      ]
    },
    {
      "cell_type": "code",
      "execution_count": null,
      "id": "9ef6005b",
      "metadata": {
        "colab": {
          "base_uri": "https://localhost:8080/",
          "height": 419
        },
        "id": "9ef6005b",
        "outputId": "3813ac53-ba08-4365-9775-c272420fefbd"
      },
      "outputs": [
        {
          "data": {
            "text/html": [
              "<div>\n",
              "<style scoped>\n",
              "    .dataframe tbody tr th:only-of-type {\n",
              "        vertical-align: middle;\n",
              "    }\n",
              "\n",
              "    .dataframe tbody tr th {\n",
              "        vertical-align: top;\n",
              "    }\n",
              "\n",
              "    .dataframe thead th {\n",
              "        text-align: right;\n",
              "    }\n",
              "</style>\n",
              "<table border=\"1\" class=\"dataframe\">\n",
              "  <thead>\n",
              "    <tr style=\"text-align: right;\">\n",
              "      <th></th>\n",
              "      <th>Black</th>\n",
              "      <th>Blue</th>\n",
              "      <th>Grey</th>\n",
              "      <th>Beige</th>\n",
              "      <th>White</th>\n",
              "      <th>Brown</th>\n",
              "      <th>Mole</th>\n",
              "      <th>Khaki green</th>\n",
              "      <th>Red</th>\n",
              "      <th>Metal</th>\n",
              "      <th>Lilac Purple</th>\n",
              "      <th>Yellow</th>\n",
              "      <th>Pink</th>\n",
              "      <th>Green</th>\n",
              "      <th>Orange</th>\n",
              "      <th>Turquoise</th>\n",
              "    </tr>\n",
              "  </thead>\n",
              "  <tbody>\n",
              "    <tr>\n",
              "      <th>0</th>\n",
              "      <td>1</td>\n",
              "      <td>0</td>\n",
              "      <td>0</td>\n",
              "      <td>0</td>\n",
              "      <td>0</td>\n",
              "      <td>0</td>\n",
              "      <td>0</td>\n",
              "      <td>0</td>\n",
              "      <td>0</td>\n",
              "      <td>0</td>\n",
              "      <td>0</td>\n",
              "      <td>0</td>\n",
              "      <td>0</td>\n",
              "      <td>0</td>\n",
              "      <td>0</td>\n",
              "      <td>0</td>\n",
              "    </tr>\n",
              "    <tr>\n",
              "      <th>1</th>\n",
              "      <td>1</td>\n",
              "      <td>0</td>\n",
              "      <td>0</td>\n",
              "      <td>0</td>\n",
              "      <td>0</td>\n",
              "      <td>0</td>\n",
              "      <td>0</td>\n",
              "      <td>0</td>\n",
              "      <td>0</td>\n",
              "      <td>0</td>\n",
              "      <td>0</td>\n",
              "      <td>0</td>\n",
              "      <td>0</td>\n",
              "      <td>0</td>\n",
              "      <td>0</td>\n",
              "      <td>0</td>\n",
              "    </tr>\n",
              "    <tr>\n",
              "      <th>2</th>\n",
              "      <td>1</td>\n",
              "      <td>0</td>\n",
              "      <td>0</td>\n",
              "      <td>0</td>\n",
              "      <td>0</td>\n",
              "      <td>0</td>\n",
              "      <td>0</td>\n",
              "      <td>0</td>\n",
              "      <td>0</td>\n",
              "      <td>0</td>\n",
              "      <td>0</td>\n",
              "      <td>0</td>\n",
              "      <td>0</td>\n",
              "      <td>0</td>\n",
              "      <td>0</td>\n",
              "      <td>0</td>\n",
              "    </tr>\n",
              "    <tr>\n",
              "      <th>3</th>\n",
              "      <td>1</td>\n",
              "      <td>0</td>\n",
              "      <td>0</td>\n",
              "      <td>0</td>\n",
              "      <td>0</td>\n",
              "      <td>0</td>\n",
              "      <td>0</td>\n",
              "      <td>0</td>\n",
              "      <td>0</td>\n",
              "      <td>0</td>\n",
              "      <td>0</td>\n",
              "      <td>0</td>\n",
              "      <td>0</td>\n",
              "      <td>0</td>\n",
              "      <td>0</td>\n",
              "      <td>0</td>\n",
              "    </tr>\n",
              "    <tr>\n",
              "      <th>4</th>\n",
              "      <td>1</td>\n",
              "      <td>0</td>\n",
              "      <td>0</td>\n",
              "      <td>0</td>\n",
              "      <td>0</td>\n",
              "      <td>0</td>\n",
              "      <td>0</td>\n",
              "      <td>0</td>\n",
              "      <td>0</td>\n",
              "      <td>0</td>\n",
              "      <td>0</td>\n",
              "      <td>0</td>\n",
              "      <td>0</td>\n",
              "      <td>0</td>\n",
              "      <td>0</td>\n",
              "      <td>0</td>\n",
              "    </tr>\n",
              "    <tr>\n",
              "      <th>...</th>\n",
              "      <td>...</td>\n",
              "      <td>...</td>\n",
              "      <td>...</td>\n",
              "      <td>...</td>\n",
              "      <td>...</td>\n",
              "      <td>...</td>\n",
              "      <td>...</td>\n",
              "      <td>...</td>\n",
              "      <td>...</td>\n",
              "      <td>...</td>\n",
              "      <td>...</td>\n",
              "      <td>...</td>\n",
              "      <td>...</td>\n",
              "      <td>...</td>\n",
              "      <td>...</td>\n",
              "      <td>...</td>\n",
              "    </tr>\n",
              "    <tr>\n",
              "      <th>6531</th>\n",
              "      <td>1</td>\n",
              "      <td>0</td>\n",
              "      <td>0</td>\n",
              "      <td>0</td>\n",
              "      <td>0</td>\n",
              "      <td>0</td>\n",
              "      <td>0</td>\n",
              "      <td>0</td>\n",
              "      <td>0</td>\n",
              "      <td>0</td>\n",
              "      <td>0</td>\n",
              "      <td>0</td>\n",
              "      <td>0</td>\n",
              "      <td>0</td>\n",
              "      <td>0</td>\n",
              "      <td>0</td>\n",
              "    </tr>\n",
              "    <tr>\n",
              "      <th>6532</th>\n",
              "      <td>0</td>\n",
              "      <td>0</td>\n",
              "      <td>0</td>\n",
              "      <td>0</td>\n",
              "      <td>0</td>\n",
              "      <td>0</td>\n",
              "      <td>0</td>\n",
              "      <td>0</td>\n",
              "      <td>0</td>\n",
              "      <td>0</td>\n",
              "      <td>0</td>\n",
              "      <td>0</td>\n",
              "      <td>1</td>\n",
              "      <td>0</td>\n",
              "      <td>0</td>\n",
              "      <td>0</td>\n",
              "    </tr>\n",
              "    <tr>\n",
              "      <th>6533</th>\n",
              "      <td>1</td>\n",
              "      <td>0</td>\n",
              "      <td>0</td>\n",
              "      <td>0</td>\n",
              "      <td>0</td>\n",
              "      <td>0</td>\n",
              "      <td>0</td>\n",
              "      <td>0</td>\n",
              "      <td>0</td>\n",
              "      <td>0</td>\n",
              "      <td>0</td>\n",
              "      <td>0</td>\n",
              "      <td>0</td>\n",
              "      <td>0</td>\n",
              "      <td>0</td>\n",
              "      <td>0</td>\n",
              "    </tr>\n",
              "    <tr>\n",
              "      <th>6534</th>\n",
              "      <td>1</td>\n",
              "      <td>0</td>\n",
              "      <td>0</td>\n",
              "      <td>0</td>\n",
              "      <td>0</td>\n",
              "      <td>0</td>\n",
              "      <td>0</td>\n",
              "      <td>0</td>\n",
              "      <td>0</td>\n",
              "      <td>0</td>\n",
              "      <td>0</td>\n",
              "      <td>0</td>\n",
              "      <td>0</td>\n",
              "      <td>0</td>\n",
              "      <td>0</td>\n",
              "      <td>0</td>\n",
              "    </tr>\n",
              "    <tr>\n",
              "      <th>6535</th>\n",
              "      <td>1</td>\n",
              "      <td>0</td>\n",
              "      <td>0</td>\n",
              "      <td>0</td>\n",
              "      <td>0</td>\n",
              "      <td>0</td>\n",
              "      <td>0</td>\n",
              "      <td>0</td>\n",
              "      <td>0</td>\n",
              "      <td>0</td>\n",
              "      <td>0</td>\n",
              "      <td>0</td>\n",
              "      <td>0</td>\n",
              "      <td>0</td>\n",
              "      <td>0</td>\n",
              "      <td>0</td>\n",
              "    </tr>\n",
              "  </tbody>\n",
              "</table>\n",
              "<p>6536 rows × 16 columns</p>\n",
              "</div>"
            ],
            "text/plain": [
              "      Black  Blue  Grey  Beige  White  Brown  Mole  Khaki green  Red  Metal  \\\n",
              "0         1     0     0      0      0      0     0            0    0      0   \n",
              "1         1     0     0      0      0      0     0            0    0      0   \n",
              "2         1     0     0      0      0      0     0            0    0      0   \n",
              "3         1     0     0      0      0      0     0            0    0      0   \n",
              "4         1     0     0      0      0      0     0            0    0      0   \n",
              "...     ...   ...   ...    ...    ...    ...   ...          ...  ...    ...   \n",
              "6531      1     0     0      0      0      0     0            0    0      0   \n",
              "6532      0     0     0      0      0      0     0            0    0      0   \n",
              "6533      1     0     0      0      0      0     0            0    0      0   \n",
              "6534      1     0     0      0      0      0     0            0    0      0   \n",
              "6535      1     0     0      0      0      0     0            0    0      0   \n",
              "\n",
              "      Lilac Purple  Yellow  Pink  Green  Orange  Turquoise  \n",
              "0                0       0     0      0       0          0  \n",
              "1                0       0     0      0       0          0  \n",
              "2                0       0     0      0       0          0  \n",
              "3                0       0     0      0       0          0  \n",
              "4                0       0     0      0       0          0  \n",
              "...            ...     ...   ...    ...     ...        ...  \n",
              "6531             0       0     0      0       0          0  \n",
              "6532             0       0     1      0       0          0  \n",
              "6533             0       0     0      0       0          0  \n",
              "6534             0       0     0      0       0          0  \n",
              "6535             0       0     0      0       0          0  \n",
              "\n",
              "[6536 rows x 16 columns]"
            ]
          },
          "execution_count": 147,
          "metadata": {},
          "output_type": "execute_result"
        }
      ],
      "source": [
        "#create a one hot encoding\n",
        "colours = list(my_article_colour.keys())\n",
        "for c in colours:\n",
        "    myarticles[c] = myarticles['perceived_colour_master_name'].transform(lambda x: int(c in x))\n",
        "myarticles[colours]"
      ]
    },
    {
      "attachments": {},
      "cell_type": "markdown",
      "id": "9ba0de26",
      "metadata": {
        "id": "9ba0de26"
      },
      "source": [
        "\"We repeat the process for 'section name' and 'product type name'.\""
      ]
    },
    {
      "cell_type": "code",
      "execution_count": null,
      "id": "416f8957",
      "metadata": {
        "colab": {
          "base_uri": "https://localhost:8080/",
          "height": 534
        },
        "id": "416f8957",
        "outputId": "28da7a15-8c25-47eb-c863-231b24c62746"
      },
      "outputs": [
        {
          "data": {
            "text/html": [
              "<div>\n",
              "<style scoped>\n",
              "    .dataframe tbody tr th:only-of-type {\n",
              "        vertical-align: middle;\n",
              "    }\n",
              "\n",
              "    .dataframe tbody tr th {\n",
              "        vertical-align: top;\n",
              "    }\n",
              "\n",
              "    .dataframe thead th {\n",
              "        text-align: right;\n",
              "    }\n",
              "</style>\n",
              "<table border=\"1\" class=\"dataframe\">\n",
              "  <thead>\n",
              "    <tr style=\"text-align: right;\">\n",
              "      <th></th>\n",
              "      <th>Womens Nightwear, Socks &amp; Tigh</th>\n",
              "      <th>Womens Small accessories</th>\n",
              "      <th>Men H&amp;M Sport</th>\n",
              "      <th>Womens Lingerie</th>\n",
              "      <th>Womens Everyday Basics</th>\n",
              "      <th>Womens Big accessories</th>\n",
              "      <th>Divided Basics</th>\n",
              "      <th>Girls Underwear &amp; Basics</th>\n",
              "      <th>H&amp;M+</th>\n",
              "      <th>Mama</th>\n",
              "      <th>...</th>\n",
              "      <th>Denim Men</th>\n",
              "      <th>Divided Asia keys</th>\n",
              "      <th>Divided Projects</th>\n",
              "      <th>Divided Accessories</th>\n",
              "      <th>Kids Girl</th>\n",
              "      <th>Young Girl</th>\n",
              "      <th>Baby Boy</th>\n",
              "      <th>Divided Complements Other</th>\n",
              "      <th>Kids Sports</th>\n",
              "      <th>Baby Girl</th>\n",
              "    </tr>\n",
              "  </thead>\n",
              "  <tbody>\n",
              "    <tr>\n",
              "      <th>0</th>\n",
              "      <td>1</td>\n",
              "      <td>0</td>\n",
              "      <td>0</td>\n",
              "      <td>0</td>\n",
              "      <td>0</td>\n",
              "      <td>0</td>\n",
              "      <td>0</td>\n",
              "      <td>0</td>\n",
              "      <td>0</td>\n",
              "      <td>0</td>\n",
              "      <td>...</td>\n",
              "      <td>0</td>\n",
              "      <td>0</td>\n",
              "      <td>0</td>\n",
              "      <td>0</td>\n",
              "      <td>0</td>\n",
              "      <td>0</td>\n",
              "      <td>0</td>\n",
              "      <td>0</td>\n",
              "      <td>0</td>\n",
              "      <td>0</td>\n",
              "    </tr>\n",
              "    <tr>\n",
              "      <th>1</th>\n",
              "      <td>1</td>\n",
              "      <td>0</td>\n",
              "      <td>0</td>\n",
              "      <td>0</td>\n",
              "      <td>0</td>\n",
              "      <td>0</td>\n",
              "      <td>0</td>\n",
              "      <td>0</td>\n",
              "      <td>0</td>\n",
              "      <td>0</td>\n",
              "      <td>...</td>\n",
              "      <td>0</td>\n",
              "      <td>0</td>\n",
              "      <td>0</td>\n",
              "      <td>0</td>\n",
              "      <td>0</td>\n",
              "      <td>0</td>\n",
              "      <td>0</td>\n",
              "      <td>0</td>\n",
              "      <td>0</td>\n",
              "      <td>0</td>\n",
              "    </tr>\n",
              "    <tr>\n",
              "      <th>2</th>\n",
              "      <td>1</td>\n",
              "      <td>0</td>\n",
              "      <td>0</td>\n",
              "      <td>0</td>\n",
              "      <td>0</td>\n",
              "      <td>0</td>\n",
              "      <td>0</td>\n",
              "      <td>0</td>\n",
              "      <td>0</td>\n",
              "      <td>0</td>\n",
              "      <td>...</td>\n",
              "      <td>0</td>\n",
              "      <td>0</td>\n",
              "      <td>0</td>\n",
              "      <td>0</td>\n",
              "      <td>0</td>\n",
              "      <td>0</td>\n",
              "      <td>0</td>\n",
              "      <td>0</td>\n",
              "      <td>0</td>\n",
              "      <td>0</td>\n",
              "    </tr>\n",
              "    <tr>\n",
              "      <th>3</th>\n",
              "      <td>1</td>\n",
              "      <td>0</td>\n",
              "      <td>0</td>\n",
              "      <td>0</td>\n",
              "      <td>0</td>\n",
              "      <td>0</td>\n",
              "      <td>0</td>\n",
              "      <td>0</td>\n",
              "      <td>0</td>\n",
              "      <td>0</td>\n",
              "      <td>...</td>\n",
              "      <td>0</td>\n",
              "      <td>0</td>\n",
              "      <td>0</td>\n",
              "      <td>0</td>\n",
              "      <td>0</td>\n",
              "      <td>0</td>\n",
              "      <td>0</td>\n",
              "      <td>0</td>\n",
              "      <td>0</td>\n",
              "      <td>0</td>\n",
              "    </tr>\n",
              "    <tr>\n",
              "      <th>4</th>\n",
              "      <td>1</td>\n",
              "      <td>0</td>\n",
              "      <td>0</td>\n",
              "      <td>0</td>\n",
              "      <td>0</td>\n",
              "      <td>0</td>\n",
              "      <td>0</td>\n",
              "      <td>0</td>\n",
              "      <td>0</td>\n",
              "      <td>0</td>\n",
              "      <td>...</td>\n",
              "      <td>0</td>\n",
              "      <td>0</td>\n",
              "      <td>0</td>\n",
              "      <td>0</td>\n",
              "      <td>0</td>\n",
              "      <td>0</td>\n",
              "      <td>0</td>\n",
              "      <td>0</td>\n",
              "      <td>0</td>\n",
              "      <td>0</td>\n",
              "    </tr>\n",
              "    <tr>\n",
              "      <th>...</th>\n",
              "      <td>...</td>\n",
              "      <td>...</td>\n",
              "      <td>...</td>\n",
              "      <td>...</td>\n",
              "      <td>...</td>\n",
              "      <td>...</td>\n",
              "      <td>...</td>\n",
              "      <td>...</td>\n",
              "      <td>...</td>\n",
              "      <td>...</td>\n",
              "      <td>...</td>\n",
              "      <td>...</td>\n",
              "      <td>...</td>\n",
              "      <td>...</td>\n",
              "      <td>...</td>\n",
              "      <td>...</td>\n",
              "      <td>...</td>\n",
              "      <td>...</td>\n",
              "      <td>...</td>\n",
              "      <td>...</td>\n",
              "      <td>...</td>\n",
              "    </tr>\n",
              "    <tr>\n",
              "      <th>6531</th>\n",
              "      <td>0</td>\n",
              "      <td>0</td>\n",
              "      <td>0</td>\n",
              "      <td>0</td>\n",
              "      <td>0</td>\n",
              "      <td>0</td>\n",
              "      <td>0</td>\n",
              "      <td>0</td>\n",
              "      <td>0</td>\n",
              "      <td>0</td>\n",
              "      <td>...</td>\n",
              "      <td>0</td>\n",
              "      <td>0</td>\n",
              "      <td>0</td>\n",
              "      <td>0</td>\n",
              "      <td>0</td>\n",
              "      <td>0</td>\n",
              "      <td>0</td>\n",
              "      <td>0</td>\n",
              "      <td>0</td>\n",
              "      <td>0</td>\n",
              "    </tr>\n",
              "    <tr>\n",
              "      <th>6532</th>\n",
              "      <td>0</td>\n",
              "      <td>0</td>\n",
              "      <td>0</td>\n",
              "      <td>0</td>\n",
              "      <td>0</td>\n",
              "      <td>0</td>\n",
              "      <td>0</td>\n",
              "      <td>0</td>\n",
              "      <td>0</td>\n",
              "      <td>0</td>\n",
              "      <td>...</td>\n",
              "      <td>0</td>\n",
              "      <td>0</td>\n",
              "      <td>0</td>\n",
              "      <td>0</td>\n",
              "      <td>0</td>\n",
              "      <td>0</td>\n",
              "      <td>0</td>\n",
              "      <td>0</td>\n",
              "      <td>0</td>\n",
              "      <td>0</td>\n",
              "    </tr>\n",
              "    <tr>\n",
              "      <th>6533</th>\n",
              "      <td>1</td>\n",
              "      <td>0</td>\n",
              "      <td>0</td>\n",
              "      <td>0</td>\n",
              "      <td>0</td>\n",
              "      <td>0</td>\n",
              "      <td>0</td>\n",
              "      <td>0</td>\n",
              "      <td>0</td>\n",
              "      <td>0</td>\n",
              "      <td>...</td>\n",
              "      <td>0</td>\n",
              "      <td>0</td>\n",
              "      <td>0</td>\n",
              "      <td>0</td>\n",
              "      <td>0</td>\n",
              "      <td>0</td>\n",
              "      <td>0</td>\n",
              "      <td>0</td>\n",
              "      <td>0</td>\n",
              "      <td>0</td>\n",
              "    </tr>\n",
              "    <tr>\n",
              "      <th>6534</th>\n",
              "      <td>0</td>\n",
              "      <td>0</td>\n",
              "      <td>0</td>\n",
              "      <td>0</td>\n",
              "      <td>0</td>\n",
              "      <td>0</td>\n",
              "      <td>0</td>\n",
              "      <td>0</td>\n",
              "      <td>1</td>\n",
              "      <td>0</td>\n",
              "      <td>...</td>\n",
              "      <td>0</td>\n",
              "      <td>0</td>\n",
              "      <td>0</td>\n",
              "      <td>0</td>\n",
              "      <td>0</td>\n",
              "      <td>0</td>\n",
              "      <td>0</td>\n",
              "      <td>0</td>\n",
              "      <td>0</td>\n",
              "      <td>0</td>\n",
              "    </tr>\n",
              "    <tr>\n",
              "      <th>6535</th>\n",
              "      <td>0</td>\n",
              "      <td>0</td>\n",
              "      <td>0</td>\n",
              "      <td>0</td>\n",
              "      <td>0</td>\n",
              "      <td>0</td>\n",
              "      <td>0</td>\n",
              "      <td>0</td>\n",
              "      <td>0</td>\n",
              "      <td>0</td>\n",
              "      <td>...</td>\n",
              "      <td>0</td>\n",
              "      <td>0</td>\n",
              "      <td>0</td>\n",
              "      <td>0</td>\n",
              "      <td>0</td>\n",
              "      <td>0</td>\n",
              "      <td>0</td>\n",
              "      <td>0</td>\n",
              "      <td>0</td>\n",
              "      <td>0</td>\n",
              "    </tr>\n",
              "  </tbody>\n",
              "</table>\n",
              "<p>6536 rows × 43 columns</p>\n",
              "</div>"
            ],
            "text/plain": [
              "      Womens Nightwear, Socks & Tigh  Womens Small accessories  Men H&M Sport  \\\n",
              "0                                  1                         0              0   \n",
              "1                                  1                         0              0   \n",
              "2                                  1                         0              0   \n",
              "3                                  1                         0              0   \n",
              "4                                  1                         0              0   \n",
              "...                              ...                       ...            ...   \n",
              "6531                               0                         0              0   \n",
              "6532                               0                         0              0   \n",
              "6533                               1                         0              0   \n",
              "6534                               0                         0              0   \n",
              "6535                               0                         0              0   \n",
              "\n",
              "      Womens Lingerie  Womens Everyday Basics  Womens Big accessories  \\\n",
              "0                   0                       0                       0   \n",
              "1                   0                       0                       0   \n",
              "2                   0                       0                       0   \n",
              "3                   0                       0                       0   \n",
              "4                   0                       0                       0   \n",
              "...               ...                     ...                     ...   \n",
              "6531                0                       0                       0   \n",
              "6532                0                       0                       0   \n",
              "6533                0                       0                       0   \n",
              "6534                0                       0                       0   \n",
              "6535                0                       0                       0   \n",
              "\n",
              "      Divided Basics  Girls Underwear & Basics  H&M+  Mama  ...  Denim Men  \\\n",
              "0                  0                         0     0     0  ...          0   \n",
              "1                  0                         0     0     0  ...          0   \n",
              "2                  0                         0     0     0  ...          0   \n",
              "3                  0                         0     0     0  ...          0   \n",
              "4                  0                         0     0     0  ...          0   \n",
              "...              ...                       ...   ...   ...  ...        ...   \n",
              "6531               0                         0     0     0  ...          0   \n",
              "6532               0                         0     0     0  ...          0   \n",
              "6533               0                         0     0     0  ...          0   \n",
              "6534               0                         0     1     0  ...          0   \n",
              "6535               0                         0     0     0  ...          0   \n",
              "\n",
              "      Divided Asia keys  Divided Projects  Divided Accessories  Kids Girl  \\\n",
              "0                     0                 0                    0          0   \n",
              "1                     0                 0                    0          0   \n",
              "2                     0                 0                    0          0   \n",
              "3                     0                 0                    0          0   \n",
              "4                     0                 0                    0          0   \n",
              "...                 ...               ...                  ...        ...   \n",
              "6531                  0                 0                    0          0   \n",
              "6532                  0                 0                    0          0   \n",
              "6533                  0                 0                    0          0   \n",
              "6534                  0                 0                    0          0   \n",
              "6535                  0                 0                    0          0   \n",
              "\n",
              "      Young Girl  Baby Boy  Divided Complements Other  Kids Sports  Baby Girl  \n",
              "0              0         0                          0            0          0  \n",
              "1              0         0                          0            0          0  \n",
              "2              0         0                          0            0          0  \n",
              "3              0         0                          0            0          0  \n",
              "4              0         0                          0            0          0  \n",
              "...          ...       ...                        ...          ...        ...  \n",
              "6531           0         0                          0            0          0  \n",
              "6532           0         0                          0            0          0  \n",
              "6533           0         0                          0            0          0  \n",
              "6534           0         0                          0            0          0  \n",
              "6535           0         0                          0            0          0  \n",
              "\n",
              "[6536 rows x 43 columns]"
            ]
          },
          "execution_count": 148,
          "metadata": {},
          "output_type": "execute_result"
        }
      ],
      "source": [
        "section_count = Counter(myarticles['section_name'])\n",
        "sections = list(section_count.keys())\n",
        "for s in sections:\n",
        "    myarticles[s] = myarticles['section_name'].transform(lambda x: int(s in x))\n",
        "myarticles[sections]"
      ]
    },
    {
      "cell_type": "code",
      "execution_count": null,
      "id": "df5e9b6a",
      "metadata": {
        "colab": {
          "base_uri": "https://localhost:8080/",
          "height": 500
        },
        "id": "df5e9b6a",
        "outputId": "e5c0a857-552d-4dc0-b923-224ff724c6f6"
      },
      "outputs": [
        {
          "data": {
            "text/html": [
              "<div>\n",
              "<style scoped>\n",
              "    .dataframe tbody tr th:only-of-type {\n",
              "        vertical-align: middle;\n",
              "    }\n",
              "\n",
              "    .dataframe tbody tr th {\n",
              "        vertical-align: top;\n",
              "    }\n",
              "\n",
              "    .dataframe thead th {\n",
              "        text-align: right;\n",
              "    }\n",
              "</style>\n",
              "<table border=\"1\" class=\"dataframe\">\n",
              "  <thead>\n",
              "    <tr style=\"text-align: right;\">\n",
              "      <th></th>\n",
              "      <th>Underwear Tights</th>\n",
              "      <th>Leggings/Tights</th>\n",
              "      <th>Umbrella</th>\n",
              "      <th>Sweater</th>\n",
              "      <th>Bra</th>\n",
              "      <th>Socks</th>\n",
              "      <th>Unknown</th>\n",
              "      <th>Belt</th>\n",
              "      <th>Hair clip</th>\n",
              "      <th>Hair string</th>\n",
              "      <th>...</th>\n",
              "      <th>Wallet</th>\n",
              "      <th>Sandals</th>\n",
              "      <th>Garment Set</th>\n",
              "      <th>Outdoor Waistcoat</th>\n",
              "      <th>Heels</th>\n",
              "      <th>Other shoe</th>\n",
              "      <th>Hairband</th>\n",
              "      <th>Flat shoes</th>\n",
              "      <th>Dog wear</th>\n",
              "      <th>Bracelet</th>\n",
              "    </tr>\n",
              "  </thead>\n",
              "  <tbody>\n",
              "    <tr>\n",
              "      <th>0</th>\n",
              "      <td>1</td>\n",
              "      <td>0</td>\n",
              "      <td>0</td>\n",
              "      <td>0</td>\n",
              "      <td>0</td>\n",
              "      <td>0</td>\n",
              "      <td>0</td>\n",
              "      <td>0</td>\n",
              "      <td>0</td>\n",
              "      <td>0</td>\n",
              "      <td>...</td>\n",
              "      <td>0</td>\n",
              "      <td>0</td>\n",
              "      <td>0</td>\n",
              "      <td>0</td>\n",
              "      <td>0</td>\n",
              "      <td>0</td>\n",
              "      <td>0</td>\n",
              "      <td>0</td>\n",
              "      <td>0</td>\n",
              "      <td>0</td>\n",
              "    </tr>\n",
              "    <tr>\n",
              "      <th>1</th>\n",
              "      <td>0</td>\n",
              "      <td>1</td>\n",
              "      <td>0</td>\n",
              "      <td>0</td>\n",
              "      <td>0</td>\n",
              "      <td>0</td>\n",
              "      <td>0</td>\n",
              "      <td>0</td>\n",
              "      <td>0</td>\n",
              "      <td>0</td>\n",
              "      <td>...</td>\n",
              "      <td>0</td>\n",
              "      <td>0</td>\n",
              "      <td>0</td>\n",
              "      <td>0</td>\n",
              "      <td>0</td>\n",
              "      <td>0</td>\n",
              "      <td>0</td>\n",
              "      <td>0</td>\n",
              "      <td>0</td>\n",
              "      <td>0</td>\n",
              "    </tr>\n",
              "    <tr>\n",
              "      <th>2</th>\n",
              "      <td>1</td>\n",
              "      <td>0</td>\n",
              "      <td>0</td>\n",
              "      <td>0</td>\n",
              "      <td>0</td>\n",
              "      <td>0</td>\n",
              "      <td>0</td>\n",
              "      <td>0</td>\n",
              "      <td>0</td>\n",
              "      <td>0</td>\n",
              "      <td>...</td>\n",
              "      <td>0</td>\n",
              "      <td>0</td>\n",
              "      <td>0</td>\n",
              "      <td>0</td>\n",
              "      <td>0</td>\n",
              "      <td>0</td>\n",
              "      <td>0</td>\n",
              "      <td>0</td>\n",
              "      <td>0</td>\n",
              "      <td>0</td>\n",
              "    </tr>\n",
              "    <tr>\n",
              "      <th>3</th>\n",
              "      <td>1</td>\n",
              "      <td>0</td>\n",
              "      <td>0</td>\n",
              "      <td>0</td>\n",
              "      <td>0</td>\n",
              "      <td>0</td>\n",
              "      <td>0</td>\n",
              "      <td>0</td>\n",
              "      <td>0</td>\n",
              "      <td>0</td>\n",
              "      <td>...</td>\n",
              "      <td>0</td>\n",
              "      <td>0</td>\n",
              "      <td>0</td>\n",
              "      <td>0</td>\n",
              "      <td>0</td>\n",
              "      <td>0</td>\n",
              "      <td>0</td>\n",
              "      <td>0</td>\n",
              "      <td>0</td>\n",
              "      <td>0</td>\n",
              "    </tr>\n",
              "    <tr>\n",
              "      <th>4</th>\n",
              "      <td>0</td>\n",
              "      <td>1</td>\n",
              "      <td>0</td>\n",
              "      <td>0</td>\n",
              "      <td>0</td>\n",
              "      <td>0</td>\n",
              "      <td>0</td>\n",
              "      <td>0</td>\n",
              "      <td>0</td>\n",
              "      <td>0</td>\n",
              "      <td>...</td>\n",
              "      <td>0</td>\n",
              "      <td>0</td>\n",
              "      <td>0</td>\n",
              "      <td>0</td>\n",
              "      <td>0</td>\n",
              "      <td>0</td>\n",
              "      <td>0</td>\n",
              "      <td>0</td>\n",
              "      <td>0</td>\n",
              "      <td>0</td>\n",
              "    </tr>\n",
              "    <tr>\n",
              "      <th>...</th>\n",
              "      <td>...</td>\n",
              "      <td>...</td>\n",
              "      <td>...</td>\n",
              "      <td>...</td>\n",
              "      <td>...</td>\n",
              "      <td>...</td>\n",
              "      <td>...</td>\n",
              "      <td>...</td>\n",
              "      <td>...</td>\n",
              "      <td>...</td>\n",
              "      <td>...</td>\n",
              "      <td>...</td>\n",
              "      <td>...</td>\n",
              "      <td>...</td>\n",
              "      <td>...</td>\n",
              "      <td>...</td>\n",
              "      <td>...</td>\n",
              "      <td>...</td>\n",
              "      <td>...</td>\n",
              "      <td>...</td>\n",
              "      <td>...</td>\n",
              "    </tr>\n",
              "    <tr>\n",
              "      <th>6531</th>\n",
              "      <td>0</td>\n",
              "      <td>0</td>\n",
              "      <td>0</td>\n",
              "      <td>1</td>\n",
              "      <td>0</td>\n",
              "      <td>0</td>\n",
              "      <td>0</td>\n",
              "      <td>0</td>\n",
              "      <td>0</td>\n",
              "      <td>0</td>\n",
              "      <td>...</td>\n",
              "      <td>0</td>\n",
              "      <td>0</td>\n",
              "      <td>0</td>\n",
              "      <td>0</td>\n",
              "      <td>0</td>\n",
              "      <td>0</td>\n",
              "      <td>0</td>\n",
              "      <td>0</td>\n",
              "      <td>0</td>\n",
              "      <td>0</td>\n",
              "    </tr>\n",
              "    <tr>\n",
              "      <th>6532</th>\n",
              "      <td>0</td>\n",
              "      <td>0</td>\n",
              "      <td>0</td>\n",
              "      <td>1</td>\n",
              "      <td>0</td>\n",
              "      <td>0</td>\n",
              "      <td>0</td>\n",
              "      <td>0</td>\n",
              "      <td>0</td>\n",
              "      <td>0</td>\n",
              "      <td>...</td>\n",
              "      <td>0</td>\n",
              "      <td>0</td>\n",
              "      <td>0</td>\n",
              "      <td>0</td>\n",
              "      <td>0</td>\n",
              "      <td>0</td>\n",
              "      <td>0</td>\n",
              "      <td>0</td>\n",
              "      <td>0</td>\n",
              "      <td>0</td>\n",
              "    </tr>\n",
              "    <tr>\n",
              "      <th>6533</th>\n",
              "      <td>1</td>\n",
              "      <td>0</td>\n",
              "      <td>0</td>\n",
              "      <td>0</td>\n",
              "      <td>0</td>\n",
              "      <td>0</td>\n",
              "      <td>0</td>\n",
              "      <td>0</td>\n",
              "      <td>0</td>\n",
              "      <td>0</td>\n",
              "      <td>...</td>\n",
              "      <td>0</td>\n",
              "      <td>0</td>\n",
              "      <td>0</td>\n",
              "      <td>0</td>\n",
              "      <td>0</td>\n",
              "      <td>0</td>\n",
              "      <td>0</td>\n",
              "      <td>0</td>\n",
              "      <td>0</td>\n",
              "      <td>0</td>\n",
              "    </tr>\n",
              "    <tr>\n",
              "      <th>6534</th>\n",
              "      <td>0</td>\n",
              "      <td>0</td>\n",
              "      <td>0</td>\n",
              "      <td>0</td>\n",
              "      <td>0</td>\n",
              "      <td>0</td>\n",
              "      <td>0</td>\n",
              "      <td>0</td>\n",
              "      <td>0</td>\n",
              "      <td>0</td>\n",
              "      <td>...</td>\n",
              "      <td>0</td>\n",
              "      <td>0</td>\n",
              "      <td>0</td>\n",
              "      <td>0</td>\n",
              "      <td>0</td>\n",
              "      <td>0</td>\n",
              "      <td>0</td>\n",
              "      <td>0</td>\n",
              "      <td>0</td>\n",
              "      <td>0</td>\n",
              "    </tr>\n",
              "    <tr>\n",
              "      <th>6535</th>\n",
              "      <td>0</td>\n",
              "      <td>0</td>\n",
              "      <td>0</td>\n",
              "      <td>0</td>\n",
              "      <td>0</td>\n",
              "      <td>0</td>\n",
              "      <td>0</td>\n",
              "      <td>0</td>\n",
              "      <td>0</td>\n",
              "      <td>0</td>\n",
              "      <td>...</td>\n",
              "      <td>0</td>\n",
              "      <td>0</td>\n",
              "      <td>0</td>\n",
              "      <td>0</td>\n",
              "      <td>0</td>\n",
              "      <td>0</td>\n",
              "      <td>0</td>\n",
              "      <td>0</td>\n",
              "      <td>0</td>\n",
              "      <td>0</td>\n",
              "    </tr>\n",
              "  </tbody>\n",
              "</table>\n",
              "<p>6536 rows × 82 columns</p>\n",
              "</div>"
            ],
            "text/plain": [
              "      Underwear Tights  Leggings/Tights  Umbrella  Sweater  Bra  Socks  \\\n",
              "0                    1                0         0        0    0      0   \n",
              "1                    0                1         0        0    0      0   \n",
              "2                    1                0         0        0    0      0   \n",
              "3                    1                0         0        0    0      0   \n",
              "4                    0                1         0        0    0      0   \n",
              "...                ...              ...       ...      ...  ...    ...   \n",
              "6531                 0                0         0        1    0      0   \n",
              "6532                 0                0         0        1    0      0   \n",
              "6533                 1                0         0        0    0      0   \n",
              "6534                 0                0         0        0    0      0   \n",
              "6535                 0                0         0        0    0      0   \n",
              "\n",
              "      Unknown  Belt  Hair clip  Hair string  ...  Wallet  Sandals  \\\n",
              "0           0     0          0            0  ...       0        0   \n",
              "1           0     0          0            0  ...       0        0   \n",
              "2           0     0          0            0  ...       0        0   \n",
              "3           0     0          0            0  ...       0        0   \n",
              "4           0     0          0            0  ...       0        0   \n",
              "...       ...   ...        ...          ...  ...     ...      ...   \n",
              "6531        0     0          0            0  ...       0        0   \n",
              "6532        0     0          0            0  ...       0        0   \n",
              "6533        0     0          0            0  ...       0        0   \n",
              "6534        0     0          0            0  ...       0        0   \n",
              "6535        0     0          0            0  ...       0        0   \n",
              "\n",
              "      Garment Set  Outdoor Waistcoat  Heels  Other shoe  Hairband  Flat shoes  \\\n",
              "0               0                  0      0           0         0           0   \n",
              "1               0                  0      0           0         0           0   \n",
              "2               0                  0      0           0         0           0   \n",
              "3               0                  0      0           0         0           0   \n",
              "4               0                  0      0           0         0           0   \n",
              "...           ...                ...    ...         ...       ...         ...   \n",
              "6531            0                  0      0           0         0           0   \n",
              "6532            0                  0      0           0         0           0   \n",
              "6533            0                  0      0           0         0           0   \n",
              "6534            0                  0      0           0         0           0   \n",
              "6535            0                  0      0           0         0           0   \n",
              "\n",
              "      Dog wear  Bracelet  \n",
              "0            0         0  \n",
              "1            0         0  \n",
              "2            0         0  \n",
              "3            0         0  \n",
              "4            0         0  \n",
              "...        ...       ...  \n",
              "6531         0         0  \n",
              "6532         0         0  \n",
              "6533         0         0  \n",
              "6534         0         0  \n",
              "6535         0         0  \n",
              "\n",
              "[6536 rows x 82 columns]"
            ]
          },
          "execution_count": 149,
          "metadata": {},
          "output_type": "execute_result"
        }
      ],
      "source": [
        "type_article_count = Counter(myarticles['product_type_name'])\n",
        "types = list(type_article_count.keys())\n",
        "for t in types:\n",
        "    myarticles[t] = myarticles['product_type_name'].transform(lambda x: int(t in x))\n",
        "myarticles[types]"
      ]
    },
    {
      "attachments": {},
      "cell_type": "markdown",
      "id": "02051123",
      "metadata": {
        "id": "02051123"
      },
      "source": [
        "\"The following passage combines all the information into a single dataframe.\""
      ]
    },
    {
      "cell_type": "code",
      "execution_count": null,
      "id": "c214caf1",
      "metadata": {
        "colab": {
          "base_uri": "https://localhost:8080/",
          "height": 294
        },
        "id": "c214caf1",
        "outputId": "0749da4d-dad2-4580-8836-e15d8ac0c191"
      },
      "outputs": [
        {
          "data": {
            "text/html": [
              "<div>\n",
              "<style scoped>\n",
              "    .dataframe tbody tr th:only-of-type {\n",
              "        vertical-align: middle;\n",
              "    }\n",
              "\n",
              "    .dataframe tbody tr th {\n",
              "        vertical-align: top;\n",
              "    }\n",
              "\n",
              "    .dataframe thead th {\n",
              "        text-align: right;\n",
              "    }\n",
              "</style>\n",
              "<table border=\"1\" class=\"dataframe\">\n",
              "  <thead>\n",
              "    <tr style=\"text-align: right;\">\n",
              "      <th></th>\n",
              "      <th>Black</th>\n",
              "      <th>Blue</th>\n",
              "      <th>Grey</th>\n",
              "      <th>Beige</th>\n",
              "      <th>White</th>\n",
              "      <th>Brown</th>\n",
              "      <th>Mole</th>\n",
              "      <th>Khaki green</th>\n",
              "      <th>Red</th>\n",
              "      <th>Metal</th>\n",
              "      <th>...</th>\n",
              "      <th>Wallet</th>\n",
              "      <th>Sandals</th>\n",
              "      <th>Garment Set</th>\n",
              "      <th>Outdoor Waistcoat</th>\n",
              "      <th>Heels</th>\n",
              "      <th>Other shoe</th>\n",
              "      <th>Hairband</th>\n",
              "      <th>Flat shoes</th>\n",
              "      <th>Dog wear</th>\n",
              "      <th>Bracelet</th>\n",
              "    </tr>\n",
              "  </thead>\n",
              "  <tbody>\n",
              "    <tr>\n",
              "      <th>0</th>\n",
              "      <td>1</td>\n",
              "      <td>0</td>\n",
              "      <td>0</td>\n",
              "      <td>0</td>\n",
              "      <td>0</td>\n",
              "      <td>0</td>\n",
              "      <td>0</td>\n",
              "      <td>0</td>\n",
              "      <td>0</td>\n",
              "      <td>0</td>\n",
              "      <td>...</td>\n",
              "      <td>0</td>\n",
              "      <td>0</td>\n",
              "      <td>0</td>\n",
              "      <td>0</td>\n",
              "      <td>0</td>\n",
              "      <td>0</td>\n",
              "      <td>0</td>\n",
              "      <td>0</td>\n",
              "      <td>0</td>\n",
              "      <td>0</td>\n",
              "    </tr>\n",
              "    <tr>\n",
              "      <th>1</th>\n",
              "      <td>1</td>\n",
              "      <td>0</td>\n",
              "      <td>0</td>\n",
              "      <td>0</td>\n",
              "      <td>0</td>\n",
              "      <td>0</td>\n",
              "      <td>0</td>\n",
              "      <td>0</td>\n",
              "      <td>0</td>\n",
              "      <td>0</td>\n",
              "      <td>...</td>\n",
              "      <td>0</td>\n",
              "      <td>0</td>\n",
              "      <td>0</td>\n",
              "      <td>0</td>\n",
              "      <td>0</td>\n",
              "      <td>0</td>\n",
              "      <td>0</td>\n",
              "      <td>0</td>\n",
              "      <td>0</td>\n",
              "      <td>0</td>\n",
              "    </tr>\n",
              "    <tr>\n",
              "      <th>2</th>\n",
              "      <td>1</td>\n",
              "      <td>0</td>\n",
              "      <td>0</td>\n",
              "      <td>0</td>\n",
              "      <td>0</td>\n",
              "      <td>0</td>\n",
              "      <td>0</td>\n",
              "      <td>0</td>\n",
              "      <td>0</td>\n",
              "      <td>0</td>\n",
              "      <td>...</td>\n",
              "      <td>0</td>\n",
              "      <td>0</td>\n",
              "      <td>0</td>\n",
              "      <td>0</td>\n",
              "      <td>0</td>\n",
              "      <td>0</td>\n",
              "      <td>0</td>\n",
              "      <td>0</td>\n",
              "      <td>0</td>\n",
              "      <td>0</td>\n",
              "    </tr>\n",
              "    <tr>\n",
              "      <th>3</th>\n",
              "      <td>1</td>\n",
              "      <td>0</td>\n",
              "      <td>0</td>\n",
              "      <td>0</td>\n",
              "      <td>0</td>\n",
              "      <td>0</td>\n",
              "      <td>0</td>\n",
              "      <td>0</td>\n",
              "      <td>0</td>\n",
              "      <td>0</td>\n",
              "      <td>...</td>\n",
              "      <td>0</td>\n",
              "      <td>0</td>\n",
              "      <td>0</td>\n",
              "      <td>0</td>\n",
              "      <td>0</td>\n",
              "      <td>0</td>\n",
              "      <td>0</td>\n",
              "      <td>0</td>\n",
              "      <td>0</td>\n",
              "      <td>0</td>\n",
              "    </tr>\n",
              "    <tr>\n",
              "      <th>4</th>\n",
              "      <td>1</td>\n",
              "      <td>0</td>\n",
              "      <td>0</td>\n",
              "      <td>0</td>\n",
              "      <td>0</td>\n",
              "      <td>0</td>\n",
              "      <td>0</td>\n",
              "      <td>0</td>\n",
              "      <td>0</td>\n",
              "      <td>0</td>\n",
              "      <td>...</td>\n",
              "      <td>0</td>\n",
              "      <td>0</td>\n",
              "      <td>0</td>\n",
              "      <td>0</td>\n",
              "      <td>0</td>\n",
              "      <td>0</td>\n",
              "      <td>0</td>\n",
              "      <td>0</td>\n",
              "      <td>0</td>\n",
              "      <td>0</td>\n",
              "    </tr>\n",
              "  </tbody>\n",
              "</table>\n",
              "<p>5 rows × 141 columns</p>\n",
              "</div>"
            ],
            "text/plain": [
              "   Black  Blue  Grey  Beige  White  Brown  Mole  Khaki green  Red  Metal  ...  \\\n",
              "0      1     0     0      0      0      0     0            0    0      0  ...   \n",
              "1      1     0     0      0      0      0     0            0    0      0  ...   \n",
              "2      1     0     0      0      0      0     0            0    0      0  ...   \n",
              "3      1     0     0      0      0      0     0            0    0      0  ...   \n",
              "4      1     0     0      0      0      0     0            0    0      0  ...   \n",
              "\n",
              "   Wallet  Sandals  Garment Set  Outdoor Waistcoat  Heels  Other shoe  \\\n",
              "0       0        0            0                  0      0           0   \n",
              "1       0        0            0                  0      0           0   \n",
              "2       0        0            0                  0      0           0   \n",
              "3       0        0            0                  0      0           0   \n",
              "4       0        0            0                  0      0           0   \n",
              "\n",
              "   Hairband  Flat shoes  Dog wear  Bracelet  \n",
              "0         0           0         0         0  \n",
              "1         0           0         0         0  \n",
              "2         0           0         0         0  \n",
              "3         0           0         0         0  \n",
              "4         0           0         0         0  \n",
              "\n",
              "[5 rows x 141 columns]"
            ]
          },
          "execution_count": 150,
          "metadata": {},
          "output_type": "execute_result"
        }
      ],
      "source": [
        "article_features = pd.concat([myarticles[colours], myarticles[sections], myarticles[types]], axis=1)\n",
        "article_features.head()"
      ]
    },
    {
      "attachments": {},
      "cell_type": "markdown",
      "id": "494900c1",
      "metadata": {
        "id": "494900c1"
      },
      "source": [
        "2. To build the collaborative recommendation system, we can use cosine similarity as a measure of similarity between vectors. Essentially, cosine similarity compares the angle between two vectors and the smaller the angle, the higher the degree of similarity. The cosine similarity matrix has a shape of 6536 x 6536, representing the total number of articles.\n",
        "\n",
        "The cosine similarity matrix enables us to identify articles that are more similar to the article of interest.\n"
      ]
    },
    {
      "cell_type": "code",
      "execution_count": null,
      "id": "6cef8b72",
      "metadata": {
        "colab": {
          "base_uri": "https://localhost:8080/"
        },
        "id": "6cef8b72",
        "outputId": "23a0d60c-2fab-4214-e5b0-b537c4057353"
      },
      "outputs": [
        {
          "name": "stdout",
          "output_type": "stream",
          "text": [
            "Dimensions of our movie features cosine similarity matrix: (6536, 6536)\n"
          ]
        }
      ],
      "source": [
        "from sklearn.metrics.pairwise import cosine_similarity\n",
        "cosine_sim = cosine_similarity(article_features, article_features)\n",
        "print(f\"Dimensions of our movie features cosine similarity matrix: {cosine_sim.shape}\")"
      ]
    },
    {
      "attachments": {},
      "cell_type": "markdown",
      "id": "11e11528",
      "metadata": {
        "id": "11e11528"
      },
      "source": [
        "3. To provide more information about the recommended product, we need to create a dictionary that maps the product ID to its name. The ID alone is not sufficient, and having the name will make it clearer."
      ]
    },
    {
      "cell_type": "code",
      "execution_count": null,
      "id": "c82f20e8",
      "metadata": {
        "id": "c82f20e8"
      },
      "outputs": [],
      "source": [
        "product_dict = {}\n",
        "for i,row in myarticles.iterrows():\n",
        "    product_dict[row['article_id']] = {'Name': row['prod_name'], 'Color': row['colour_group_name']}"
      ]
    },
    {
      "attachments": {},
      "cell_type": "markdown",
      "id": "5d1623b4",
      "metadata": {
        "id": "5d1623b4"
      },
      "source": [
        "4. The following function retrieves the 10 most similar articles to the one specified by the input ID. The input is a unique article ID, and the function selects the row of the similarity matrix corresponding to that ID, sorts the elements in decreasing order, and selects the items of interest."
      ]
    },
    {
      "cell_type": "code",
      "execution_count": null,
      "id": "87eb7cc8",
      "metadata": {
        "id": "87eb7cc8"
      },
      "outputs": [],
      "source": [
        "def get_content_based_recommendations(prod_id, n:int):\n",
        "    id = myarticles[myarticles['article_id'] == prod_id].index\n",
        "    sin_scores = np.argsort(cosine_sim[id])[0] #returns ID sorted by the values\n",
        "    sin_scores_out = list(sin_scores[::-1][1:n+1])\n",
        "\n",
        "    if prod_id in sin_scores_out:\n",
        "        sin_scores_out = list(sin_scores[::-1][1:n+2])\n",
        "        sin_scores_out.remove(prod_id)\n",
        "         #flip the output to get the IDs in descending order\n",
        "    \n",
        "    if n < 1:\n",
        "        print(f\"The number of suggested articles '{n}' you requested is invalid. You must request at least 1 similar product.\")\n",
        "        return\n",
        "    \n",
        "    if n == 1:\n",
        "        print(f\"The main recommendation for {product_dict[prod_id]['Color']} {product_dict[prod_id]['Name']} (Id: {prod_id}) is:\\n\")\n",
        "    \n",
        "    if n > 1:\n",
        "        print(f\"Here we can see the top {n} recommendations for {product_dict[prod_id]['Color']} {product_dict[prod_id]['Name']} (Id: {prod_id}):\\n\")\n",
        "    \n",
        "    for i in sin_scores_out:\n",
        "        print(f\"\\n{product_dict[i]['Color']} {product_dict[i]['Name']} (Id: {i})\")\n",
        "    "
      ]
    },
    {
      "cell_type": "code",
      "execution_count": null,
      "id": "528dc7dd",
      "metadata": {
        "colab": {
          "base_uri": "https://localhost:8080/"
        },
        "id": "528dc7dd",
        "outputId": "59521229-d638-4e5e-95fc-55c94eac9a6b"
      },
      "outputs": [
        {
          "name": "stdout",
          "output_type": "stream",
          "text": [
            "Here we can see the top 10 recommendations for White 3p Sneaker Socks (Id: 20):\n",
            "\n",
            "\n",
            "White Quickdry 5p shaftless (Id: 703)\n",
            "\n",
            "White Short 5p Socks(1) (Id: 4673)\n",
            "\n",
            "White 7p Basic Shaftless (Id: 116)\n",
            "\n",
            "White 1p Fun Socks (Id: 2243)\n",
            "\n",
            "White 1p Short Socks (Id: 2251)\n",
            "\n",
            "White 1p Short Socks (Id: 2252)\n",
            "\n",
            "White Mini Trainer 5p Socks (Id: 661)\n",
            "\n",
            "White Sportsneaker 3p socks (Id: 69)\n",
            "\n",
            "White 1p Shaftless (Id: 4135)\n",
            "\n",
            "White 1p lurex socks (Id: 6506)\n"
          ]
        }
      ],
      "source": [
        "prod_id = 20\n",
        "get_content_based_recommendations(prod_id,10)"
      ]
    },
    {
      "cell_type": "code",
      "execution_count": null,
      "id": "381f8831",
      "metadata": {
        "colab": {
          "base_uri": "https://localhost:8080/"
        },
        "id": "381f8831",
        "outputId": "f3061ea5-aa3d-4f82-a08e-b146cc131ea4"
      },
      "outputs": [
        {
          "name": "stdout",
          "output_type": "stream",
          "text": [
            "Here we can see the top 4 recommendations for Black Support 40 den 1p Tights (Id: 2):\n",
            "\n",
            "\n",
            "Black PLUS Support 40 Den 1 p Tights (Id: 362)\n",
            "\n",
            "Black Control Lt 40 den 2p Tights (Id: 288)\n",
            "\n",
            "Black Mama Support 100 den (Id: 267)\n",
            "\n",
            "Black Control Top 15 den 1p Tights (Id: 191)\n"
          ]
        }
      ],
      "source": [
        "prod_id = 2\n",
        "get_content_based_recommendations(prod_id,4)"
      ]
    },
    {
      "cell_type": "markdown",
      "id": "aa21e1f4",
      "metadata": {
        "id": "aa21e1f4"
      },
      "source": [
        "# USER-BASED FILTERING RECOMMENDER"
      ]
    },
    {
      "attachments": {},
      "cell_type": "markdown",
      "id": "7bb07524",
      "metadata": {
        "id": "7bb07524"
      },
      "source": [
        "The second recommendation method we will use is user-based. User similarity is an important feature in markets and can be used to suggest articles based on potential connections between users.\n",
        "\n",
        "1. Here, we create a new dataframe containing all the purchases made by each customer."
      ]
    },
    {
      "cell_type": "code",
      "execution_count": null,
      "id": "e0b178f8",
      "metadata": {
        "colab": {
          "base_uri": "https://localhost:8080/",
          "height": 419
        },
        "id": "e0b178f8",
        "outputId": "2fe9b798-bb35-43cb-8b73-15065a11f410"
      },
      "outputs": [
        {
          "data": {
            "text/html": [
              "<div>\n",
              "<style scoped>\n",
              "    .dataframe tbody tr th:only-of-type {\n",
              "        vertical-align: middle;\n",
              "    }\n",
              "\n",
              "    .dataframe tbody tr th {\n",
              "        vertical-align: top;\n",
              "    }\n",
              "\n",
              "    .dataframe thead th {\n",
              "        text-align: right;\n",
              "    }\n",
              "</style>\n",
              "<table border=\"1\" class=\"dataframe\">\n",
              "  <thead>\n",
              "    <tr style=\"text-align: right;\">\n",
              "      <th></th>\n",
              "      <th>customer_id</th>\n",
              "      <th>article_id</th>\n",
              "      <th>transactions</th>\n",
              "    </tr>\n",
              "  </thead>\n",
              "  <tbody>\n",
              "    <tr>\n",
              "      <th>0</th>\n",
              "      <td>0</td>\n",
              "      <td>463</td>\n",
              "      <td>1</td>\n",
              "    </tr>\n",
              "    <tr>\n",
              "      <th>1</th>\n",
              "      <td>0</td>\n",
              "      <td>5571</td>\n",
              "      <td>1</td>\n",
              "    </tr>\n",
              "    <tr>\n",
              "      <th>2</th>\n",
              "      <td>0</td>\n",
              "      <td>6120</td>\n",
              "      <td>1</td>\n",
              "    </tr>\n",
              "    <tr>\n",
              "      <th>3</th>\n",
              "      <td>0</td>\n",
              "      <td>6440</td>\n",
              "      <td>1</td>\n",
              "    </tr>\n",
              "    <tr>\n",
              "      <th>4</th>\n",
              "      <td>1</td>\n",
              "      <td>617</td>\n",
              "      <td>1</td>\n",
              "    </tr>\n",
              "    <tr>\n",
              "      <th>...</th>\n",
              "      <td>...</td>\n",
              "      <td>...</td>\n",
              "      <td>...</td>\n",
              "    </tr>\n",
              "    <tr>\n",
              "      <th>301932</th>\n",
              "      <td>41252</td>\n",
              "      <td>350</td>\n",
              "      <td>1</td>\n",
              "    </tr>\n",
              "    <tr>\n",
              "      <th>301933</th>\n",
              "      <td>41252</td>\n",
              "      <td>1184</td>\n",
              "      <td>1</td>\n",
              "    </tr>\n",
              "    <tr>\n",
              "      <th>301934</th>\n",
              "      <td>41252</td>\n",
              "      <td>1340</td>\n",
              "      <td>1</td>\n",
              "    </tr>\n",
              "    <tr>\n",
              "      <th>301935</th>\n",
              "      <td>41252</td>\n",
              "      <td>1974</td>\n",
              "      <td>1</td>\n",
              "    </tr>\n",
              "    <tr>\n",
              "      <th>301936</th>\n",
              "      <td>41252</td>\n",
              "      <td>2166</td>\n",
              "      <td>1</td>\n",
              "    </tr>\n",
              "  </tbody>\n",
              "</table>\n",
              "<p>301937 rows × 3 columns</p>\n",
              "</div>"
            ],
            "text/plain": [
              "        customer_id  article_id  transactions\n",
              "0                 0         463             1\n",
              "1                 0        5571             1\n",
              "2                 0        6120             1\n",
              "3                 0        6440             1\n",
              "4                 1         617             1\n",
              "...             ...         ...           ...\n",
              "301932        41252         350             1\n",
              "301933        41252        1184             1\n",
              "301934        41252        1340             1\n",
              "301935        41252        1974             1\n",
              "301936        41252        2166             1\n",
              "\n",
              "[301937 rows x 3 columns]"
            ]
          },
          "execution_count": 156,
          "metadata": {},
          "output_type": "execute_result"
        }
      ],
      "source": [
        "ua_transactions = transactions.groupby(['customer_id', 'article_id']).count().reset_index()\n",
        "ua_transactions.columns = ['customer_id', 'article_id', 'transactions']\n",
        "ua_transactions"
      ]
    },
    {
      "attachments": {},
      "cell_type": "markdown",
      "id": "6ddfe139",
      "metadata": {
        "id": "6ddfe139"
      },
      "source": [
        "2. We will now construct a 'utility' matrix with customer IDs as column indices and article IDs as row indices.\n",
        "\n"
      ]
    },
    {
      "cell_type": "code",
      "execution_count": null,
      "id": "5829433b",
      "metadata": {
        "id": "5829433b"
      },
      "outputs": [],
      "source": [
        "N = ua_transactions['customer_id'].nunique() #41246\n",
        "M = ua_transactions['article_id'].nunique() #6469"
      ]
    },
    {
      "cell_type": "code",
      "execution_count": null,
      "id": "96d08a51",
      "metadata": {
        "id": "96d08a51"
      },
      "outputs": [],
      "source": [
        "article_mapper = dict(zip(np.unique(ua_transactions[\"article_id\"]), list(range(M))))\n",
        "article_inv_mapper = dict(zip(list(range(M)), np.unique(ua_transactions[\"article_id\"])))\n",
        "\n",
        "article_index = [article_mapper[i] for i in ua_transactions['article_id']] #301937"
      ]
    },
    {
      "cell_type": "code",
      "execution_count": null,
      "id": "BALYHOPRu-nO",
      "metadata": {
        "id": "BALYHOPRu-nO"
      },
      "outputs": [],
      "source": [
        "customer_mapper = dict(zip(np.unique(ua_transactions[\"customer_id\"]), list(range(N))))\n",
        "customer_inv_mapper = dict(zip(list(range(N)), np.unique(ua_transactions[\"customer_id\"])))\n",
        "\n",
        "customer_index = [customer_mapper[i] for i in ua_transactions['customer_id']]"
      ]
    },
    {
      "attachments": {},
      "cell_type": "markdown",
      "id": "e759b19a",
      "metadata": {
        "id": "e759b19a"
      },
      "source": [
        "The code utilizes dictionaries to associate the rows and columns of the 'utility' matrix with their corresponding article IDs. The 'article_mapper' dictionary maps an article ID to its index, while the 'article_inv_mapper' dictionary does the opposite, mapping an index to its corresponding article ID."
      ]
    },
    {
      "cell_type": "code",
      "execution_count": null,
      "id": "7fd9ae87",
      "metadata": {
        "id": "7fd9ae87"
      },
      "outputs": [],
      "source": [
        "from scipy.sparse import csr_matrix\n",
        "\n",
        "X = csr_matrix((ua_transactions[\"transactions\"], (article_index, customer_index)), shape=(M, N))"
      ]
    },
    {
      "cell_type": "code",
      "execution_count": null,
      "id": "10bbd542",
      "metadata": {
        "colab": {
          "base_uri": "https://localhost:8080/"
        },
        "id": "10bbd542",
        "outputId": "06a178dc-025b-4b0d-c7f8-622e91ffe3b4"
      },
      "outputs": [
        {
          "data": {
            "text/plain": [
              "<6469x41246 sparse matrix of type '<class 'numpy.int64'>'\n",
              "\twith 301937 stored elements in Compressed Sparse Row format>"
            ]
          },
          "execution_count": 161,
          "metadata": {},
          "output_type": "execute_result"
        }
      ],
      "source": [
        "X"
      ]
    },
    {
      "attachments": {},
      "cell_type": "markdown",
      "id": "542b5be5",
      "metadata": {
        "id": "542b5be5"
      },
      "source": [
        "3. To verify the integrity of the matrix, we need to calculate its sparsity."
      ]
    },
    {
      "cell_type": "code",
      "execution_count": null,
      "id": "4a89f823",
      "metadata": {
        "colab": {
          "base_uri": "https://localhost:8080/"
        },
        "id": "4a89f823",
        "outputId": "33a271c6-b7b6-4871-b59a-8559f3703bb8"
      },
      "outputs": [
        {
          "name": "stdout",
          "output_type": "stream",
          "text": [
            "Matrix sparsity: 0.113%\n"
          ]
        }
      ],
      "source": [
        "sparsity = X.count_nonzero()/(X.shape[0]*X.shape[1])\n",
        "print(f\"Matrix sparsity: {round(sparsity*100,3)}%\")"
      ]
    },
    {
      "attachments": {},
      "cell_type": "markdown",
      "id": "de6bc5fe",
      "metadata": {
        "id": "de6bc5fe"
      },
      "source": [
        "The sparsity of our matrix has a low value, as expected. It is generally desirable for the percentage to be no lower than 0.5%.\n",
        "\n",
        "4. We are going to ignore some customers in order to increase the sparsity of our matrix and improve our model. These customers are those who have purchased a small number of items because their columns in the matrix will have many zeros. Additionally, people who purchase fewer items are not motivated to buy more products."
      ]
    },
    {
      "attachments": {},
      "cell_type": "markdown",
      "id": "4e149afc",
      "metadata": {
        "id": "4e149afc"
      },
      "source": [
        "To begin, we create a new dataframe that only includes transactions from customers who have made more than a certain number of transactions (denoted by q). It's important to note that the sparsity of the matrix will be affected by the value chosen for q."
      ]
    },
    {
      "attachments": {},
      "cell_type": "markdown",
      "id": "20de0e36",
      "metadata": {
        "id": "20de0e36"
      },
      "source": [
        "keep in mind that reducing the number of customers will result in the loss of a significant amount of information, which could lead to incorrect interpretations. It is important to find a balance between increasing sparsity and preserving as much information as possible."
      ]
    },
    {
      "cell_type": "code",
      "execution_count": null,
      "id": "dec848a0",
      "metadata": {
        "id": "dec848a0"
      },
      "outputs": [],
      "source": [
        "customer_transactions_number_df2 = number_transactions_customer_df[number_transactions_customer_df['Number of Transactions'] > 27]"
      ]
    },
    {
      "cell_type": "code",
      "execution_count": null,
      "id": "2ab2b043",
      "metadata": {
        "id": "2ab2b043"
      },
      "outputs": [],
      "source": [
        "customer_list = list(customer_transactions_number_df2['Customer ID']) #outputs a list with all the IDs of the customers with more than q transactions"
      ]
    },
    {
      "cell_type": "code",
      "execution_count": null,
      "id": "b27faffb",
      "metadata": {
        "id": "b27faffb"
      },
      "outputs": [],
      "source": [
        "ua_transactions_overq = ua_transactions.query('customer_id in @customer_list') #dataframe that contains customer_id, article_id and number \n",
        "                                                                            #of transactions of the people who have done more than q transactions"
      ]
    },
    {
      "attachments": {},
      "cell_type": "markdown",
      "id": "9b31e91a",
      "metadata": {
        "id": "9b31e91a"
      },
      "source": [
        "Just as before, we can now start constructing the main elements of our new matrix.\n"
      ]
    },
    {
      "cell_type": "code",
      "execution_count": null,
      "id": "c8016dbd",
      "metadata": {
        "id": "c8016dbd"
      },
      "outputs": [],
      "source": [
        "N2 = ua_transactions_overq['customer_id'].nunique() #number of unique customers in the new dataframe\n",
        "M2 = ua_transactions_overq['article_id'].nunique() #number of unique articles in the new dataframe"
      ]
    },
    {
      "attachments": {},
      "cell_type": "markdown",
      "id": "cfe41cff",
      "metadata": {
        "id": "cfe41cff"
      },
      "source": [
        "Before creating our matrix, we need to rescale the indexes of both the items and the customers. Since we have removed some customers and items, we need to use a new mapper to rescale the indexes. This is necessary because we have lost some customers and a small number of items."
      ]
    },
    {
      "cell_type": "code",
      "execution_count": null,
      "id": "73164b76",
      "metadata": {
        "id": "73164b76"
      },
      "outputs": [],
      "source": [
        "article_mapper2 = dict(zip(np.unique(ua_transactions_overq['article_id']), list(range(M2))))\n",
        "article_inv_mapper2 = dict(zip(list(range(M2)), np.unique(ua_transactions_overq['article_id'])))\n",
        "\n",
        "article_index2 = [article_mapper2[i] for i in ua_transactions_overq['article_id']] #new indexes for all the articles"
      ]
    },
    {
      "cell_type": "code",
      "execution_count": null,
      "id": "606b13bb",
      "metadata": {
        "id": "606b13bb"
      },
      "outputs": [],
      "source": [
        "customer_mapper2 = dict(zip(np.unique(ua_transactions_overq['customer_id']), list(range(N2))))\n",
        "customer_inv_mapper2 = dict(zip(list(range(N2)), np.unique(ua_transactions_overq['customer_id'])))\n",
        "\n",
        "customer_index2 = [customer_mapper2[i] for i in ua_transactions_overq['customer_id']] #new indexes for all the customers"
      ]
    },
    {
      "attachments": {},
      "cell_type": "markdown",
      "id": "a7dfc255",
      "metadata": {
        "id": "a7dfc255"
      },
      "source": [
        "We are now ready to create the new matrix X2, which will have all customers who have made more than q transactions as columns and items as rows. The values in the matrix will correspond to transactions made by a customer to purchase a particular product."
      ]
    },
    {
      "cell_type": "code",
      "execution_count": null,
      "id": "069e7c16",
      "metadata": {
        "id": "069e7c16"
      },
      "outputs": [],
      "source": [
        "X2 = csr_matrix((ua_transactions_overq[\"transactions\"], (article_index2, customer_index2)), shape=(M2, N2))"
      ]
    },
    {
      "cell_type": "code",
      "execution_count": null,
      "id": "1185c8de",
      "metadata": {
        "colab": {
          "base_uri": "https://localhost:8080/"
        },
        "id": "1185c8de",
        "outputId": "95709f3c-984d-4248-8d6a-06520dc31ebd"
      },
      "outputs": [
        {
          "name": "stdout",
          "output_type": "stream",
          "text": [
            "Matrix sparsity: 0.5799%\n"
          ]
        }
      ],
      "source": [
        "sparsity2 = X2.count_nonzero()/(X2.shape[0]*X2.shape[1])\n",
        "print(f\"Matrix sparsity: {round(sparsity2*100,4)}%\")"
      ]
    },
    {
      "attachments": {},
      "cell_type": "markdown",
      "id": "96aa1d7d",
      "metadata": {
        "id": "96aa1d7d"
      },
      "source": [
        "The latter value represents the highest sparsity we can achieve. We have decided to stop reducing the matrix because further reduction would result in a biased recommendation system. We are aware that this algorithm may not be ideal for our data because the matrix is very sparse. We also exclude all customers who have fewer than 27 transactions. Increasing this number would result in a dataset that is too small."
      ]
    },
    {
      "attachments": {},
      "cell_type": "markdown",
      "id": "33e50666",
      "metadata": {
        "id": "33e50666"
      },
      "source": [
        "5. Now, we can begin constructing our recommendation algorithm using the KNN algorithm. We are working in an M-dimensional space, where M is the number of items in our X matrix.\n",
        "\n",
        "This function finds the k-nearest neighbors for a given item ID and returns a list of k similar item IDs.\n",
        "\n",
        "The inputs are:\n",
        "\n",
        "article_id: the ID of the article of interest\n",
        "X: the user-item utility matrix we have created\n",
        "k: the number of similar articles to be retrieved\n",
        "metric: the distance metric for kNN calculations (in our case, cosine similarity)"
      ]
    },
    {
      "cell_type": "code",
      "execution_count": null,
      "id": "6332f64a",
      "metadata": {
        "id": "6332f64a"
      },
      "outputs": [],
      "source": [
        "from sklearn.neighbors import NearestNeighbors\n",
        "\n",
        "def find_similar_articles(article_id, X, k:int, metric):\n",
        "    neighbour_ids = []\n",
        "    article_ind = article_mapper[article_id]\n",
        "    article_vec = X[article_ind]\n",
        "    kNN = NearestNeighbors(n_neighbors=k+1, algorithm=\"brute\", metric=metric)\n",
        "    kNN.fit(X)\n",
        "    neighbour = kNN.kneighbors(article_vec, return_distance=False)[0]\n",
        "    neighbour_ids = [article_inv_mapper[n] for n in neighbour[1:]]\n",
        "    \n",
        "    if k < 1:\n",
        "        print(f\"The number of articles to be suggested '{k}' you asked is meaningless, you have to ask for at least 1 similar product.\")\n",
        "        return\n",
        "    \n",
        "    if k == 1:\n",
        "        print(f\"\\nSince you bought '{product_dict[article_id]['Color']} {product_dict[article_id]['Name']}' (Id: {article_id}), a product that you could like is:\\n\")\n",
        "    \n",
        "    if k > 1:\n",
        "        print(f\"\\nSince you bought '{product_dict[article_id]['Color']} {product_dict[article_id]['Name']}' (Id: {article_id}), the {k} products that you could like are:\\n\")\n",
        "    \n",
        "    for i in neighbour_ids:\n",
        "        print(f\"{product_dict[i]['Color']} {product_dict[i]['Name']} (Id: {i})\\n\")\n",
        "    \n",
        "    return"
      ]
    },
    {
      "cell_type": "code",
      "execution_count": null,
      "id": "fbec0468",
      "metadata": {
        "colab": {
          "base_uri": "https://localhost:8080/"
        },
        "id": "fbec0468",
        "outputId": "658fc9e8-569d-437c-a1f0-f2b754d225b5"
      },
      "outputs": [
        {
          "name": "stdout",
          "output_type": "stream",
          "text": [
            "The number of articles to be suggested '0' you asked is meaningless, you have to ask for at least 1 similar product.\n"
          ]
        }
      ],
      "source": [
        "article_id = 10\n",
        "\n",
        "similar_ids = find_similar_articles(article_id, X2, 0, metric='cosine')"
      ]
    },
    {
      "cell_type": "code",
      "execution_count": null,
      "id": "67fb82aa",
      "metadata": {
        "colab": {
          "base_uri": "https://localhost:8080/"
        },
        "id": "67fb82aa",
        "outputId": "2b1ba1a9-f9c4-4d6f-ce53-c9990ec3df23"
      },
      "outputs": [
        {
          "name": "stdout",
          "output_type": "stream",
          "text": [
            "\n",
            "Since you bought 'Black OP Strapless^' (Id: 10), the 10 products that you could like are:\n",
            "\n",
            "White TD Hugo slim fit Stretch PQ (Id: 128)\n",
            "\n",
            "Light Pink Maja Cardigan TVP (Id: 818)\n",
            "\n",
            "Greenish Khaki RONNY REG RN T-SHIRT (Id: 891)\n",
            "\n",
            "Light Purple Class Ziggy hoop (Id: 900)\n",
            "\n",
            "Black Florida skirt (Id: 3161)\n",
            "\n",
            "Black Sammy dress (Id: 3643)\n",
            "\n",
            "Black 1pk Fun (Id: 1868)\n",
            "\n",
            "Black Push it Push Bra. (Id: 3644)\n",
            "\n",
            "Yellowish Brown Wisdom Cut Out Bra (Id: 3159)\n",
            "\n",
            "Dark Turquoise Florida skirt (Id: 3165)\n",
            "\n"
          ]
        }
      ],
      "source": [
        "similar_ids2 = find_similar_articles(article_id, X2, k=10, metric='euclidean')"
      ]
    },
    {
      "attachments": {},
      "cell_type": "markdown",
      "id": "38243611",
      "metadata": {
        "id": "38243611"
      },
      "source": [
        "Even though we were able to achieve a sparsity of almost 0.6%, our model may not be highly reliable because our sparsity is not very high. However, we can see that the results of this user-based model differ from those of the content-based model. In this system, the color of the initial product (which represents a physical similarity) does not seem to be as important, as many of the suggested clothes are not the same color as the initial product."
      ]
    },
    {
      "cell_type": "markdown",
      "id": "943252d7",
      "metadata": {
        "id": "943252d7"
      },
      "source": [
        "# NEURAL NETWORK"
      ]
    },
    {
      "attachments": {},
      "cell_type": "markdown",
      "id": "fa0ec961",
      "metadata": {
        "id": "fa0ec961"
      },
      "source": [
        " We will enhance our user recommendation system by utilizing neural networks and matrix factorization techniques."
      ]
    },
    {
      "attachments": {},
      "cell_type": "markdown",
      "id": "ec58ddb9",
      "metadata": {
        "id": "ec58ddb9"
      },
      "source": [
        " We will enhance our user recommendation system by utilizing neural networks and matrix factorization techniques. These techniques will allow us to identify latent features that describe user preferences and item characteristics, which can then be used to make personalized recommendations to users. We believe that using neural networks and matrix factorization will provide a number of benefits, such as the ability to handle large datasets, handle missing data, and incorporate additional information into the recommendation process. For example, if two items have similar latent features, they may be recommended to the same user, even if the user has never explicitly rated those items."
      ]
    },
    {
      "cell_type": "code",
      "execution_count": null,
      "id": "2562eae7",
      "metadata": {
        "id": "2562eae7"
      },
      "outputs": [],
      "source": [
        "import tensorflow as tf"
      ]
    },
    {
      "cell_type": "code",
      "execution_count": null,
      "id": "7d920776",
      "metadata": {
        "colab": {
          "base_uri": "https://localhost:8080/"
        },
        "id": "7d920776",
        "outputId": "33e40e71-d36c-41e9-f425-72f28e4b248e",
        "pycharm": {
          "is_executing": true
        }
      },
      "outputs": [
        {
          "name": "stderr",
          "output_type": "stream",
          "text": [
            "C:\\Users\\Carlo\\AppData\\Local\\Temp\\ipykernel_21380\\3686888355.py:3: SettingWithCopyWarning: \n",
            "A value is trying to be set on a copy of a slice from a DataFrame.\n",
            "Try using .loc[row_indexer,col_indexer] = value instead\n",
            "\n",
            "See the caveats in the documentation: https://pandas.pydata.org/pandas-docs/stable/user_guide/indexing.html#returning-a-view-versus-a-copy\n",
            "  myarticles2['article_id'] = myarticles2['article_id'].map(article_mapper).astype(int)\n"
          ]
        }
      ],
      "source": [
        "ua_transactions['customer_id'] = ua_transactions['customer_id'].map(customer_mapper).astype(int)\n",
        "ua_transactions['article_id'] = ua_transactions['article_id'].map(article_mapper).astype(int)\n",
        "myarticles2['article_id'] = myarticles2['article_id'].map(article_mapper).astype(int)\n",
        "\n",
        "indices = ua_transactions[['customer_id', 'article_id']].values\n",
        "values = ua_transactions['transactions'].values\n",
        "\n",
        "A = tf.SparseTensor(\n",
        "        indices=indices,\n",
        "        values=values,\n",
        "        dense_shape=[N, M])"
      ]
    },
    {
      "cell_type": "markdown",
      "id": "eb10da09",
      "metadata": {
        "id": "eb10da09"
      },
      "source": [
        "### LOSS FUNCTION"
      ]
    },
    {
      "attachments": {},
      "cell_type": "markdown",
      "id": "9f31d666",
      "metadata": {
        "id": "9f31d666"
      },
      "source": [
        " The loss function for this recommender system can be written as follows:\n",
        " Loss = MSE + λr * l2_regularization + λg * gravity_term\n",
        "where MSE is the mean squared error between the true transactions and the model's predictions, l2_regularization is the l2 regularization term for the model parameters (C and V), and gravity_term is the gravity term that helps prevent the model from overfitting to irrelevant transactions. The regularization coefficients λr and λg are hyperparameters that you can tune to achieve the best performance for your model.\n",
        "\n",
        " The MSE term measures the approximation error of the model's predictions and can be calculated as follows:\n",
        "\n",
        "MSE = ∑(A_ij - C_i * V_j)^2\n",
        "where A_ij is the true transaction for customer i and article j, and C_i and V_j are the embeddings for customer i and article j, respectively.\n",
        "\n",
        " The l2 regularization term is used to prevent overfitting by adding a penalty to the loss function based on the magnitude of the model parameters. It is calculated as follows:\n",
        "\n",
        " l2_regularization = ∑(C_i^2 + V_j^2)\n",
        "\n",
        "The gravity term is used to push the prediction of any pair (i, j) towards zero and can be calculated as follows:\n",
        "\n",
        "gravity_term = ∑(C_i * V_j)^2\n",
        "\n",
        "The combination of the MSE term, l2 regularization, and gravity term helps the model make more accurate predictions while also preventing overfitting to irrelevant transactions."
      ]
    },
    {
      "cell_type": "code",
      "execution_count": null,
      "id": "3049cec5",
      "metadata": {
        "id": "3049cec5"
      },
      "outputs": [],
      "source": [
        "def loss_function(sparse_transactions, C, V, lambdar, lambdag):\n",
        "    predictions = tf.reduce_sum(\n",
        "    tf.gather(C, sparse_transactions.indices[:, 0]) *\n",
        "    tf.gather(V, sparse_transactions.indices[:, 1]),\n",
        "    axis=1)\n",
        "    \n",
        "    M_S_E = tf.losses.mean_squared_error(sparse_transactions.values, predictions)\n",
        "\n",
        "\n",
        "    loss_two = (tf.reduce_sum(C*C)/C.shape[0] + \n",
        "                            tf.reduce_sum(V*V)/V.shape[0])\n",
        "    \n",
        "    gravity =  1. / (C.shape[0]*V.shape[0]) * tf.reduce_sum(\n",
        "        tf.matmul(C, C, transpose_a=True) * tf.matmul(V, V, transpose_a=True))\n",
        "\n",
        "\n",
        "    return M_S_E + lambdar * loss_two + lambdag * gravity\n"
      ]
    },
    {
      "attachments": {},
      "cell_type": "markdown",
      "id": "78445798",
      "metadata": {
        "id": "78445798"
      },
      "source": [
        "This loss function calculates the MSE between the true transactions and the model's predictions, as well as the l2 regularization and gravity terms. It then multiplies each of these terms by their corresponding regularization coefficients (lambdar and lambdag) before returning the sum of these three terms, which is the total loss."
      ]
    },
    {
      "cell_type": "code",
      "execution_count": null,
      "id": "2525e38d",
      "metadata": {
        "id": "2525e38d"
      },
      "outputs": [],
      "source": [
        "def divide_dataframe(df, holdout_fraction=0.25):\n",
        "    test = df.sample(frac=holdout_fraction, replace=False)\n",
        "    train = df[~df.index.isin(test.index)]\n",
        "    return train, test"
      ]
    },
    {
      "attachments": {},
      "cell_type": "markdown",
      "id": "42890c46",
      "metadata": {
        "id": "42890c46"
      },
      "source": [
        "Here we split the data into test and train sets."
      ]
    },
    {
      "cell_type": "code",
      "execution_count": null,
      "id": "cb0b8b19",
      "metadata": {
        "id": "cb0b8b19"
      },
      "outputs": [],
      "source": [
        "def sparse_tensor_builder(t):\n",
        "    N = t['customer_id'].max() + 1\n",
        "    M = t['article_id'].max() + 1\n",
        "    indices = t[['customer_id', 'article_id']].values\n",
        "    values = t['transactions'].values\n",
        "    return tf.SparseTensor(\n",
        "        indices=indices,\n",
        "        values=values,\n",
        "        dense_shape=[N, M])"
      ]
    },
    {
      "attachments": {},
      "cell_type": "markdown",
      "id": "cadd1e15",
      "metadata": {
        "id": "cadd1e15"
      },
      "source": [
        "Here we build a matrix with the transactions. We used the tf.sparse.reorder function which sorts the indices of the sparse tensor in increasing order of the row indices and then, within each row, by increasing order of the column indices. This can be helpful for certain operations that are more efficient when the indices are sorted in this way."
      ]
    },
    {
      "cell_type": "code",
      "execution_count": null,
      "id": "51062689",
      "metadata": {
        "id": "51062689"
      },
      "outputs": [],
      "source": [
        "train_transaction, test_transaction = divide_dataframe(ua_transactions)\n",
        "\n",
        "a_train = sparse_tensor_builder(train_transaction)\n",
        "a_test = sparse_tensor_builder(test_transaction)\n",
        "\n",
        "C = tf.Variable(tf.random.normal(\n",
        "    [a_train.dense_shape[0], 10], stddev=.1))\n",
        "V = tf.Variable(tf.random.normal(\n",
        "    [a_train.dense_shape[1], 10], stddev=.1))"
      ]
    },
    {
      "cell_type": "code",
      "execution_count": null,
      "id": "91856151",
      "metadata": {
        "id": "91856151"
      },
      "outputs": [],
      "source": [
        "trainable_weights = [C, V]\n",
        "optimizer = tf.optimizers.Adam(learning_rate=0.5)"
      ]
    },
    {
      "cell_type": "code",
      "execution_count": null,
      "id": "e70f16b1",
      "metadata": {
        "colab": {
          "base_uri": "https://localhost:8080/",
          "height": 282
        },
        "id": "e70f16b1",
        "outputId": "89273d2c-fd0d-408a-b022-ff86e2f8b7ef"
      },
      "outputs": [
        {
          "data": {
            "text/plain": [
              "[<matplotlib.lines.Line2D at 0x16bf3382f80>]"
            ]
          },
          "execution_count": 181,
          "metadata": {},
          "output_type": "execute_result"
        },
        {
          "data": {
            "image/png": "[encoded data removed]",
            "text/plain": [
              "<Figure size 432x288 with 1 Axes>"
            ]
          },
          "metadata": {},
          "output_type": "display_data"
        }
      ],
      "source": [
        "training_losses = []\n",
        "test_losses = []\n",
        "for step in range(100):\n",
        "    with tf.GradientTape() as tape:\n",
        "        loss = loss_function(a_train, C, V, lambdar=0.1, lambdag=0.001)\n",
        "    grads = tape.gradient(loss, trainable_weights)\n",
        "    optimizer.apply_gradients(zip(grads, trainable_weights))\n",
        "    training_losses.append(loss)\n",
        "    test_losses.append(loss_function(a_test, C, V, lambdar=0.1, lambdag=0.001))\n",
        "    #lambda r is the coefficient that regulates the l2 regularization\n",
        "    #lambda g is the coefficient that mangaes the gravity term\n",
        "    \n",
        "plt.plot(training_losses)\n",
        "plt.plot(test_losses) "
      ]
    },
    {
      "attachments": {},
      "cell_type": "markdown",
      "id": "ce2bad2a",
      "metadata": {
        "id": "ce2bad2a"
      },
      "source": [
        "In this code, we split the training set into mini-batches and use each mini-batch to compute the gradient of the loss function. We then update the model weights using the optimizer. We repeat this process for a fixed number of epochs."
      ]
    },
    {
      "attachments": {},
      "cell_type": "markdown",
      "id": "a656ce29",
      "metadata": {
        "id": "a656ce29"
      },
      "source": [
        "The following function computes the scores of candidates given a query. The inputs of the function are:\n",
        "\n",
        "query_embedding: a vector of shape [k], representing the query embedding.\n",
        "item_embeddings: a matrix of shape [N, k], such that row i is the embedding of item i.\n",
        "measure: a string specifying the similarity measure to be used (dot, cosine).\n",
        "The function outputs a vector of shape N, such that scores[i] is the score of item i."
      ]
    },
    {
      "cell_type": "code",
      "execution_count": null,
      "id": "f235ec23",
      "metadata": {
        "id": "f235ec23"
      },
      "outputs": [],
      "source": [
        "def score_results(query_embedding, item_embeddings, measure='dot'):\n",
        "    c = query_embedding\n",
        "    V = item_embeddings\n",
        "    if measure == 'cosine':\n",
        "        V = V / np.linalg.norm(V, axis=1, keepdims=True)\n",
        "        c = c / np.linalg.norm(c)\n",
        "    scores = tf.experimental.numpy.dot(c, V.numpy().transpose())\n",
        "    return scores"
      ]
    },
    {
      "cell_type": "code",
      "execution_count": null,
      "id": "564e27bb",
      "metadata": {
        "id": "564e27bb"
      },
      "outputs": [],
      "source": [
        "def customer_advices(C,V,id, measure, k: int, exclude_rated=True):\n",
        "    scores = score_results(C[id], V, measure)\n",
        "    score_key = measure + 'score'\n",
        "    df = pd.DataFrame({\n",
        "        score_key: list(scores.numpy()),\n",
        "        'article_id': myarticles2['article_id'],\n",
        "        'prod_name': myarticles2['prod_name'],\n",
        "    })\n",
        "    if exclude_rated:       # here we remove articles that are already bought\n",
        "      bought_articles = ua_transactions[ua_transactions.customer_id == id][\"article_id\"].values\n",
        "      df = df[df.article_id.apply(lambda article_id: article_id not in bought_articles)]\n",
        "    final_result = df.sort_values([score_key], ascending=False).head(k)  \n",
        "    \n",
        "    already_bought = ua_transactions[ua_transactions['customer_id'] == id]\n",
        "    already_bought_list = list(already_bought['article_id'])\n",
        "    \n",
        "    print(f\"advices for customer: {id}:\\n\")\n",
        "    print(f\"The user {id} already bought:\")\n",
        "    \n",
        "    for i in already_bought_list:\n",
        "        print(f\"\\n{product_dict[i]['Color']} {product_dict[i]['Name']} (Id: {i})\")\n",
        "    print(\"\\n\\n\")\n",
        "    \n",
        "    final_result_list = list(final_result['article_id'])\n",
        "    \n",
        "    if k < 1:\n",
        "        print(f\"The number of articles to be suggested, '{k}', is invalid. You must request at least one similar product.\")\n",
        "        return\n",
        "\n",
        "    if k == 1:\n",
        "        print(\"The most recommended article for the user is:\")\n",
        "    else:\n",
        "        print(f\"The most recommended {k} articles for the user are:\")\n",
        "    \n",
        "    for i in final_result_list:\n",
        "        print(f\"\\n{product_dict[i]['Color']} {product_dict[i]['Name']} (Id: {i})\")\n",
        "    \n",
        "    return "
      ]
    },
    {
      "cell_type": "code",
      "execution_count": null,
      "id": "d60b9179",
      "metadata": {
        "colab": {
          "base_uri": "https://localhost:8080/"
        },
        "id": "d60b9179",
        "outputId": "b37cf515-0886-431b-9b4a-51eb12a7ac2d"
      },
      "outputs": [
        {
          "name": "stdout",
          "output_type": "stream",
          "text": [
            "advices for customer: 20:\n",
            "\n",
            "The user 20 already bought:\n",
            "\n",
            "Dark Beige Hat Frank Fedora(1) (Id: 126)\n",
            "\n",
            "Black KATE PQ ballerina (Id: 492)\n",
            "\n",
            "Black Charlotte Unpadded Wire (Id: 989)\n",
            "\n",
            "Black Evie padded softbra 2p (Id: 1327)\n",
            "\n",
            "Dark Green Manchester dress (Id: 3376)\n",
            "\n",
            "Beige Calypso brazilian V-shape (Id: 4348)\n",
            "\n",
            "Black Great Dane slim trouser (Id: 4523)\n",
            "\n",
            "Black Nancy rib LS (Id: 6293)\n",
            "\n",
            "\n",
            "\n",
            "The most recommended 5 articles for the user are:\n",
            "\n",
            "Black ED Gigi HW shorts (Id: 3105)\n",
            "\n",
            "Beige Box 4p Kneehighs (Id: 15)\n",
            "\n",
            "Black Perrie Slim Mom Denim TRS (Id: 167)\n",
            "\n",
            "Black 200 den 1p leggings (Id: 8)\n",
            "\n",
            "Light Beige PQ HAMPTON WOOL POLO (Id: 5483)\n"
          ]
        }
      ],
      "source": [
        "n_products = 5\n",
        "customer_advices(C,V,20, measure = 'dot', k = n_products)"
      ]
    },
    {
      "cell_type": "code",
      "execution_count": null,
      "id": "7fd7d78b",
      "metadata": {
        "colab": {
          "base_uri": "https://localhost:8080/"
        },
        "id": "7fd7d78b",
        "outputId": "569406d3-b10b-4eda-eded-c1b6892fe648",
        "scrolled": true
      },
      "outputs": [
        {
          "name": "stdout",
          "output_type": "stream",
          "text": [
            "advices for customer: 20:\n",
            "\n",
            "The user 20 already bought:\n",
            "\n",
            "Dark Beige Hat Frank Fedora(1) (Id: 126)\n",
            "\n",
            "Black KATE PQ ballerina (Id: 492)\n",
            "\n",
            "Black Charlotte Unpadded Wire (Id: 989)\n",
            "\n",
            "Black Evie padded softbra 2p (Id: 1327)\n",
            "\n",
            "Dark Green Manchester dress (Id: 3376)\n",
            "\n",
            "Beige Calypso brazilian V-shape (Id: 4348)\n",
            "\n",
            "Black Great Dane slim trouser (Id: 4523)\n",
            "\n",
            "Black Nancy rib LS (Id: 6293)\n",
            "\n",
            "\n",
            "\n",
            "The most recommended 5 articles for the user are:\n",
            "\n",
            "Light Yellow Claudine (Id: 1775)\n",
            "\n",
            "Other Purple Beata aliceband (Id: 1162)\n",
            "\n",
            "Grey Maltese FUP (Id: 4007)\n",
            "\n",
            "Greenish Khaki Stature skinny cargo pant (Id: 1696)\n",
            "\n",
            "White SPEED Ellinor top (Id: 4377)\n"
          ]
        }
      ],
      "source": [
        "number_of_products = 5\n",
        "customer_advices(C,V,20,measure = 'cosine',k = n_products)"
      ]
    }
  ],
  "metadata": {
    "colab": {
      "provenance": []
    },
    "kernelspec": {
      "display_name": "Python 3",
      "language": "python",
      "name": "python3"
    },
    "language_info": {
      "codemirror_mode": {
        "name": "ipython",
        "version": 3
      },
      "file_extension": ".py",
      "mimetype": "text/x-python",
      "name": "python",
      "nbconvert_exporter": "python",
      "pygments_lexer": "ipython3",
      "version": "3.10.8"
    },
    "vscode": {
      "interpreter": {
        "hash": "ffd29b6596d4dd4744c4e1a4f6d644738d02327736f7916a67be344ec3057201"
      }
    }
  },
  "nbformat": 4,
  "nbformat_minor": 5
}
